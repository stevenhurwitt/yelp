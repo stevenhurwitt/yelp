{
 "metadata": {
  "language_info": {
   "codemirror_mode": {
    "name": "ipython",
    "version": 3
   },
   "file_extension": ".py",
   "mimetype": "text/x-python",
   "name": "python",
   "nbconvert_exporter": "python",
   "pygments_lexer": "ipython3",
   "version": "3.9.2-final"
  },
  "orig_nbformat": 2,
  "kernelspec": {
   "name": "python3",
   "display_name": "Python 3",
   "language": "python"
  }
 },
 "nbformat": 4,
 "nbformat_minor": 2,
 "cells": [
  {
   "source": [
    "# yelp data ingestion"
   ],
   "cell_type": "markdown",
   "metadata": {}
  },
  {
   "cell_type": "code",
   "execution_count": 28,
   "metadata": {},
   "outputs": [
    {
     "output_type": "stream",
     "name": "stdout",
     "text": [
      "imported modules.\n"
     ]
    }
   ],
   "source": [
    "import pprint\n",
    "import boto3\n",
    "import json\n",
    "import sys\n",
    "import os\n",
    "\n",
    "pp = pprint.PrettyPrinter(indent = 3)\n",
    "print('imported modules.')"
   ]
  },
  {
   "source": [
    "## connect to s3 & list files"
   ],
   "cell_type": "markdown",
   "metadata": {}
  },
  {
   "cell_type": "code",
   "execution_count": 2,
   "metadata": {},
   "outputs": [
    {
     "output_type": "stream",
     "name": "stdout",
     "text": [
      "files in s3 bucket:\n\nyelp_academic_dataset_business.json\nyelp_academic_dataset_checkin.json\nyelp_academic_dataset_tip.json\n"
     ]
    }
   ],
   "source": [
    "client = boto3.client('s3')\n",
    "\n",
    "bucket_meta = client.list_objects(Bucket = 'yelp-academic-dataset-123')\n",
    "print('files in s3 bucket:')\n",
    "print('')\n",
    "for c in bucket_meta['Contents']:\n",
    "    print(c['Key'])"
   ]
  },
  {
   "source": [
    "## function to read json from s3"
   ],
   "cell_type": "markdown",
   "metadata": {}
  },
  {
   "cell_type": "code",
   "execution_count": 25,
   "metadata": {},
   "outputs": [],
   "source": [
    "def read_json(filename):\n",
    "    \"\"\"\n",
    "    read's a yelp .json file from s3 bucket.\n",
    "\n",
    "    keyword arguments:\n",
    "    filename - name of file (str)\n",
    "\n",
    "    returns: json_file (json)\n",
    "    \"\"\"\n",
    "\n",
    "    response = client.get_object(Bucket = 'yelp-academic-dataset-123', Key = filename)\n",
    "    file_content = response['Body'].read().decode('utf-8')\n",
    "    json_file = json.loads(\"[\" + file_content.replace(\"}\\n{\", \"},\\n{\") + \"]\")\n",
    "    return(json_file)"
   ]
  },
  {
   "source": [
    "## business"
   ],
   "cell_type": "markdown",
   "metadata": {}
  },
  {
   "cell_type": "code",
   "execution_count": 26,
   "metadata": {},
   "outputs": [
    {
     "output_type": "stream",
     "name": "stdout",
     "text": [
      "read in json file.\n"
     ]
    }
   ],
   "source": [
    "business = read_json('yelp_academic_dataset_business.json')\n",
    "print('read in json file.')"
   ]
  },
  {
   "cell_type": "code",
   "execution_count": 31,
   "metadata": {},
   "outputs": [
    {
     "output_type": "stream",
     "name": "stdout",
     "text": [
      "json file has 160585 records with size of 1.443576 gb.\nhere is an example record:\n\n{  'address': '921 Pearl St',\n   'attributes': {  'Alcohol': \"'beer_and_wine'\",\n                    'Ambience': \"{'touristy': False, 'hipster': False, \"\n                                \"'romantic': False, 'divey': False, \"\n                                \"'intimate': False, 'trendy': False, \"\n                                \"'upscale': False, 'classy': False, 'casual': \"\n                                'True}',\n                    'BikeParking': 'True',\n                    'BusinessAcceptsBitcoin': 'False',\n                    'BusinessAcceptsCreditCards': 'True',\n                    'BusinessParking': \"{'garage': False, 'street': True, \"\n                                       \"'validated': False, 'lot': False, \"\n                                       \"'valet': False}\",\n                    'Caters': 'True',\n                    'DogsAllowed': 'False',\n                    'GoodForMeal': \"{'dessert': False, 'latenight': False, \"\n                                   \"'lunch': False, 'dinner': False, 'brunch': \"\n                                   \"False, 'breakfast': False}\",\n                    'HappyHour': 'True',\n                    'HasTV': 'True',\n                    'NoiseLevel': \"u'average'\",\n                    'OutdoorSeating': 'True',\n                    'RestaurantsAttire': \"'casual'\",\n                    'RestaurantsDelivery': 'None',\n                    'RestaurantsGoodForGroups': 'True',\n                    'RestaurantsPriceRange2': '2',\n                    'RestaurantsReservations': 'False',\n                    'RestaurantsTableService': 'True',\n                    'RestaurantsTakeOut': 'True',\n                    'WheelchairAccessible': 'True',\n                    'WiFi': \"u'free'\"},\n   'business_id': '6iYb2HFDywm3zjuRg0shjw',\n   'categories': 'Gastropubs, Food, Beer Gardens, Restaurants, Bars, American '\n                 '(Traditional), Beer Bar, Nightlife, Breweries',\n   'city': 'Boulder',\n   'hours': {  'Friday': '11:0-23:0',\n               'Monday': '11:0-23:0',\n               'Saturday': '11:0-23:0',\n               'Sunday': '11:0-23:0',\n               'Thursday': '11:0-23:0',\n               'Tuesday': '11:0-23:0',\n               'Wednesday': '11:0-23:0'},\n   'is_open': 1,\n   'latitude': 40.0175444,\n   'longitude': -105.2833481,\n   'name': 'Oskar Blues Taproom',\n   'postal_code': '80302',\n   'review_count': 86,\n   'stars': 4.0,\n   'state': 'CO'}\n"
     ]
    }
   ],
   "source": [
    "print('json file has {} records with size of {} gb.'.format(len(business), sys.getsizeof(business)/1000000))\n",
    "print('here is an example record:')\n",
    "print('')\n",
    "pp.pprint(business[0])"
   ]
  },
  {
   "source": [
    "## checkin"
   ],
   "cell_type": "markdown",
   "metadata": {}
  },
  {
   "cell_type": "code",
   "execution_count": 32,
   "metadata": {},
   "outputs": [
    {
     "output_type": "stream",
     "name": "stdout",
     "text": [
      "read in json file.\n"
     ]
    }
   ],
   "source": [
    "checkin = read_json('yelp_academic_dataset_checkin.json')\n",
    "print('read in json file.')"
   ]
  },
  {
   "cell_type": "code",
   "execution_count": 33,
   "metadata": {},
   "outputs": [
    {
     "output_type": "stream",
     "name": "stdout",
     "text": [
      "json file has 138876 records with size of 1.140568 gb.\nhere is an example record:\n\n{'business_id': '--0r8K_AQ4FZfLsX3ZYRDA', 'date': '2017-09-03 17:13:59'}\n"
     ]
    }
   ],
   "source": [
    "print('json file has {} records with size of {} gb.'.format(len(checkin), sys.getsizeof(checkin)/1000000))\n",
    "print('here is an example record:')\n",
    "print('')\n",
    "pp.pprint(checkin[0])"
   ]
  },
  {
   "source": [
    "## tip"
   ],
   "cell_type": "markdown",
   "metadata": {}
  },
  {
   "cell_type": "code",
   "execution_count": 34,
   "metadata": {},
   "outputs": [
    {
     "output_type": "stream",
     "name": "stdout",
     "text": [
      "read in json file.\n"
     ]
    }
   ],
   "source": [
    "tip = read_json('yelp_academic_dataset_tip.json')\n",
    "print('read in json file.')"
   ]
  },
  {
   "cell_type": "code",
   "execution_count": 35,
   "metadata": {},
   "outputs": [
    {
     "output_type": "stream",
     "name": "stdout",
     "text": [
      "json file has 1162119 records with size of 9.504856 gb.\nhere is an example record:\n\n{  'business_id': 'ENwBByjpoa5Gg7tKgxqwLg',\n   'compliment_count': 0,\n   'date': '2011-07-22 19:07:35',\n   'text': 'Carne asada chips...',\n   'user_id': 'WCjg0jdHXMlwbqS9tZUx8Q'}\n"
     ]
    }
   ],
   "source": [
    "print('json file has {} records with size of {} gb.'.format(len(tip), sys.getsizeof(tip)/1000000))\n",
    "print('here is an example record:')\n",
    "print('')\n",
    "pp.pprint(tip[0])"
   ]
  },
  {
   "source": [
    "## user"
   ],
   "cell_type": "markdown",
   "metadata": {}
  },
  {
   "cell_type": "code",
   "execution_count": null,
   "metadata": {},
   "outputs": [],
   "source": [
    "user = read_json('yelp_academic_dataset_user.json')\n",
    "print('read in json file.')"
   ]
  },
  {
   "cell_type": "code",
   "execution_count": null,
   "metadata": {},
   "outputs": [],
   "source": [
    "print('json file has {} records with size of {} gb.'.format(len(user), sys.getsizeof(user)/1000000))\n",
    "print('here is an example record:')\n",
    "print('')\n",
    "pp.pprint(user[0])"
   ]
  },
  {
   "source": [
    "## review"
   ],
   "cell_type": "markdown",
   "metadata": {}
  },
  {
   "cell_type": "code",
   "execution_count": null,
   "metadata": {},
   "outputs": [],
   "source": [
    "review = read_json('yelp_academic_dataset_review.json')\n",
    "print('read in json file.')"
   ]
  },
  {
   "cell_type": "code",
   "execution_count": null,
   "metadata": {},
   "outputs": [],
   "source": [
    "print('json file has {} records with size of {} gb.'.format(len(review), sys.getsizeof(review)/1000000))\n",
    "print('here is an example record:')\n",
    "print('')\n",
    "pp.pprint(review[0])"
   ]
  }
 ]
}