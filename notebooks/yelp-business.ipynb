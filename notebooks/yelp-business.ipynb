{
 "cells": [
  {
   "attachments": {},
   "cell_type": "markdown",
   "metadata": {},
   "source": [
    "## spark read s3 delta"
   ]
  },
  {
   "cell_type": "code",
   "execution_count": 1,
   "metadata": {},
   "outputs": [
    {
     "ename": "ModuleNotFoundError",
     "evalue": "No module named 'pyspark.resource'",
     "output_type": "error",
     "traceback": [
      "\u001b[0;31m---------------------------------------------------------------------------\u001b[0m",
      "\u001b[0;31mModuleNotFoundError\u001b[0m                       Traceback (most recent call last)",
      "Cell \u001b[0;32mIn[1], line 1\u001b[0m\n\u001b[0;32m----> 1\u001b[0m \u001b[39mfrom\u001b[39;00m \u001b[39mpyspark\u001b[39;00m\u001b[39m.\u001b[39;00m\u001b[39msql\u001b[39;00m \u001b[39mimport\u001b[39;00m functions \u001b[39mas\u001b[39;00m F\n\u001b[1;32m      2\u001b[0m \u001b[39mfrom\u001b[39;00m \u001b[39mpyspark\u001b[39;00m\u001b[39m.\u001b[39;00m\u001b[39msql\u001b[39;00m \u001b[39mimport\u001b[39;00m types \u001b[39mas\u001b[39;00m T\n\u001b[1;32m      3\u001b[0m \u001b[39mfrom\u001b[39;00m \u001b[39mpyspark\u001b[39;00m\u001b[39m.\u001b[39;00m\u001b[39msql\u001b[39;00m \u001b[39mimport\u001b[39;00m Window, Row\n",
      "File \u001b[0;32m~/Documents/yelp/yelp/lib/python3.10/site-packages/pyspark/__init__.py:59\u001b[0m\n\u001b[1;32m     54\u001b[0m filterwarnings(\n\u001b[1;32m     55\u001b[0m     \u001b[39m\"\u001b[39m\u001b[39mignore\u001b[39m\u001b[39m\"\u001b[39m, message\u001b[39m=\u001b[39m\u001b[39m\"\u001b[39m\u001b[39mdistutils Version classes are deprecated. Use packaging.version instead.\u001b[39m\u001b[39m\"\u001b[39m\n\u001b[1;32m     56\u001b[0m )\n\u001b[1;32m     58\u001b[0m \u001b[39mfrom\u001b[39;00m \u001b[39mpyspark\u001b[39;00m\u001b[39m.\u001b[39;00m\u001b[39mconf\u001b[39;00m \u001b[39mimport\u001b[39;00m SparkConf\n\u001b[0;32m---> 59\u001b[0m \u001b[39mfrom\u001b[39;00m \u001b[39mpyspark\u001b[39;00m\u001b[39m.\u001b[39;00m\u001b[39mrdd\u001b[39;00m \u001b[39mimport\u001b[39;00m RDD, RDDBarrier\n\u001b[1;32m     60\u001b[0m \u001b[39mfrom\u001b[39;00m \u001b[39mpyspark\u001b[39;00m\u001b[39m.\u001b[39;00m\u001b[39mfiles\u001b[39;00m \u001b[39mimport\u001b[39;00m SparkFiles\n\u001b[1;32m     61\u001b[0m \u001b[39mfrom\u001b[39;00m \u001b[39mpyspark\u001b[39;00m\u001b[39m.\u001b[39;00m\u001b[39mstatus\u001b[39;00m \u001b[39mimport\u001b[39;00m StatusTracker, SparkJobInfo, SparkStageInfo\n",
      "File \u001b[0;32m~/Documents/yelp/yelp/lib/python3.10/site-packages/pyspark/rdd.py:78\u001b[0m\n\u001b[1;32m     76\u001b[0m \u001b[39mfrom\u001b[39;00m \u001b[39mpyspark\u001b[39;00m\u001b[39m.\u001b[39;00m\u001b[39mrddsampler\u001b[39;00m \u001b[39mimport\u001b[39;00m RDDSampler, RDDRangeSampler, RDDStratifiedSampler\n\u001b[1;32m     77\u001b[0m \u001b[39mfrom\u001b[39;00m \u001b[39mpyspark\u001b[39;00m\u001b[39m.\u001b[39;00m\u001b[39mstoragelevel\u001b[39;00m \u001b[39mimport\u001b[39;00m StorageLevel\n\u001b[0;32m---> 78\u001b[0m \u001b[39mfrom\u001b[39;00m \u001b[39mpyspark\u001b[39;00m\u001b[39m.\u001b[39;00m\u001b[39mresource\u001b[39;00m\u001b[39m.\u001b[39;00m\u001b[39mrequests\u001b[39;00m \u001b[39mimport\u001b[39;00m ExecutorResourceRequests, TaskResourceRequests\n\u001b[1;32m     79\u001b[0m \u001b[39mfrom\u001b[39;00m \u001b[39mpyspark\u001b[39;00m\u001b[39m.\u001b[39;00m\u001b[39mresource\u001b[39;00m\u001b[39m.\u001b[39;00m\u001b[39mprofile\u001b[39;00m \u001b[39mimport\u001b[39;00m ResourceProfile\n\u001b[1;32m     80\u001b[0m \u001b[39mfrom\u001b[39;00m \u001b[39mpyspark\u001b[39;00m\u001b[39m.\u001b[39;00m\u001b[39mresultiterable\u001b[39;00m \u001b[39mimport\u001b[39;00m ResultIterable\n",
      "\u001b[0;31mModuleNotFoundError\u001b[0m: No module named 'pyspark.resource'"
     ]
    }
   ],
   "source": [
    "from pyspark.sql import functions as F\n",
    "from pyspark.sql import types as T\n",
    "from pyspark.sql import Window, Row\n",
    "\n",
    "from PyQt5.QtWidgets import QApplication\n",
    "from PyQt5.QtWebEngineWidgets import QWebEngineView\n",
    "import pandas as pd\n",
    "from pyspark.sql import SparkSession\n",
    "from iPython import display\n",
    "\n",
    "import pprint\n",
    "import boto3\n",
    "import json\n",
    "import os\n",
    "\n",
    "pp = pprint.PrettyPrinter(indent = 3)\n",
    "print('imported modules.')"
   ]
  },
  {
   "cell_type": "code",
   "execution_count": 2,
   "metadata": {},
   "outputs": [
    {
     "ename": "NameError",
     "evalue": "name 'boto3' is not defined",
     "output_type": "error",
     "traceback": [
      "\u001b[0;31m---------------------------------------------------------------------------\u001b[0m",
      "\u001b[0;31mNameError\u001b[0m                                 Traceback (most recent call last)",
      "Cell \u001b[0;32mIn[2], line 1\u001b[0m\n\u001b[0;32m----> 1\u001b[0m client \u001b[39m=\u001b[39m boto3\u001b[39m.\u001b[39mclient(\u001b[39m'\u001b[39m\u001b[39ms3\u001b[39m\u001b[39m'\u001b[39m)\n\u001b[1;32m      3\u001b[0m bucket_meta \u001b[39m=\u001b[39m client\u001b[39m.\u001b[39mlist_objects(Bucket \u001b[39m=\u001b[39m \u001b[39m'\u001b[39m\u001b[39myelp-dataset-stevenhurwitt\u001b[39m\u001b[39m'\u001b[39m)\n\u001b[1;32m      4\u001b[0m \u001b[39mprint\u001b[39m(\u001b[39m'\u001b[39m\u001b[39mfiles in s3 bucket:\u001b[39m\u001b[39m'\u001b[39m)\n",
      "\u001b[0;31mNameError\u001b[0m: name 'boto3' is not defined"
     ]
    }
   ],
   "source": [
    "client = boto3.client('s3')\n",
    "\n",
    "bucket_meta = client.list_objects(Bucket = 'yelp-dataset-stevenhurwitt')\n",
    "print('files in s3 bucket:')\n",
    "print('')\n",
    "for c in bucket_meta['Contents']:\n",
    "    print(c['Key'])"
   ]
  },
  {
   "cell_type": "code",
   "execution_count": 3,
   "metadata": {},
   "outputs": [],
   "source": [
    "def read_json(filename):\n",
    "    \"\"\"\n",
    "    reads a yelp .json file from s3 bucket.\n",
    "\n",
    "    keyword arguments:\n",
    "    filename - name of file (str)\n",
    "\n",
    "    returns: json_file (json)\n",
    "    \"\"\"\n",
    "\n",
    "    response = client.get_object(Bucket = 'yelp-academic-dataset-stevenhurwitt', Key = filename)\n",
    "    file_content = response['Body'].read().decode('utf-8')\n",
    "    json_file = json.loads(\"[\" + file_content.replace(\"}\\n{\", \"},\\n{\") + \"]\")\n",
    "    return(json_file)"
   ]
  },
  {
   "cell_type": "code",
   "execution_count": 4,
   "metadata": {},
   "outputs": [
    {
     "ename": "NameError",
     "evalue": "name 'boto3' is not defined",
     "output_type": "error",
     "traceback": [
      "\u001b[0;31m---------------------------------------------------------------------------\u001b[0m",
      "\u001b[0;31mNameError\u001b[0m                                 Traceback (most recent call last)",
      "Cell \u001b[0;32mIn[4], line 1\u001b[0m\n\u001b[0;32m----> 1\u001b[0m dynamodb \u001b[39m=\u001b[39m boto3\u001b[39m.\u001b[39mresource(\u001b[39m'\u001b[39m\u001b[39mdynamodb\u001b[39m\u001b[39m'\u001b[39m, endpoint_url\u001b[39m=\u001b[39m\u001b[39m\"\u001b[39m\u001b[39mhttps://us-east-2.console.aws.amazon.com?arn=arn:aws:dynamodb:us-east-2134132211607:8000\u001b[39m\u001b[39m\"\u001b[39m)\n",
      "\u001b[0;31mNameError\u001b[0m: name 'boto3' is not defined"
     ]
    }
   ],
   "source": [
    "dynamodb = boto3.resource('dynamodb', endpoint_url=\"https://us-east-2.console.aws.amazon.com?arn=arn:aws:dynamodb:us-east-2134132211607:8000\")"
   ]
  },
  {
   "cell_type": "code",
   "execution_count": 5,
   "metadata": {},
   "outputs": [
    {
     "ename": "NameError",
     "evalue": "name 'dynamodb' is not defined",
     "output_type": "error",
     "traceback": [
      "\u001b[0;31m---------------------------------------------------------------------------\u001b[0m",
      "\u001b[0;31mNameError\u001b[0m                                 Traceback (most recent call last)",
      "Cell \u001b[0;32mIn[5], line 1\u001b[0m\n\u001b[0;32m----> 1\u001b[0m yelp_business \u001b[39m=\u001b[39m dynamodb\u001b[39m.\u001b[39mcreate_table(\n\u001b[1;32m      2\u001b[0m         TableName\u001b[39m=\u001b[39m\u001b[39m'\u001b[39m\u001b[39myelp.business\u001b[39m\u001b[39m'\u001b[39m,\n\u001b[1;32m      3\u001b[0m         KeySchema\u001b[39m=\u001b[39m[\n\u001b[1;32m      4\u001b[0m             {\n\u001b[1;32m      5\u001b[0m                 \u001b[39m'\u001b[39m\u001b[39mAttributeName\u001b[39m\u001b[39m'\u001b[39m: \u001b[39m'\u001b[39m\u001b[39mbusiness_id\u001b[39m\u001b[39m'\u001b[39m,\n\u001b[1;32m      6\u001b[0m                 \u001b[39m'\u001b[39m\u001b[39mKeyType\u001b[39m\u001b[39m'\u001b[39m: \u001b[39m'\u001b[39m\u001b[39mHASH\u001b[39m\u001b[39m'\u001b[39m  \u001b[39m# Partition key\u001b[39;00m\n\u001b[1;32m      7\u001b[0m             }\n\u001b[1;32m      8\u001b[0m         ],\n\u001b[1;32m      9\u001b[0m         AttributeDefinitions\u001b[39m=\u001b[39m[\n\u001b[1;32m     10\u001b[0m             {\n\u001b[1;32m     11\u001b[0m                 \u001b[39m'\u001b[39m\u001b[39mAttributeName\u001b[39m\u001b[39m'\u001b[39m: \u001b[39m'\u001b[39m\u001b[39mname\u001b[39m\u001b[39m'\u001b[39m,\n\u001b[1;32m     12\u001b[0m                 \u001b[39m'\u001b[39m\u001b[39mAttributeType\u001b[39m\u001b[39m'\u001b[39m: \u001b[39m'\u001b[39m\u001b[39mS\u001b[39m\u001b[39m'\u001b[39m\n\u001b[1;32m     13\u001b[0m             }\n\u001b[1;32m     14\u001b[0m         ],\n\u001b[1;32m     15\u001b[0m         ProvisionedThroughput\u001b[39m=\u001b[39m{\n\u001b[1;32m     16\u001b[0m             \u001b[39m'\u001b[39m\u001b[39mReadCapacityUnits\u001b[39m\u001b[39m'\u001b[39m: \u001b[39m25\u001b[39m,\n\u001b[1;32m     17\u001b[0m             \u001b[39m'\u001b[39m\u001b[39mWriteCapacityUnits\u001b[39m\u001b[39m'\u001b[39m: \u001b[39m20\u001b[39m\n\u001b[1;32m     18\u001b[0m         }\n\u001b[1;32m     19\u001b[0m     )\n\u001b[1;32m     20\u001b[0m \u001b[39mprint\u001b[39m(\u001b[39m'\u001b[39m\u001b[39mcreated dynamo table.\u001b[39m\u001b[39m'\u001b[39m)\n",
      "\u001b[0;31mNameError\u001b[0m: name 'dynamodb' is not defined"
     ]
    }
   ],
   "source": [
    "yelp_business = dynamodb.create_table(\n",
    "        TableName='yelp.business',\n",
    "        KeySchema=[\n",
    "            {\n",
    "                'AttributeName': 'business_id',\n",
    "                'KeyType': 'HASH'  # Partition key\n",
    "            }\n",
    "        ],\n",
    "        AttributeDefinitions=[\n",
    "            {\n",
    "                'AttributeName': 'name',\n",
    "                'AttributeType': 'S'\n",
    "            }\n",
    "        ],\n",
    "        ProvisionedThroughput={\n",
    "            'ReadCapacityUnits': 25,\n",
    "            'WriteCapacityUnits': 20\n",
    "        }\n",
    "    )\n",
    "print('created dynamo table.')"
   ]
  },
  {
   "cell_type": "code",
   "execution_count": 6,
   "metadata": {},
   "outputs": [
    {
     "ename": "NameError",
     "evalue": "name 'client' is not defined",
     "output_type": "error",
     "traceback": [
      "\u001b[0;31m---------------------------------------------------------------------------\u001b[0m",
      "\u001b[0;31mNameError\u001b[0m                                 Traceback (most recent call last)",
      "Cell \u001b[0;32mIn[6], line 1\u001b[0m\n\u001b[0;32m----> 1\u001b[0m business \u001b[39m=\u001b[39m read_json(\u001b[39m'\u001b[39;49m\u001b[39ms3a://yelp-dataset-stevenhurwitt/yelp_academic_dataset_business.json\u001b[39;49m\u001b[39m'\u001b[39;49m)\n\u001b[1;32m      2\u001b[0m business\u001b[39m.\u001b[39mhead()\n\u001b[1;32m      3\u001b[0m \u001b[39mprint\u001b[39m(\u001b[39m'\u001b[39m\u001b[39mread in json file.\u001b[39m\u001b[39m'\u001b[39m)\n",
      "Cell \u001b[0;32mIn[3], line 11\u001b[0m, in \u001b[0;36mread_json\u001b[0;34m(filename)\u001b[0m\n\u001b[1;32m      1\u001b[0m \u001b[39mdef\u001b[39;00m \u001b[39mread_json\u001b[39m(filename):\n\u001b[1;32m      2\u001b[0m \u001b[39m    \u001b[39m\u001b[39m\"\"\"\u001b[39;00m\n\u001b[1;32m      3\u001b[0m \u001b[39m    reads a yelp .json file from s3 bucket.\u001b[39;00m\n\u001b[1;32m      4\u001b[0m \n\u001b[0;32m   (...)\u001b[0m\n\u001b[1;32m      8\u001b[0m \u001b[39m    returns: json_file (json)\u001b[39;00m\n\u001b[1;32m      9\u001b[0m \u001b[39m    \"\"\"\u001b[39;00m\n\u001b[0;32m---> 11\u001b[0m     response \u001b[39m=\u001b[39m client\u001b[39m.\u001b[39mget_object(Bucket \u001b[39m=\u001b[39m \u001b[39m'\u001b[39m\u001b[39myelp-academic-dataset-stevenhurwitt\u001b[39m\u001b[39m'\u001b[39m, Key \u001b[39m=\u001b[39m filename)\n\u001b[1;32m     12\u001b[0m     file_content \u001b[39m=\u001b[39m response[\u001b[39m'\u001b[39m\u001b[39mBody\u001b[39m\u001b[39m'\u001b[39m]\u001b[39m.\u001b[39mread()\u001b[39m.\u001b[39mdecode(\u001b[39m'\u001b[39m\u001b[39mutf-8\u001b[39m\u001b[39m'\u001b[39m)\n\u001b[1;32m     13\u001b[0m     json_file \u001b[39m=\u001b[39m json\u001b[39m.\u001b[39mloads(\u001b[39m\"\u001b[39m\u001b[39m[\u001b[39m\u001b[39m\"\u001b[39m \u001b[39m+\u001b[39m file_content\u001b[39m.\u001b[39mreplace(\u001b[39m\"\u001b[39m\u001b[39m}\u001b[39m\u001b[39m\\n\u001b[39;00m\u001b[39m{\u001b[39m\u001b[39m\"\u001b[39m, \u001b[39m\"\u001b[39m\u001b[39m},\u001b[39m\u001b[39m\\n\u001b[39;00m\u001b[39m{\u001b[39m\u001b[39m\"\u001b[39m) \u001b[39m+\u001b[39m \u001b[39m\"\u001b[39m\u001b[39m]\u001b[39m\u001b[39m\"\u001b[39m)\n",
      "\u001b[0;31mNameError\u001b[0m: name 'client' is not defined"
     ]
    }
   ],
   "source": [
    "business = read_json('s3a://yelp-dataset-stevenhurwitt/yelp_academic_dataset_business.json')\n",
    "business.head()\n",
    "print('read in json file.')"
   ]
  },
  {
   "cell_type": "code",
   "execution_count": 7,
   "metadata": {},
   "outputs": [
    {
     "ename": "NameError",
     "evalue": "name 'business' is not defined",
     "output_type": "error",
     "traceback": [
      "\u001b[0;31m---------------------------------------------------------------------------\u001b[0m",
      "\u001b[0;31mNameError\u001b[0m                                 Traceback (most recent call last)",
      "Cell \u001b[0;32mIn[7], line 1\u001b[0m\n\u001b[0;32m----> 1\u001b[0m \u001b[39mprint\u001b[39m(\u001b[39m'\u001b[39m\u001b[39mjson file has \u001b[39m\u001b[39m{}\u001b[39;00m\u001b[39m records with size of \u001b[39m\u001b[39m{}\u001b[39;00m\u001b[39m mb.\u001b[39m\u001b[39m'\u001b[39m\u001b[39m.\u001b[39mformat(\u001b[39mlen\u001b[39m(business), sys\u001b[39m.\u001b[39mgetsizeof(business)\u001b[39m/\u001b[39m\u001b[39m1000000\u001b[39m))\n\u001b[1;32m      2\u001b[0m \u001b[39mprint\u001b[39m(\u001b[39m'\u001b[39m\u001b[39mhere is an example record:\u001b[39m\u001b[39m'\u001b[39m)\n\u001b[1;32m      3\u001b[0m \u001b[39mprint\u001b[39m(\u001b[39m'\u001b[39m\u001b[39m'\u001b[39m)\n",
      "\u001b[0;31mNameError\u001b[0m: name 'business' is not defined"
     ]
    }
   ],
   "source": [
    "print('json file has {} records with size of {} mb.'.format(len(business), sys.getsizeof(business)/1000000))\n",
    "print('here is an example record:')\n",
    "print('')\n",
    "pp.pprint(business[0])"
   ]
  },
  {
   "cell_type": "code",
   "execution_count": 8,
   "metadata": {},
   "outputs": [
    {
     "ename": "NameError",
     "evalue": "name 'business' is not defined",
     "output_type": "error",
     "traceback": [
      "\u001b[0;31m---------------------------------------------------------------------------\u001b[0m",
      "\u001b[0;31mNameError\u001b[0m                                 Traceback (most recent call last)",
      "Cell \u001b[0;32mIn[8], line 1\u001b[0m\n\u001b[0;32m----> 1\u001b[0m df_pandas \u001b[39m=\u001b[39m business\u001b[39m.\u001b[39mtoPandas()\n",
      "\u001b[0;31mNameError\u001b[0m: name 'business' is not defined"
     ]
    }
   ],
   "source": [
    "df_pandas = business.toPandas()"
   ]
  },
  {
   "cell_type": "code",
   "execution_count": 9,
   "metadata": {},
   "outputs": [
    {
     "ename": "NameError",
     "evalue": "name 'df_pandas' is not defined",
     "output_type": "error",
     "traceback": [
      "\u001b[0;31m---------------------------------------------------------------------------\u001b[0m",
      "\u001b[0;31mNameError\u001b[0m                                 Traceback (most recent call last)",
      "Cell \u001b[0;32mIn[9], line 1\u001b[0m\n\u001b[0;32m----> 1\u001b[0m html_df \u001b[39m=\u001b[39m df_pandas\u001b[39m.\u001b[39mto_html()\n",
      "\u001b[0;31mNameError\u001b[0m: name 'df_pandas' is not defined"
     ]
    }
   ],
   "source": [
    "html_df = df_pandas.to_html()"
   ]
  },
  {
   "cell_type": "code",
   "execution_count": 10,
   "metadata": {},
   "outputs": [
    {
     "ename": "NameError",
     "evalue": "name 'html_df' is not defined",
     "output_type": "error",
     "traceback": [
      "\u001b[0;31m---------------------------------------------------------------------------\u001b[0m",
      "\u001b[0;31mNameError\u001b[0m                                 Traceback (most recent call last)",
      "Cell \u001b[0;32mIn[10], line 1\u001b[0m\n\u001b[0;32m----> 1\u001b[0m display(html_df)\n",
      "\u001b[0;31mNameError\u001b[0m: name 'html_df' is not defined"
     ]
    }
   ],
   "source": [
    "display(html_df)"
   ]
  },
  {
   "cell_type": "code",
   "execution_count": 11,
   "metadata": {},
   "outputs": [],
   "source": [
    "# ! gcloud auth login --no-launch-browser"
   ]
  },
  {
   "cell_type": "code",
   "execution_count": 12,
   "metadata": {},
   "outputs": [
    {
     "ename": "NameError",
     "evalue": "name 'ClientError' is not defined",
     "output_type": "error",
     "traceback": [
      "\u001b[0;31m---------------------------------------------------------------------------\u001b[0m",
      "\u001b[0;31mNameError\u001b[0m                                 Traceback (most recent call last)",
      "Cell \u001b[0;32mIn[12], line 2\u001b[0m\n\u001b[1;32m      1\u001b[0m \u001b[39mtry\u001b[39;00m:\n\u001b[0;32m----> 2\u001b[0m     response \u001b[39m=\u001b[39m table\u001b[39m.\u001b[39mquery(\n\u001b[1;32m      3\u001b[0m         ProjectionExpression\u001b[39m=\u001b[39m\u001b[39m\"\u001b[39m\u001b[39muser, created_at\u001b[39m\u001b[39m\"\u001b[39m,\n\u001b[1;32m      4\u001b[0m         ExpressionAttributeNames\u001b[39m=\u001b[39m{\u001b[39m\"\u001b[39m\u001b[39muser\u001b[39m\u001b[39m\"\u001b[39m: \u001b[39m\"\u001b[39m\u001b[39mcreated_at\u001b[39m\u001b[39m\"\u001b[39m},\n\u001b[1;32m      5\u001b[0m         KeyConditionExpression\u001b[39m=\u001b[39m(\n\u001b[1;32m      6\u001b[0m             Key(\u001b[39m'\u001b[39m\u001b[39muser\u001b[39m\u001b[39m'\u001b[39m)\u001b[39m.\u001b[39meq(\u001b[39m\"\u001b[39m\u001b[39mihearttyou2\u001b[39m\u001b[39m\"\u001b[39m) \u001b[39m&\u001b[39m\n\u001b[1;32m      7\u001b[0m             Key(\u001b[39m'\u001b[39m\u001b[39mcreated_at\u001b[39m\u001b[39m'\u001b[39m)\u001b[39m.\u001b[39mbetween(\u001b[39m'\u001b[39m\u001b[39m2011-01-01-01T00:00:00Z\u001b[39m\u001b[39m'\u001b[39m, \u001b[39m'\u001b[39m\u001b[39m2024-05-25T23:59:59Z\u001b[39m\u001b[39m'\u001b[39m)))\n\u001b[1;32m      9\u001b[0m \u001b[39mexcept\u001b[39;00m ClientError \u001b[39mas\u001b[39;00m err:\n",
      "\u001b[0;31mNameError\u001b[0m: name 'table' is not defined",
      "\nDuring handling of the above exception, another exception occurred:\n",
      "\u001b[0;31mNameError\u001b[0m                                 Traceback (most recent call last)",
      "Cell \u001b[0;32mIn[12], line 9\u001b[0m\n\u001b[1;32m      1\u001b[0m \u001b[39mtry\u001b[39;00m:\n\u001b[1;32m      2\u001b[0m     response \u001b[39m=\u001b[39m table\u001b[39m.\u001b[39mquery(\n\u001b[1;32m      3\u001b[0m         ProjectionExpression\u001b[39m=\u001b[39m\u001b[39m\"\u001b[39m\u001b[39muser, created_at\u001b[39m\u001b[39m\"\u001b[39m,\n\u001b[1;32m      4\u001b[0m         ExpressionAttributeNames\u001b[39m=\u001b[39m{\u001b[39m\"\u001b[39m\u001b[39muser\u001b[39m\u001b[39m\"\u001b[39m: \u001b[39m\"\u001b[39m\u001b[39mcreated_at\u001b[39m\u001b[39m\"\u001b[39m},\n\u001b[1;32m      5\u001b[0m         KeyConditionExpression\u001b[39m=\u001b[39m(\n\u001b[1;32m      6\u001b[0m             Key(\u001b[39m'\u001b[39m\u001b[39muser\u001b[39m\u001b[39m'\u001b[39m)\u001b[39m.\u001b[39meq(\u001b[39m\"\u001b[39m\u001b[39mihearttyou2\u001b[39m\u001b[39m\"\u001b[39m) \u001b[39m&\u001b[39m\n\u001b[1;32m      7\u001b[0m             Key(\u001b[39m'\u001b[39m\u001b[39mcreated_at\u001b[39m\u001b[39m'\u001b[39m)\u001b[39m.\u001b[39mbetween(\u001b[39m'\u001b[39m\u001b[39m2011-01-01-01T00:00:00Z\u001b[39m\u001b[39m'\u001b[39m, \u001b[39m'\u001b[39m\u001b[39m2024-05-25T23:59:59Z\u001b[39m\u001b[39m'\u001b[39m)))\n\u001b[0;32m----> 9\u001b[0m \u001b[39mexcept\u001b[39;00m ClientError \u001b[39mas\u001b[39;00m err:\n\u001b[1;32m     10\u001b[0m     \u001b[39mif\u001b[39;00m err\u001b[39m.\u001b[39mresponse[\u001b[39m'\u001b[39m\u001b[39mError\u001b[39m\u001b[39m'\u001b[39m][\u001b[39m'\u001b[39m\u001b[39mCode\u001b[39m\u001b[39m'\u001b[39m] \u001b[39m==\u001b[39m \u001b[39m\"\u001b[39m\u001b[39mValidationException\u001b[39m\u001b[39m\"\u001b[39m:\n\u001b[1;32m     11\u001b[0m         logger\u001b[39m.\u001b[39mwarning(\n\u001b[1;32m     12\u001b[0m             \u001b[39m\"\u001b[39m\u001b[39mThere\u001b[39m\u001b[39m'\u001b[39m\u001b[39ms a validation error. Here\u001b[39m\u001b[39m'\u001b[39m\u001b[39ms the message: \u001b[39m\u001b[39m%s\u001b[39;00m\u001b[39m: \u001b[39m\u001b[39m%s\u001b[39;00m\u001b[39m\"\u001b[39m,\n\u001b[1;32m     13\u001b[0m             err\u001b[39m.\u001b[39mresponse[\u001b[39m'\u001b[39m\u001b[39mError\u001b[39m\u001b[39m'\u001b[39m][\u001b[39m'\u001b[39m\u001b[39mCode\u001b[39m\u001b[39m'\u001b[39m], err\u001b[39m.\u001b[39mresponse[\u001b[39m'\u001b[39m\u001b[39mError\u001b[39m\u001b[39m'\u001b[39m][\u001b[39m'\u001b[39m\u001b[39mMessage\u001b[39m\u001b[39m'\u001b[39m])\n",
      "\u001b[0;31mNameError\u001b[0m: name 'ClientError' is not defined"
     ]
    }
   ],
   "source": [
    "try:\n",
    "    response = table.query(\n",
    "        ProjectionExpression=\"user, created_at\",\n",
    "        ExpressionAttributeNames={\"user\": \"created_at\"},\n",
    "        KeyConditionExpression=(\n",
    "            Key('user').eq(\"ihearttyou2\") &\n",
    "            Key('created_at').between('2011-01-01-01T00:00:00Z', '2024-05-25T23:59:59Z')))\n",
    "            \n",
    "except ClientError as err:\n",
    "    if err.response['Error']['Code'] == \"ValidationException\":\n",
    "        logger.warning(\n",
    "            \"There's a validation error. Here's the message: %s: %s\",\n",
    "            err.response['Error']['Code'], err.response['Error']['Message'])\n",
    "    else:\n",
    "        logger.error(\n",
    "            \"Couldn't query for movies. Here's why: %s: %s\",\n",
    "            err.response['Error']['Code'], err.response['Error']['Message'])\n",
    "        raise\n",
    "else:\n",
    "    response_items = response['Items']\n",
    "    response_item_count = response.item_count\n",
    "    logger.info(response_items.shape)"
   ]
  },
  {
   "cell_type": "code",
   "execution_count": 13,
   "metadata": {},
   "outputs": [
    {
     "ename": "NameError",
     "evalue": "name 'response' is not defined",
     "output_type": "error",
     "traceback": [
      "\u001b[0;31m---------------------------------------------------------------------------\u001b[0m",
      "\u001b[0;31mNameError\u001b[0m                                 Traceback (most recent call last)",
      "Cell \u001b[0;32mIn[13], line 1\u001b[0m\n\u001b[0;32m----> 1\u001b[0m pandas_df \u001b[39m=\u001b[39m response\u001b[39m.\u001b[39mtoPandas()\n\u001b[1;32m      2\u001b[0m html_df \u001b[39m=\u001b[39m pandas_df\u001b[39m.\u001b[39mto_html()\n\u001b[1;32m      3\u001b[0m \u001b[39m# display(html_df)\u001b[39;00m\n",
      "\u001b[0;31mNameError\u001b[0m: name 'response' is not defined"
     ]
    }
   ],
   "source": [
    "pandas_df = response.toPandas()\n",
    "html_df = pandas_df.to_html()\n",
    "# display(html_df)"
   ]
  },
  {
   "cell_type": "code",
   "execution_count": 14,
   "metadata": {},
   "outputs": [
    {
     "ename": "NameError",
     "evalue": "name 'html_df' is not defined",
     "output_type": "error",
     "traceback": [
      "\u001b[0;31m---------------------------------------------------------------------------\u001b[0m",
      "\u001b[0;31mNameError\u001b[0m                                 Traceback (most recent call last)",
      "Cell \u001b[0;32mIn[14], line 1\u001b[0m\n\u001b[0;32m----> 1\u001b[0m display(html_df)\n",
      "\u001b[0;31mNameError\u001b[0m: name 'html_df' is not defined"
     ]
    }
   ],
   "source": [
    "display(html_df)"
   ]
  },
  {
   "cell_type": "code",
   "execution_count": null,
   "metadata": {},
   "outputs": [],
   "source": []
  },
  {
   "cell_type": "code",
   "execution_count": null,
   "metadata": {},
   "outputs": [],
   "source": []
  }
 ],
 "metadata": {
  "kernelspec": {
   "display_name": "yelp",
   "language": "python",
   "name": "python3"
  },
  "language_info": {
   "codemirror_mode": {
    "name": "ipython",
    "version": 3
   },
   "file_extension": ".py",
   "mimetype": "text/x-python",
   "name": "python",
   "nbconvert_exporter": "python",
   "pygments_lexer": "ipython3",
   "version": "3.10.9"
  },
  "orig_nbformat": 4
 },
 "nbformat": 4,
 "nbformat_minor": 2
}
