{
 "cells": [
  {
   "attachments": {},
   "cell_type": "markdown",
   "metadata": {},
   "source": [
    "## spark read s3 delta"
   ]
  },
  {
   "cell_type": "code",
   "execution_count": 42,
   "metadata": {},
   "outputs": [
    {
     "name": "stdout",
     "output_type": "stream",
     "text": [
      "imported modules.\n"
     ]
    }
   ],
   "source": [
    "from pyspark.sql import functions as F\n",
    "from pyspark.sql import types as T\n",
    "from pyspark.sql import Window, Row\n",
    "\n",
    "# from PyQt5.QtWidgets import QApplication\n",
    "# from PyQt5.QtWebEngineWidgets import QWebEngineView\n",
    "import pandas as pd\n",
    "from pyspark.sql import SparkSession\n",
    "# from iPython import display\n",
    "\n",
    "import pprint\n",
    "import boto3\n",
    "import json\n",
    "import sys\n",
    "import os\n",
    "\n",
    "pp = pprint.PrettyPrinter(indent = 3)\n",
    "print('imported modules.')"
   ]
  },
  {
   "cell_type": "code",
   "execution_count": 14,
   "metadata": {},
   "outputs": [
    {
     "name": "stdout",
     "output_type": "stream",
     "text": [
      "files in s3 bucket:\n",
      "\n",
      "raw/\n",
      "raw/yelp_academic_dataset_business.json\n",
      "raw/yelp_academic_dataset_checkin.json\n",
      "raw/yelp_academic_dataset_review.json\n",
      "raw/yelp_academic_dataset_tip.json\n",
      "raw/yelp_academic_dataset_user.json\n"
     ]
    }
   ],
   "source": [
    "client = boto3.client('s3')\n",
    "bucket = \"yelp-dataset-stevenhurwitt\"\n",
    "file = \"raw/yelp_academic_dataset_business.json\"\n",
    "\n",
    "bucket_meta = client.list_objects(Bucket = 'yelp-dataset-stevenhurwitt')\n",
    "print('files in s3 bucket:')\n",
    "print('')\n",
    "for c in bucket_meta['Contents']:\n",
    "    print(c['Key'])"
   ]
  },
  {
   "cell_type": "code",
   "execution_count": 22,
   "metadata": {},
   "outputs": [],
   "source": [
    "def read_json(filename):\n",
    "    \"\"\"\n",
    "    reads a yelp .json file from s3 bucket.\n",
    "\n",
    "    keyword arguments:\n",
    "    filename - name of file (str)\n",
    "\n",
    "    returns: json_file (json)\n",
    "    \"\"\"\n",
    "\n",
    "    bucket = \"yelp-dataset-stevenhurwitt\"\n",
    "    file = \"raw/yelp_academic_dataset_business.json\"\n",
    "    response = client.get_object(Bucket = bucket, Key = file)\n",
    "    \n",
    "    file_content = response['Body'].read().decode('utf-8')\n",
    "    json_file = json.loads(\"[\" + file_content.replace(\"}\\n{\", \"},\\n{\") + \"]\")\n",
    "    return(json_file)"
   ]
  },
  {
   "attachments": {},
   "cell_type": "markdown",
   "metadata": {},
   "source": [
    "## read json files"
   ]
  },
  {
   "cell_type": "code",
   "execution_count": 32,
   "metadata": {},
   "outputs": [
    {
     "name": "stdout",
     "output_type": "stream",
     "text": [
      "read json files from s3.\n"
     ]
    }
   ],
   "source": [
    "business_file = read_json(\"raw/yelp_academic_dataset_business.json\")\n",
    "checkin_file = read_json(\"raw/yelp_academic_dataset_checkin.json\")\n",
    "review_file = read_json(\"raw/yelp_academic_dataset_review.json\")\n",
    "tip_file = read_json(\"raw/yelp_academic_dataset_tip.json\")\n",
    "user_file = read_json(\"raw/yelp_academic_dataset_user.json\")\n",
    "\n",
    "print(\"read json files from s3.\")"
   ]
  },
  {
   "attachments": {},
   "cell_type": "markdown",
   "metadata": {},
   "source": [
    "### review"
   ]
  },
  {
   "cell_type": "code",
   "execution_count": 34,
   "metadata": {},
   "outputs": [
    {
     "name": "stdout",
     "output_type": "stream",
     "text": [
      "{  'address': '1616 Chapala St, Ste 2',\n",
      "   'attributes': {'ByAppointmentOnly': 'True'},\n",
      "   'business_id': 'Pns2l4eNsfO8kk83dixA6A',\n",
      "   'categories': 'Doctors, Traditional Chinese Medicine, '\n",
      "                 'Naturopathic/Holistic, Acupuncture, Health & Medical, '\n",
      "                 'Nutritionists',\n",
      "   'city': 'Santa Barbara',\n",
      "   'hours': None,\n",
      "   'is_open': 0,\n",
      "   'latitude': 34.4266787,\n",
      "   'longitude': -119.7111968,\n",
      "   'name': 'Abby Rappoport, LAC, CMQ',\n",
      "   'postal_code': '93101',\n",
      "   'review_count': 7,\n",
      "   'stars': 5.0,\n",
      "   'state': 'CA'}\n"
     ]
    }
   ],
   "source": [
    "pp.pprint(review_file[0])"
   ]
  },
  {
   "attachments": {},
   "cell_type": "markdown",
   "metadata": {},
   "source": [
    "### tip"
   ]
  },
  {
   "cell_type": "code",
   "execution_count": 35,
   "metadata": {},
   "outputs": [
    {
     "name": "stdout",
     "output_type": "stream",
     "text": [
      "{  'address': '1616 Chapala St, Ste 2',\n",
      "   'attributes': {'ByAppointmentOnly': 'True'},\n",
      "   'business_id': 'Pns2l4eNsfO8kk83dixA6A',\n",
      "   'categories': 'Doctors, Traditional Chinese Medicine, '\n",
      "                 'Naturopathic/Holistic, Acupuncture, Health & Medical, '\n",
      "                 'Nutritionists',\n",
      "   'city': 'Santa Barbara',\n",
      "   'hours': None,\n",
      "   'is_open': 0,\n",
      "   'latitude': 34.4266787,\n",
      "   'longitude': -119.7111968,\n",
      "   'name': 'Abby Rappoport, LAC, CMQ',\n",
      "   'postal_code': '93101',\n",
      "   'review_count': 7,\n",
      "   'stars': 5.0,\n",
      "   'state': 'CA'}\n"
     ]
    }
   ],
   "source": [
    "pp.pprint(tip_file[0])"
   ]
  },
  {
   "attachments": {},
   "cell_type": "markdown",
   "metadata": {},
   "source": [
    "### user"
   ]
  },
  {
   "cell_type": "code",
   "execution_count": 36,
   "metadata": {},
   "outputs": [
    {
     "name": "stdout",
     "output_type": "stream",
     "text": [
      "{  'address': '1616 Chapala St, Ste 2',\n",
      "   'attributes': {'ByAppointmentOnly': 'True'},\n",
      "   'business_id': 'Pns2l4eNsfO8kk83dixA6A',\n",
      "   'categories': 'Doctors, Traditional Chinese Medicine, '\n",
      "                 'Naturopathic/Holistic, Acupuncture, Health & Medical, '\n",
      "                 'Nutritionists',\n",
      "   'city': 'Santa Barbara',\n",
      "   'hours': None,\n",
      "   'is_open': 0,\n",
      "   'latitude': 34.4266787,\n",
      "   'longitude': -119.7111968,\n",
      "   'name': 'Abby Rappoport, LAC, CMQ',\n",
      "   'postal_code': '93101',\n",
      "   'review_count': 7,\n",
      "   'stars': 5.0,\n",
      "   'state': 'CA'}\n"
     ]
    }
   ],
   "source": [
    "pp.pprint(user_file[0])"
   ]
  },
  {
   "attachments": {},
   "cell_type": "markdown",
   "metadata": {},
   "source": [
    "### checkin"
   ]
  },
  {
   "cell_type": "code",
   "execution_count": 37,
   "metadata": {},
   "outputs": [
    {
     "name": "stdout",
     "output_type": "stream",
     "text": [
      "{  'address': '1616 Chapala St, Ste 2',\n",
      "   'attributes': {'ByAppointmentOnly': 'True'},\n",
      "   'business_id': 'Pns2l4eNsfO8kk83dixA6A',\n",
      "   'categories': 'Doctors, Traditional Chinese Medicine, '\n",
      "                 'Naturopathic/Holistic, Acupuncture, Health & Medical, '\n",
      "                 'Nutritionists',\n",
      "   'city': 'Santa Barbara',\n",
      "   'hours': None,\n",
      "   'is_open': 0,\n",
      "   'latitude': 34.4266787,\n",
      "   'longitude': -119.7111968,\n",
      "   'name': 'Abby Rappoport, LAC, CMQ',\n",
      "   'postal_code': '93101',\n",
      "   'review_count': 7,\n",
      "   'stars': 5.0,\n",
      "   'state': 'CA'}\n"
     ]
    }
   ],
   "source": [
    "pp.pprint(checkin_file[0])"
   ]
  },
  {
   "attachments": {},
   "cell_type": "markdown",
   "metadata": {},
   "source": [
    "### business"
   ]
  },
  {
   "cell_type": "code",
   "execution_count": 48,
   "metadata": {},
   "outputs": [
    {
     "name": "stdout",
     "output_type": "stream",
     "text": [
      "{  'address': '1616 Chapala St, Ste 2',\n",
      "   'attributes': {'ByAppointmentOnly': 'True'},\n",
      "   'business_id': 'Pns2l4eNsfO8kk83dixA6A',\n",
      "   'categories': 'Doctors, Traditional Chinese Medicine, '\n",
      "                 'Naturopathic/Holistic, Acupuncture, Health & Medical, '\n",
      "                 'Nutritionists',\n",
      "   'city': 'Santa Barbara',\n",
      "   'hours': None,\n",
      "   'is_open': 0,\n",
      "   'latitude': 34.4266787,\n",
      "   'longitude': -119.7111968,\n",
      "   'name': 'Abby Rappoport, LAC, CMQ',\n",
      "   'postal_code': '93101',\n",
      "   'review_count': 7,\n",
      "   'stars': 5.0,\n",
      "   'state': 'CA'}\n"
     ]
    }
   ],
   "source": [
    "pp.pprint(business_file[0])"
   ]
  },
  {
   "cell_type": "code",
   "execution_count": 39,
   "metadata": {},
   "outputs": [
    {
     "name": "stdout",
     "output_type": "stream",
     "text": [
      "created dynamo resource.\n",
      "failed to create dynamo table.\n"
     ]
    }
   ],
   "source": [
    "dynamodb = boto3.resource('dynamodb', endpoint_url=\"https://us-east-2.console.aws.amazon.com?arn=arn:aws:dynamodb:us-east-2134132211607:8000\")\n",
    "print('created dynamo resource.')\n",
    "\n",
    "try:\n",
    "    yelp_business = dynamodb.create_table(\n",
    "            TableName='yelp.business',\n",
    "            KeySchema=[\n",
    "                {\n",
    "                    'AttributeName': 'business_id',\n",
    "                    'KeyType': 'HASH'  # Partition key\n",
    "                }\n",
    "            ],\n",
    "            AttributeDefinitions=[\n",
    "                {\n",
    "                    'AttributeName': 'name',\n",
    "                    'AttributeType': 'S'\n",
    "                }\n",
    "            ],\n",
    "            ProvisionedThroughput={\n",
    "                'ReadCapacityUnits': 25,\n",
    "                'WriteCapacityUnits': 20\n",
    "            }\n",
    "        )\n",
    "    print('created dynamo table.')\n",
    "\n",
    "except:\n",
    "    print(\"failed to create dynamo table.\")"
   ]
  },
  {
   "cell_type": "code",
   "execution_count": 40,
   "metadata": {},
   "outputs": [
    {
     "name": "stdout",
     "output_type": "stream",
     "text": [
      "yelp-dataset-stevenhurwitt\n"
     ]
    }
   ],
   "source": [
    "print(bucket)"
   ]
  },
  {
   "cell_type": "code",
   "execution_count": 41,
   "metadata": {},
   "outputs": [
    {
     "name": "stdout",
     "output_type": "stream",
     "text": [
      "raw/yelp_academic_dataset_business.json\n"
     ]
    }
   ],
   "source": [
    "print(file)"
   ]
  },
  {
   "cell_type": "code",
   "execution_count": 43,
   "metadata": {},
   "outputs": [
    {
     "name": "stdout",
     "output_type": "stream",
     "text": [
      "json file has 150346 records with size of 1.28316 mb.\n",
      "here is an example record:\n",
      "\n",
      "{  'address': '1616 Chapala St, Ste 2',\n",
      "   'attributes': {'ByAppointmentOnly': 'True'},\n",
      "   'business_id': 'Pns2l4eNsfO8kk83dixA6A',\n",
      "   'categories': 'Doctors, Traditional Chinese Medicine, '\n",
      "                 'Naturopathic/Holistic, Acupuncture, Health & Medical, '\n",
      "                 'Nutritionists',\n",
      "   'city': 'Santa Barbara',\n",
      "   'hours': None,\n",
      "   'is_open': 0,\n",
      "   'latitude': 34.4266787,\n",
      "   'longitude': -119.7111968,\n",
      "   'name': 'Abby Rappoport, LAC, CMQ',\n",
      "   'postal_code': '93101',\n",
      "   'review_count': 7,\n",
      "   'stars': 5.0,\n",
      "   'state': 'CA'}\n"
     ]
    }
   ],
   "source": [
    "print('json file has {} records with size of {} mb.'.format(len(business_file), sys.getsizeof(business_file)/1000000))\n",
    "print('here is an example record:')\n",
    "print('')\n",
    "pp.pprint(business_file[0])"
   ]
  },
  {
   "cell_type": "code",
   "execution_count": 44,
   "metadata": {},
   "outputs": [],
   "source": [
    "# df_pandas = business.toPandas()"
   ]
  },
  {
   "cell_type": "code",
   "execution_count": 45,
   "metadata": {},
   "outputs": [],
   "source": [
    "# html_df = df_pandas.to_html()"
   ]
  },
  {
   "cell_type": "code",
   "execution_count": 46,
   "metadata": {},
   "outputs": [],
   "source": [
    "# display(html_df)"
   ]
  },
  {
   "cell_type": "code",
   "execution_count": 47,
   "metadata": {},
   "outputs": [],
   "source": [
    "# ! gcloud auth login --no-launch-browser"
   ]
  },
  {
   "cell_type": "code",
   "execution_count": 12,
   "metadata": {},
   "outputs": [
    {
     "ename": "NameError",
     "evalue": "name 'ClientError' is not defined",
     "output_type": "error",
     "traceback": [
      "\u001b[0;31m---------------------------------------------------------------------------\u001b[0m",
      "\u001b[0;31mNameError\u001b[0m                                 Traceback (most recent call last)",
      "Cell \u001b[0;32mIn[12], line 2\u001b[0m\n\u001b[1;32m      1\u001b[0m \u001b[39mtry\u001b[39;00m:\n\u001b[0;32m----> 2\u001b[0m     response \u001b[39m=\u001b[39m table\u001b[39m.\u001b[39mquery(\n\u001b[1;32m      3\u001b[0m         ProjectionExpression\u001b[39m=\u001b[39m\u001b[39m\"\u001b[39m\u001b[39muser, created_at\u001b[39m\u001b[39m\"\u001b[39m,\n\u001b[1;32m      4\u001b[0m         ExpressionAttributeNames\u001b[39m=\u001b[39m{\u001b[39m\"\u001b[39m\u001b[39muser\u001b[39m\u001b[39m\"\u001b[39m: \u001b[39m\"\u001b[39m\u001b[39mcreated_at\u001b[39m\u001b[39m\"\u001b[39m},\n\u001b[1;32m      5\u001b[0m         KeyConditionExpression\u001b[39m=\u001b[39m(\n\u001b[1;32m      6\u001b[0m             Key(\u001b[39m'\u001b[39m\u001b[39muser\u001b[39m\u001b[39m'\u001b[39m)\u001b[39m.\u001b[39meq(\u001b[39m\"\u001b[39m\u001b[39mihearttyou2\u001b[39m\u001b[39m\"\u001b[39m) \u001b[39m&\u001b[39m\n\u001b[1;32m      7\u001b[0m             Key(\u001b[39m'\u001b[39m\u001b[39mcreated_at\u001b[39m\u001b[39m'\u001b[39m)\u001b[39m.\u001b[39mbetween(\u001b[39m'\u001b[39m\u001b[39m2011-01-01-01T00:00:00Z\u001b[39m\u001b[39m'\u001b[39m, \u001b[39m'\u001b[39m\u001b[39m2024-05-25T23:59:59Z\u001b[39m\u001b[39m'\u001b[39m)))\n\u001b[1;32m      9\u001b[0m \u001b[39mexcept\u001b[39;00m ClientError \u001b[39mas\u001b[39;00m err:\n",
      "\u001b[0;31mNameError\u001b[0m: name 'table' is not defined",
      "\nDuring handling of the above exception, another exception occurred:\n",
      "\u001b[0;31mNameError\u001b[0m                                 Traceback (most recent call last)",
      "Cell \u001b[0;32mIn[12], line 9\u001b[0m\n\u001b[1;32m      1\u001b[0m \u001b[39mtry\u001b[39;00m:\n\u001b[1;32m      2\u001b[0m     response \u001b[39m=\u001b[39m table\u001b[39m.\u001b[39mquery(\n\u001b[1;32m      3\u001b[0m         ProjectionExpression\u001b[39m=\u001b[39m\u001b[39m\"\u001b[39m\u001b[39muser, created_at\u001b[39m\u001b[39m\"\u001b[39m,\n\u001b[1;32m      4\u001b[0m         ExpressionAttributeNames\u001b[39m=\u001b[39m{\u001b[39m\"\u001b[39m\u001b[39muser\u001b[39m\u001b[39m\"\u001b[39m: \u001b[39m\"\u001b[39m\u001b[39mcreated_at\u001b[39m\u001b[39m\"\u001b[39m},\n\u001b[1;32m      5\u001b[0m         KeyConditionExpression\u001b[39m=\u001b[39m(\n\u001b[1;32m      6\u001b[0m             Key(\u001b[39m'\u001b[39m\u001b[39muser\u001b[39m\u001b[39m'\u001b[39m)\u001b[39m.\u001b[39meq(\u001b[39m\"\u001b[39m\u001b[39mihearttyou2\u001b[39m\u001b[39m\"\u001b[39m) \u001b[39m&\u001b[39m\n\u001b[1;32m      7\u001b[0m             Key(\u001b[39m'\u001b[39m\u001b[39mcreated_at\u001b[39m\u001b[39m'\u001b[39m)\u001b[39m.\u001b[39mbetween(\u001b[39m'\u001b[39m\u001b[39m2011-01-01-01T00:00:00Z\u001b[39m\u001b[39m'\u001b[39m, \u001b[39m'\u001b[39m\u001b[39m2024-05-25T23:59:59Z\u001b[39m\u001b[39m'\u001b[39m)))\n\u001b[0;32m----> 9\u001b[0m \u001b[39mexcept\u001b[39;00m ClientError \u001b[39mas\u001b[39;00m err:\n\u001b[1;32m     10\u001b[0m     \u001b[39mif\u001b[39;00m err\u001b[39m.\u001b[39mresponse[\u001b[39m'\u001b[39m\u001b[39mError\u001b[39m\u001b[39m'\u001b[39m][\u001b[39m'\u001b[39m\u001b[39mCode\u001b[39m\u001b[39m'\u001b[39m] \u001b[39m==\u001b[39m \u001b[39m\"\u001b[39m\u001b[39mValidationException\u001b[39m\u001b[39m\"\u001b[39m:\n\u001b[1;32m     11\u001b[0m         logger\u001b[39m.\u001b[39mwarning(\n\u001b[1;32m     12\u001b[0m             \u001b[39m\"\u001b[39m\u001b[39mThere\u001b[39m\u001b[39m'\u001b[39m\u001b[39ms a validation error. Here\u001b[39m\u001b[39m'\u001b[39m\u001b[39ms the message: \u001b[39m\u001b[39m%s\u001b[39;00m\u001b[39m: \u001b[39m\u001b[39m%s\u001b[39;00m\u001b[39m\"\u001b[39m,\n\u001b[1;32m     13\u001b[0m             err\u001b[39m.\u001b[39mresponse[\u001b[39m'\u001b[39m\u001b[39mError\u001b[39m\u001b[39m'\u001b[39m][\u001b[39m'\u001b[39m\u001b[39mCode\u001b[39m\u001b[39m'\u001b[39m], err\u001b[39m.\u001b[39mresponse[\u001b[39m'\u001b[39m\u001b[39mError\u001b[39m\u001b[39m'\u001b[39m][\u001b[39m'\u001b[39m\u001b[39mMessage\u001b[39m\u001b[39m'\u001b[39m])\n",
      "\u001b[0;31mNameError\u001b[0m: name 'ClientError' is not defined"
     ]
    }
   ],
   "source": [
    "try:\n",
    "    response = table.query(\n",
    "        ProjectionExpression=\"user, created_at\",\n",
    "        ExpressionAttributeNames={\"user\": \"created_at\"},\n",
    "        KeyConditionExpression=(\n",
    "            Key('user').eq(\"ihearttyou2\") &\n",
    "            Key('created_at').between('2011-01-01-01T00:00:00Z', '2024-05-25T23:59:59Z')))\n",
    "            \n",
    "except ClientError as err:\n",
    "    if err.response['Error']['Code'] == \"ValidationException\":\n",
    "        logger.warning(\n",
    "            \"There's a validation error. Here's the message: %s: %s\",\n",
    "            err.response['Error']['Code'], err.response['Error']['Message'])\n",
    "    else:\n",
    "        logger.error(\n",
    "            \"Couldn't query for movies. Here's why: %s: %s\",\n",
    "            err.response['Error']['Code'], err.response['Error']['Message'])\n",
    "        raise\n",
    "else:\n",
    "    response_items = response['Items']\n",
    "    response_item_count = response.item_count\n",
    "    logger.info(response_items.shape)"
   ]
  },
  {
   "cell_type": "code",
   "execution_count": 13,
   "metadata": {},
   "outputs": [
    {
     "ename": "NameError",
     "evalue": "name 'response' is not defined",
     "output_type": "error",
     "traceback": [
      "\u001b[0;31m---------------------------------------------------------------------------\u001b[0m",
      "\u001b[0;31mNameError\u001b[0m                                 Traceback (most recent call last)",
      "Cell \u001b[0;32mIn[13], line 1\u001b[0m\n\u001b[0;32m----> 1\u001b[0m pandas_df \u001b[39m=\u001b[39m response\u001b[39m.\u001b[39mtoPandas()\n\u001b[1;32m      2\u001b[0m html_df \u001b[39m=\u001b[39m pandas_df\u001b[39m.\u001b[39mto_html()\n\u001b[1;32m      3\u001b[0m \u001b[39m# display(html_df)\u001b[39;00m\n",
      "\u001b[0;31mNameError\u001b[0m: name 'response' is not defined"
     ]
    }
   ],
   "source": [
    "pandas_df = response.toPandas()\n",
    "html_df = pandas_df.to_html()\n",
    "# display(html_df)"
   ]
  },
  {
   "cell_type": "code",
   "execution_count": 14,
   "metadata": {},
   "outputs": [
    {
     "ename": "NameError",
     "evalue": "name 'html_df' is not defined",
     "output_type": "error",
     "traceback": [
      "\u001b[0;31m---------------------------------------------------------------------------\u001b[0m",
      "\u001b[0;31mNameError\u001b[0m                                 Traceback (most recent call last)",
      "Cell \u001b[0;32mIn[14], line 1\u001b[0m\n\u001b[0;32m----> 1\u001b[0m display(html_df)\n",
      "\u001b[0;31mNameError\u001b[0m: name 'html_df' is not defined"
     ]
    }
   ],
   "source": [
    "display(html_df)"
   ]
  },
  {
   "cell_type": "code",
   "execution_count": null,
   "metadata": {},
   "outputs": [],
   "source": []
  },
  {
   "cell_type": "code",
   "execution_count": null,
   "metadata": {},
   "outputs": [],
   "source": []
  }
 ],
 "metadata": {
  "kernelspec": {
   "display_name": "yelp",
   "language": "python",
   "name": "python3"
  },
  "language_info": {
   "codemirror_mode": {
    "name": "ipython",
    "version": 3
   },
   "file_extension": ".py",
   "mimetype": "text/x-python",
   "name": "python",
   "nbconvert_exporter": "python",
   "pygments_lexer": "ipython3",
   "version": "3.10.9"
  },
  "orig_nbformat": 4
 },
 "nbformat": 4,
 "nbformat_minor": 2
}
