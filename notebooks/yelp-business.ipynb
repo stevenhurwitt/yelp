{
 "cells": [
  {
   "cell_type": "markdown",
   "metadata": {},
   "source": [
    "## spark read s3 delta"
   ]
  },
  {
   "cell_type": "code",
   "execution_count": null,
   "metadata": {},
   "outputs": [],
   "source": [
    "from pyspark.sql import functions as F\n",
    "from pyspark.sql import types as T\n",
    "from pyspark.sql import Window, Row\n",
    "\n",
    "from PyQt5.QtWidgets import QApplication\n",
    "from PyQt5.QtWebEngineWidgets import QWebEngineView\n",
    "import pandas as pd\n",
    "from pyspark.sql import SparkSession\n",
    "from iPython import display\n",
    "\n",
    "import pprint\n",
    "import boto3\n",
    "import json\n",
    "import os\n",
    "\n",
    "pp = pprint.PrettyPrinter(indent = 3)\n",
    "print('imported modules.')"
   ]
  },
  {
   "cell_type": "code",
   "execution_count": null,
   "metadata": {},
   "outputs": [],
   "source": [
    "client = boto3.client('s3')\n",
    "\n",
    "bucket_meta = client.list_objects(Bucket = 'yelp-dataset-stevenhurwitt')\n",
    "print('files in s3 bucket:')\n",
    "print('')\n",
    "for c in bucket_meta['Contents']:\n",
    "    print(c['Key'])"
   ]
  },
  {
   "cell_type": "code",
   "execution_count": null,
   "metadata": {},
   "outputs": [],
   "source": [
    "def read_json(filename):\n",
    "    \"\"\"\n",
    "    reads a yelp .json file from s3 bucket.\n",
    "\n",
    "    keyword arguments:\n",
    "    filename - name of file (str)\n",
    "\n",
    "    returns: json_file (json)\n",
    "    \"\"\"\n",
    "\n",
    "    response = client.get_object(Bucket = 'yelp-academic-dataset-stevenhurwitt', Key = filename)\n",
    "    file_content = response['Body'].read().decode('utf-8')\n",
    "    json_file = json.loads(\"[\" + file_content.replace(\"}\\n{\", \"},\\n{\") + \"]\")\n",
    "    return(json_file)"
   ]
  },
  {
   "cell_type": "code",
   "execution_count": null,
   "metadata": {},
   "outputs": [],
   "source": [
    "dynamodb = boto3.resource('dynamodb', endpoint_url=\"https://us-east-2.console.aws.amazon.com/dynamodbv2/home?region=us-east-2#export?arn=arn:aws:dynamodb:us-east-2134132211607:8000\")"
   ]
  },
  {
   "cell_type": "code",
   "execution_count": null,
   "metadata": {},
   "outputs": [],
   "source": [
    "yelp_business = dynamodb.create_table(\n",
    "        TableName='yelp.business',\n",
    "        KeySchema=[\n",
    "            {\n",
    "                'AttributeName': 'business_id',\n",
    "                'KeyType': 'HASH'  # Partition key\n",
    "            }\n",
    "        ],\n",
    "        AttributeDefinitions=[\n",
    "            {\n",
    "                'AttributeName': 'name',\n",
    "                'AttributeType': 'S'\n",
    "            }\n",
    "        ],\n",
    "        ProvisionedThroughput={\n",
    "            'ReadCapacityUnits': 25,\n",
    "            'WriteCapacityUnits': 20\n",
    "        }\n",
    "    )\n",
    "print('created dynamo table.')"
   ]
  },
  {
   "cell_type": "code",
   "execution_count": null,
   "metadata": {},
   "outputs": [],
   "source": [
    "business = read_json('s3a://yelp-dataset-stevenhurwitt/yelp_academic_dataset_business.json')\n",
    "business.head()\n",
    "print('read in json file.')"
   ]
  },
  {
   "cell_type": "code",
   "execution_count": null,
   "metadata": {},
   "outputs": [],
   "source": [
    "print('json file has {} records with size of {} mb.'.format(len(business), sys.getsizeof(business)/1000000))\n",
    "print('here is an example record:')\n",
    "print('')\n",
    "pp.pprint(business[0])"
   ]
  },
  {
   "cell_type": "code",
   "execution_count": null,
   "metadata": {},
   "outputs": [],
   "source": [
    "df_pandas = business.toPandas()"
   ]
  },
  {
   "cell_type": "code",
   "execution_count": null,
   "metadata": {},
   "outputs": [],
   "source": [
    "html_df = df_pandas.to_html()"
   ]
  },
  {
   "cell_type": "code",
   "execution_count": null,
   "metadata": {},
   "outputs": [],
   "source": [
    "display(html_df)"
   ]
  },
  {
   "cell_type": "code",
   "execution_count": null,
   "metadata": {},
   "outputs": [],
   "source": [
    "# ! gcloud auth login --no-launch-browser"
   ]
  },
  {
   "cell_type": "code",
   "execution_count": null,
   "metadata": {},
   "outputs": [],
   "source": [
    "try:\n",
    "    response = table.query(\n",
    "        ProjectionExpression=\"user, created_at\",\n",
    "        ExpressionAttributeNames={\"user\": \"created_at\"},\n",
    "        KeyConditionExpression=(\n",
    "            Key('user').eq(\"ihearttyou2\") &\n",
    "            Key('created_at').between('2011-01-01-01T00:00:00Z', '2024-05-25T23:59:59Z')))\n",
    "            \n",
    "except ClientError as err:\n",
    "    if err.response['Error']['Code'] == \"ValidationException\":\n",
    "        logger.warning(\n",
    "            \"There's a validation error. Here's the message: %s: %s\",\n",
    "            err.response['Error']['Code'], err.response['Error']['Message'])\n",
    "    else:\n",
    "        logger.error(\n",
    "            \"Couldn't query for movies. Here's why: %s: %s\",\n",
    "            err.response['Error']['Code'], err.response['Error']['Message'])\n",
    "        raise\n",
    "else:\n",
    "    response_itmes = response['Items']\n",
    "    response_item_count = response.item_count\n",
    "    logger.info(response_items.shape)"
   ]
  },
  {
   "cell_type": "code",
   "execution_count": null,
   "metadata": {},
   "outputs": [],
   "source": [
    "response[0]"
   ]
  },
  {
   "cell_type": "code",
   "execution_count": null,
   "metadata": {},
   "outputs": [],
   "source": []
  }
 ],
 "metadata": {
  "language_info": {
   "name": "python"
  },
  "orig_nbformat": 4
 },
 "nbformat": 4,
 "nbformat_minor": 2
}
