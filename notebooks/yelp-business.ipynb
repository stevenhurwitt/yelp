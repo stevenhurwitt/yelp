{
 "cells": [
  {
   "attachments": {},
   "cell_type": "markdown",
   "metadata": {},
   "source": [
    "## spark read s3 json"
   ]
  },
  {
   "cell_type": "code",
   "execution_count": 1,
   "metadata": {},
   "outputs": [
    {
     "name": "stdout",
     "output_type": "stream",
     "text": [
      "imported modules.\n"
     ]
    }
   ],
   "source": [
    "from pyspark.sql.functions import *\n",
    "from pyspark.sql.types import *\n",
    "from pyspark.sql import Window, Row, SparkSession\n",
    "\n",
    "import psycopg2\n",
    "import pprint\n",
    "import boto3\n",
    "import json\n",
    "import sys\n",
    "import os\n",
    "\n",
    "pp = pprint.PrettyPrinter(indent = 3)\n",
    "print('imported modules.')\n",
    "\n",
    "# Set Java home environment variable\n",
    "# os.environ['JAVA_HOME'] = '/Library/Java/JavaVirtualMachines/temurin-8.jdk/Contents/Home'  # Update this path to match your Java installation\n",
    "\n",
    "# read creds.json\n",
    "with open(\"creds.json\", \"r\") as f:\n",
    "    creds = json.load(f)\n",
    "    f.close()"
   ]
  },
  {
   "cell_type": "markdown",
   "metadata": {},
   "source": [
    "## Spark"
   ]
  },
  {
   "cell_type": "code",
   "execution_count": 2,
   "metadata": {},
   "outputs": [],
   "source": [
    "# Stop any existing Spark session\n",
    "if 'spark' in locals():\n",
    "    spark.stop()"
   ]
  },
  {
   "cell_type": "code",
   "execution_count": null,
   "metadata": {},
   "outputs": [],
   "source": [
    "try:\n",
    "    # Create Spark session with required configurations\n",
    "    spark = SparkSession.builder \\\n",
    "        .appName(\"YelpAnalysis\") \\\n",
    "        .master(\"spark://spark-master:7077\") \\\n",
    "        .config(\"spark.driver.memory\", \"2g\") \\\n",
    "        .config(\"spark.executor.memory\", \"2g\") \\\n",
    "        .config(\"spark.executor.cores\", \"4\") \\\n",
    "        .config(\"spark.worker.memory\", \"2g\") \\\n",
    "        .config(\"spark.cores.max\", \"4\") \\\n",
    "        .config(\"spark.hadoop.fs.s3a.access.key\", creds[\"aws_client\"]) \\\n",
    "        .config(\"spark.hadoop.fs.s3a.secret.key\", creds[\"aws_secret\"]) \\\n",
    "        .config(\"spark.jars.packages\", \n",
    "                \"org.apache.hadoop:hadoop-aws:3.3.4,\" + \n",
    "                \"org.apache.hadoop:hadoop-common:3.3.4,\" +\n",
    "                \"org.apache.hadoop:hadoop-aws:3.3.4,\" + \n",
    "                \"com.amazonaws:aws-java-sdk-bundle:1.12.261,\" +\n",
    "                \"org.apache.logging.log4j:log4j-slf4j-impl:2.17.2,\" +\n",
    "                \"org.apache.logging.log4j:log4j-api:2.17.2,\" +\n",
    "                \"org.apache.logging.log4j:log4j-core:2.17.2,\" + \n",
    "                \"org.apache.hadoop:hadoop-client:3.3.4,\" + \n",
    "                \"io.delta:delta-core_2.12:2.4.0,\" + \n",
    "                \"org.postgresql:postgresql:42.2.18\") \\\n",
    "        .config(\"spark.hadoop.fs.s3a.impl\", \"org.apache.hadoop.fs.s3a.S3AFileSystem\") \\\n",
    "        .config(\"spark.hadoop.fs.s3a.aws.credentials.provider\", \"org.apache.hadoop.fs.s3a.SimpleAWSCredentialsProvider\") \\\n",
    "        .config(\"spark.hadoop.fs.s3a.endpoint\", \"s3.amazonaws.com\") \\\n",
    "        .config(\"spark.sql.extensions\", \"io.delta.sql.DeltaSparkSessionExtension\") \\\n",
    "        .config(\"spark.sql.catalog.spark_catalog\", \"org.apache.spark.sql.delta.catalog.DeltaCatalog\") \\\n",
    "        .getOrCreate()\n",
    "    \n",
    "        # .config(\"spark.jars.packages\", \"org.apache.hadoop:hadoop-common:3.3.4,org.apache.hadoop:hadoop-aws:3.3.4,org.apache.hadoop:hadoop-client:3.3.4,io.delta:delta-core_2.12:2.3.0,org.postgresql:postgresql:9.4.1212\") \\\n",
    "        \n",
    "    \n",
    "except Exception as e:\n",
    "    print(str(e))"
   ]
  },
  {
   "attachments": {},
   "cell_type": "markdown",
   "metadata": {},
   "source": [
    "### read s3"
   ]
  },
  {
   "cell_type": "code",
   "execution_count": 5,
   "metadata": {},
   "outputs": [
    {
     "name": "stderr",
     "output_type": "stream",
     "text": [
      "/usr/local/lib/python3.7/site-packages/boto3/compat.py:82: PythonDeprecationWarning: Boto3 will no longer support Python 3.7 starting December 13, 2023. To continue receiving service updates, bug fixes, and security updates please upgrade to Python 3.8 or later. More information can be found here: https://aws.amazon.com/blogs/developer/python-support-policy-updates-for-aws-sdks-and-tools/\n",
      "  warnings.warn(warning, PythonDeprecationWarning)\n"
     ]
    },
    {
     "ename": "ClientError",
     "evalue": "An error occurred (InvalidAccessKeyId) when calling the ListObjects operation: The AWS Access Key Id you provided does not exist in our records.",
     "output_type": "error",
     "traceback": [
      "\u001b[0;31m---------------------------------------------------------------------------\u001b[0m",
      "\u001b[0;31mClientError\u001b[0m                               Traceback (most recent call last)",
      "\u001b[0;32m/tmp/ipykernel_108/3747850105.py\u001b[0m in \u001b[0;36m<module>\u001b[0;34m\u001b[0m\n\u001b[1;32m      3\u001b[0m \u001b[0mfile\u001b[0m \u001b[0;34m=\u001b[0m \u001b[0;34m\"yelp_academic_dataset_business.json\"\u001b[0m\u001b[0;34m\u001b[0m\u001b[0;34m\u001b[0m\u001b[0m\n\u001b[1;32m      4\u001b[0m \u001b[0;34m\u001b[0m\u001b[0m\n\u001b[0;32m----> 5\u001b[0;31m \u001b[0mbucket_meta\u001b[0m \u001b[0;34m=\u001b[0m \u001b[0mclient\u001b[0m\u001b[0;34m.\u001b[0m\u001b[0mlist_objects\u001b[0m\u001b[0;34m(\u001b[0m\u001b[0mBucket\u001b[0m \u001b[0;34m=\u001b[0m \u001b[0;34m'yelp-stevenhurwitt-2'\u001b[0m\u001b[0;34m)\u001b[0m\u001b[0;34m\u001b[0m\u001b[0;34m\u001b[0m\u001b[0m\n\u001b[0m\u001b[1;32m      6\u001b[0m \u001b[0mprint\u001b[0m\u001b[0;34m(\u001b[0m\u001b[0;34m'files in s3 bucket:'\u001b[0m\u001b[0;34m)\u001b[0m\u001b[0;34m\u001b[0m\u001b[0;34m\u001b[0m\u001b[0m\n\u001b[1;32m      7\u001b[0m \u001b[0mprint\u001b[0m\u001b[0;34m(\u001b[0m\u001b[0;34m''\u001b[0m\u001b[0;34m)\u001b[0m\u001b[0;34m\u001b[0m\u001b[0;34m\u001b[0m\u001b[0m\n",
      "\u001b[0;32m/usr/local/lib/python3.7/site-packages/botocore/client.py\u001b[0m in \u001b[0;36m_api_call\u001b[0;34m(self, *args, **kwargs)\u001b[0m\n\u001b[1;32m    551\u001b[0m                 )\n\u001b[1;32m    552\u001b[0m             \u001b[0;31m# The \"self\" in this scope is referring to the BaseClient.\u001b[0m\u001b[0;34m\u001b[0m\u001b[0;34m\u001b[0m\u001b[0;34m\u001b[0m\u001b[0m\n\u001b[0;32m--> 553\u001b[0;31m             \u001b[0;32mreturn\u001b[0m \u001b[0mself\u001b[0m\u001b[0;34m.\u001b[0m\u001b[0m_make_api_call\u001b[0m\u001b[0;34m(\u001b[0m\u001b[0moperation_name\u001b[0m\u001b[0;34m,\u001b[0m \u001b[0mkwargs\u001b[0m\u001b[0;34m)\u001b[0m\u001b[0;34m\u001b[0m\u001b[0;34m\u001b[0m\u001b[0m\n\u001b[0m\u001b[1;32m    554\u001b[0m \u001b[0;34m\u001b[0m\u001b[0m\n\u001b[1;32m    555\u001b[0m         \u001b[0m_api_call\u001b[0m\u001b[0;34m.\u001b[0m\u001b[0m__name__\u001b[0m \u001b[0;34m=\u001b[0m \u001b[0mstr\u001b[0m\u001b[0;34m(\u001b[0m\u001b[0mpy_operation_name\u001b[0m\u001b[0;34m)\u001b[0m\u001b[0;34m\u001b[0m\u001b[0;34m\u001b[0m\u001b[0m\n",
      "\u001b[0;32m/usr/local/lib/python3.7/site-packages/botocore/client.py\u001b[0m in \u001b[0;36m_make_api_call\u001b[0;34m(self, operation_name, api_params)\u001b[0m\n\u001b[1;32m   1007\u001b[0m             )\n\u001b[1;32m   1008\u001b[0m             \u001b[0merror_class\u001b[0m \u001b[0;34m=\u001b[0m \u001b[0mself\u001b[0m\u001b[0;34m.\u001b[0m\u001b[0mexceptions\u001b[0m\u001b[0;34m.\u001b[0m\u001b[0mfrom_code\u001b[0m\u001b[0;34m(\u001b[0m\u001b[0merror_code\u001b[0m\u001b[0;34m)\u001b[0m\u001b[0;34m\u001b[0m\u001b[0;34m\u001b[0m\u001b[0m\n\u001b[0;32m-> 1009\u001b[0;31m             \u001b[0;32mraise\u001b[0m \u001b[0merror_class\u001b[0m\u001b[0;34m(\u001b[0m\u001b[0mparsed_response\u001b[0m\u001b[0;34m,\u001b[0m \u001b[0moperation_name\u001b[0m\u001b[0;34m)\u001b[0m\u001b[0;34m\u001b[0m\u001b[0;34m\u001b[0m\u001b[0m\n\u001b[0m\u001b[1;32m   1010\u001b[0m         \u001b[0;32melse\u001b[0m\u001b[0;34m:\u001b[0m\u001b[0;34m\u001b[0m\u001b[0;34m\u001b[0m\u001b[0m\n\u001b[1;32m   1011\u001b[0m             \u001b[0;32mreturn\u001b[0m \u001b[0mparsed_response\u001b[0m\u001b[0;34m\u001b[0m\u001b[0;34m\u001b[0m\u001b[0m\n",
      "\u001b[0;31mClientError\u001b[0m: An error occurred (InvalidAccessKeyId) when calling the ListObjects operation: The AWS Access Key Id you provided does not exist in our records."
     ]
    }
   ],
   "source": [
    "client = boto3.client('s3')\n",
    "bucket = \"yelp-stevenhurwitt-2\"\n",
    "file = \"yelp_academic_dataset_business.json\"\n",
    "\n",
    "bucket_meta = client.list_objects(Bucket = bucket)\n",
    "print('files in s3 bucket:')\n",
    "print('')\n",
    "for c in bucket_meta['Contents']:\n",
    "    print(c['Key'])"
   ]
  },
  {
   "cell_type": "markdown",
   "metadata": {},
   "source": [
    "## spark read json"
   ]
  },
  {
   "cell_type": "code",
   "execution_count": 9,
   "metadata": {},
   "outputs": [
    {
     "name": "stderr",
     "output_type": "stream",
     "text": [
      "25/03/26 18:55:44 WARN MetricsConfig: Cannot locate configuration: tried hadoop-metrics2-s3a-file-system.properties,hadoop-metrics2.properties\n"
     ]
    }
   ],
   "source": [
    "bucket = \"yelp-stevenhurwitt-2\"\n",
    "file = \"yelp_academic_dataset_business.json\"\n",
    "\n",
    "# Define schema for Yelp business data\n",
    "business_schema = StructType([\n",
    "    StructField(\"business_id\", StringType(), True),\n",
    "    StructField(\"name\", StringType(), True),\n",
    "    StructField(\"address\", StringType(), True),\n",
    "    StructField(\"city\", StringType(), True),\n",
    "    StructField(\"state\", StringType(), True),\n",
    "    StructField(\"postal_code\", StringType(), True),\n",
    "    StructField(\"latitude\", DoubleType(), True),\n",
    "    StructField(\"longitude\", DoubleType(), True),\n",
    "    StructField(\"stars\", DoubleType(), True),\n",
    "    StructField(\"review_count\", IntegerType(), True),\n",
    "    StructField(\"is_open\", IntegerType(), True),\n",
    "    StructField(\"attributes\", MapType(StringType(), StringType()), True),\n",
    "    StructField(\"categories\", StringType(), True),\n",
    "    StructField(\"hours\", MapType(StringType(), StringType()), True)\n",
    "])\n",
    "\n",
    "# Read JSON file from S3\n",
    "business_df = spark.read \\\n",
    "    .format(\"json\") \\\n",
    "    .schema(business_schema) \\\n",
    "    .option(\"multiLine\", \"false\") \\\n",
    "    .load(f\"s3a://{bucket}/{file}\")\n"
   ]
  },
  {
   "cell_type": "markdown",
   "metadata": {},
   "source": [
    "## verify data load"
   ]
  },
  {
   "cell_type": "code",
   "execution_count": 10,
   "metadata": {},
   "outputs": [
    {
     "name": "stderr",
     "output_type": "stream",
     "text": [
      "                                                                                \r"
     ]
    },
    {
     "name": "stdout",
     "output_type": "stream",
     "text": [
      "Row count: 150346\n"
     ]
    },
    {
     "name": "stderr",
     "output_type": "stream",
     "text": [
      "                                                                                \r"
     ]
    },
    {
     "name": "stdout",
     "output_type": "stream",
     "text": [
      "+----------------------+------------------------+-------------------------------+-------------+-----+-----------+----------+------------+-----+------------+-------+--------------------------------------------------------------------------------------------------------------------------------------------------------------------------------------------------------------------------------------------------------------------------------------------------------------------------------------------------------------------------------------------------------------------------------------------------------------------------------------------+----------------------------------------------------------------------------------------------------------+----------------------------------------------------------------------------------------------------------------------------------------------------+\n",
      "|business_id           |name                    |address                        |city         |state|postal_code|latitude  |longitude   |stars|review_count|is_open|attributes                                                                                                                                                                                                                                                                                                                                                                                                                                                                                  |categories                                                                                                |hours                                                                                                                                               |\n",
      "+----------------------+------------------------+-------------------------------+-------------+-----+-----------+----------+------------+-----+------------+-------+--------------------------------------------------------------------------------------------------------------------------------------------------------------------------------------------------------------------------------------------------------------------------------------------------------------------------------------------------------------------------------------------------------------------------------------------------------------------------------------------+----------------------------------------------------------------------------------------------------------+----------------------------------------------------------------------------------------------------------------------------------------------------+\n",
      "|Pns2l4eNsfO8kk83dixA6A|Abby Rappoport, LAC, CMQ|1616 Chapala St, Ste 2         |Santa Barbara|CA   |93101      |34.4266787|-119.7111968|5.0  |7           |0      |{ByAppointmentOnly -> True}                                                                                                                                                                                                                                                                                                                                                                                                                                                                 |Doctors, Traditional Chinese Medicine, Naturopathic/Holistic, Acupuncture, Health & Medical, Nutritionists|null                                                                                                                                                |\n",
      "|mpf3x-BjTdTEA3yCZrAYPw|The UPS Store           |87 Grasso Plaza Shopping Center|Affton       |MO   |63123      |38.551126 |-90.335695  |3.0  |15          |1      |{BusinessAcceptsCreditCards -> True}                                                                                                                                                                                                                                                                                                                                                                                                                                                        |Shipping Centers, Local Services, Notaries, Mailbox Centers, Printing Services                            |{Monday -> 0:0-0:0, Tuesday -> 8:0-18:30, Wednesday -> 8:0-18:30, Thursday -> 8:0-18:30, Friday -> 8:0-18:30, Saturday -> 8:0-14:0}                 |\n",
      "|tUFrWirKiKi_TAnsVWINQQ|Target                  |5255 E Broadway Blvd           |Tucson       |AZ   |85711      |32.223236 |-110.880452 |3.5  |22          |0      |{BikeParking -> True, BusinessAcceptsCreditCards -> True, RestaurantsPriceRange2 -> 2, CoatCheck -> False, RestaurantsTakeOut -> False, RestaurantsDelivery -> False, Caters -> False, WiFi -> u'no', BusinessParking -> {'garage': False, 'street': False, 'validated': False, 'lot': True, 'valet': False}, WheelchairAccessible -> True, HappyHour -> False, OutdoorSeating -> False, HasTV -> False, RestaurantsReservations -> False, DogsAllowed -> False, ByAppointmentOnly -> False}|Department Stores, Shopping, Fashion, Home & Garden, Electronics, Furniture Stores                        |{Monday -> 8:0-22:0, Tuesday -> 8:0-22:0, Wednesday -> 8:0-22:0, Thursday -> 8:0-22:0, Friday -> 8:0-23:0, Saturday -> 8:0-23:0, Sunday -> 8:0-22:0}|\n",
      "|MTSW4McQd7CbVtyjqoe9mw|St Honore Pastries      |935 Race St                    |Philadelphia |PA   |19107      |39.9555052|-75.1555641 |4.0  |80          |1      |{RestaurantsDelivery -> False, OutdoorSeating -> False, BusinessAcceptsCreditCards -> False, BusinessParking -> {'garage': False, 'street': True, 'validated': False, 'lot': False, 'valet': False}, BikeParking -> True, RestaurantsPriceRange2 -> 1, RestaurantsTakeOut -> True, ByAppointmentOnly -> False, WiFi -> u'free', Alcohol -> u'none', Caters -> True}                                                                                                                         |Restaurants, Food, Bubble Tea, Coffee & Tea, Bakeries                                                     |{Monday -> 7:0-20:0, Tuesday -> 7:0-20:0, Wednesday -> 7:0-20:0, Thursday -> 7:0-20:0, Friday -> 7:0-21:0, Saturday -> 7:0-21:0, Sunday -> 7:0-21:0}|\n",
      "|mWMc6_wTdE0EUBKIGXDVfA|Perkiomen Valley Brewery|101 Walnut St                  |Green Lane   |PA   |18054      |40.3381827|-75.4716585 |4.5  |13          |1      |{BusinessAcceptsCreditCards -> True, WheelchairAccessible -> True, RestaurantsTakeOut -> True, BusinessParking -> {'garage': None, 'street': None, 'validated': None, 'lot': True, 'valet': False}, BikeParking -> True, GoodForKids -> True, Caters -> False}                                                                                                                                                                                                                              |Brewpubs, Breweries, Food                                                                                 |{Wednesday -> 14:0-22:0, Thursday -> 16:0-22:0, Friday -> 12:0-22:0, Saturday -> 12:0-22:0, Sunday -> 12:0-18:0}                                    |\n",
      "+----------------------+------------------------+-------------------------------+-------------+-----+-----------+----------+------------+-----+------------+-------+--------------------------------------------------------------------------------------------------------------------------------------------------------------------------------------------------------------------------------------------------------------------------------------------------------------------------------------------------------------------------------------------------------------------------------------------------------------------------------------------+----------------------------------------------------------------------------------------------------------+----------------------------------------------------------------------------------------------------------------------------------------------------+\n",
      "only showing top 5 rows\n",
      "\n"
     ]
    }
   ],
   "source": [
    "# Verify the data load\n",
    "print(\"Row count:\", business_df.count())\n",
    "business_df.show(5, truncate=False)"
   ]
  },
  {
   "cell_type": "code",
   "execution_count": 3,
   "metadata": {},
   "outputs": [],
   "source": [
    "def read_json(filename):\n",
    "    \"\"\"\n",
    "    reads a yelp .json file from s3 bucket.\n",
    "\n",
    "    keyword arguments:\n",
    "    filename - name of file (str)\n",
    "\n",
    "    returns: json_file (json)\n",
    "    \"\"\"\n",
    "\n",
    "    bucket = \"yelp-dataset-stevenhurwitt\"\n",
    "    file = \"raw/yelp_academic_dataset_business.json\"\n",
    "    response = client.get_object(Bucket = bucket, Key = file)\n",
    "    \n",
    "    file_content = response['Body'].read().decode('utf-8')\n",
    "    json_file = json.loads(\"[\" + file_content.replace(\"}\\n{\", \"},\\n{\") + \"]\")\n",
    "    return(json_file)"
   ]
  },
  {
   "attachments": {},
   "cell_type": "markdown",
   "metadata": {},
   "source": [
    "## read json files"
   ]
  },
  {
   "cell_type": "code",
   "execution_count": 4,
   "metadata": {},
   "outputs": [
    {
     "name": "stdout",
     "output_type": "stream",
     "text": [
      "read json files from s3.\n"
     ]
    }
   ],
   "source": [
    "business_file = read_json(\"raw/yelp_academic_dataset_business.json\")\n",
    "checkin_file = read_json(\"raw/yelp_academic_dataset_checkin.json\")\n",
    "review_file = read_json(\"raw/yelp_academic_dataset_review.json\")\n",
    "tip_file = read_json(\"raw/yelp_academic_dataset_tip.json\")\n",
    "user_file = read_json(\"raw/yelp_academic_dataset_user.json\")\n",
    "\n",
    "print(\"read json files from s3.\")"
   ]
  },
  {
   "cell_type": "markdown",
   "metadata": {},
   "source": [
    "## read delta"
   ]
  },
  {
   "cell_type": "code",
   "execution_count": 11,
   "metadata": {},
   "outputs": [],
   "source": [
    "def read_delta(path: str) -> DataFrame:\n",
    "    \"\"\"\n",
    "    Read a Delta table from S3 path\n",
    "    \n",
    "    Args:\n",
    "        path (str): S3 path to delta table\n",
    "        \n",
    "    Returns:\n",
    "        DataFrame: Spark DataFrame containing the delta table data\n",
    "    \"\"\"\n",
    "    try:\n",
    "        df = spark.read \\\n",
    "            .format(\"delta\") \\\n",
    "            .option(\"inferSchema\", \"true\") \\\n",
    "            .load(path)\n",
    "            \n",
    "        print(f\"Successfully read delta table from: {path}\")\n",
    "        print(f\"Number of rows: {df.count()}\")\n",
    "        return df\n",
    "        \n",
    "    except Exception as e:\n",
    "        print(f\"Error reading delta table from {path}\")\n",
    "        print(f\"Error: {str(e)}\")\n",
    "        return None"
   ]
  },
  {
   "cell_type": "code",
   "execution_count": null,
   "metadata": {},
   "outputs": [
    {
     "name": "stderr",
     "output_type": "stream",
     "text": [
      "                                                                                \r"
     ]
    },
    {
     "name": "stdout",
     "output_type": "stream",
     "text": [
      "Successfully read delta table from: s3a://yelp-stevenhurwitt-2/business\n"
     ]
    },
    {
     "name": "stderr",
     "output_type": "stream",
     "text": [
      "25/03/26 19:06:26 WARN package: Truncated the string representation of a plan since it was too large. This behavior can be adjusted by setting 'spark.sql.debug.maxToStringFields'.\n",
      "[Stage 5:=======================================>                   (2 + 1) / 3]\r"
     ]
    }
   ],
   "source": [
    "# Example usage:\n",
    "bucket = \"yelp-stevenhurwitt-2\"\n",
    "\n",
    "# Read all delta tables\n",
    "business_file = read_delta(f\"s3a://{bucket}/business\")\n",
    "checkin_file = read_delta(f\"s3a://{bucket}/checkins\")\n",
    "review_file = read_delta(f\"s3a://{bucket}/reviews\")\n",
    "tip_file = read_delta(f\"s3a://{bucket}/tips\")\n",
    "user_file = read_delta(f\"s3a://{bucket}/users\")\n",
    "\n",
    "# Verify data loaded successfully\n",
    "for df, name in [(business_file, \"business\"), \n",
    "                 (checkin_file, \"checkins\"),\n",
    "                 (review_file, \"reviews\"),\n",
    "                 (tip_file, \"tips\"),\n",
    "                 (user_file, \"users\")]:\n",
    "    if df is not None:\n",
    "        print(f\"\\n{name} table schema:\")\n",
    "        df.printSchema()"
   ]
  },
  {
   "cell_type": "markdown",
   "metadata": {},
   "source": [
    "## business"
   ]
  },
  {
   "cell_type": "code",
   "execution_count": 7,
   "metadata": {},
   "outputs": [
    {
     "name": "stderr",
     "output_type": "stream",
     "text": [
      "[Stage 42:>                                                         (0 + 1) / 1]\r"
     ]
    },
    {
     "name": "stdout",
     "output_type": "stream",
     "text": [
      "+--------------------+--------------------+--------------------+-------------------+-----+-----------+-------------+--------------+-----+------------+-------+--------------------+--------------------+--------------------+\n",
      "|         business_id|                name|             address|               city|state|postal_code|     latitude|     longitude|stars|review_count|is_open|          attributes|          categories|               hours|\n",
      "+--------------------+--------------------+--------------------+-------------------+-----+-----------+-------------+--------------+-----+------------+-------+--------------------+--------------------+--------------------+\n",
      "|lwItZ1Ck3KtpCgG4C...|Stomel Elliot Att...|  532 Rte 70 W, Fl 2|        Cherry Hill|   NJ|      08002|    39.915478|    -75.016973|  5.0|           5|      1|                null|DUI Law, Professi...|{Monday -> 0:0-0:...|\n",
      "|8rb-3VYXE37IZix4y...|Sharky's Sports B...|820 N Black Horse...|       Williamstown|   NJ|      08094|   39.6968014|   -74.9998214|  2.5|          29|      1|{Alcohol -> u'ful...|American (Traditi...|                null|\n",
      "|NZ_bFJma7brQUfln5...| Super Sushi Kyo Hin|2501 Mt Holly Rd 245|         Burlington|   NJ|      08016|   40.0416285|   -74.8258209|  3.5|           6|      0|{RestaurantsReser...|Restaurants, Japa...|                null|\n",
      "|LhpPSrulqVeTyJeK2...|Fresh Fruits & Sa...|        114 N 3rd St|             Camden|   NJ|      08102|   39.9466899|    -75.123327|  4.5|           6|      1|{BusinessParking ...|Juice Bars & Smoo...|{Monday -> 9:0-18...|\n",
      "|H0NEOp4e3Zu598u6k...|America's Best Co...|79 Route 73, Ste ...|           Voorhees|   NJ|      08043|    39.824552|    -74.929032|  3.5|          17|      1|{BusinessAcceptsC...|Eyewear & Opticia...|{Monday -> 0:0-0:...|\n",
      "|Cdytv_YhJO0W0Ab8t...|        Nipper's Pub|      1205 Delsea Dr|           Woodbury|   NJ|      08096|   39.8444681|   -75.1248703|  3.5|          29|      1|{RestaurantsAttir...|Nightlife, Chicke...|                null|\n",
      "|DcUDIlxFsvqPvFh8_...|      Lott's Service|908 N Lenola Rd, ...|         Moorestown|   NJ|      08057|    39.973753|    -74.995949|  1.5|           8|      1|                null|Gas Stations, Aut...|                null|\n",
      "|Ms5xG8i4p80KSMcF3...|Sal DeForte's Ris...|    1400 Parkway Ave|              Ewing|   NJ|      08628|   40.2668877|   -74.8056572|  4.0|          52|      1|{RestaurantsAttir...|Italian, Restaurants|{Monday -> 16:0-2...|\n",
      "|hPAmGKnDqummngSTO...|   Timber Creek Park|      236 Taylor Ave|Gloucester Township|   NJ|      08012|    39.831468|    -75.058986|  4.5|          86|      1|{GoodForKids -> T...|Dog Parks, Active...|{Monday -> 7:0-19...|\n",
      "|rCoWa-C7Os51GjFkC...|            Rite Aid|700 Haddonfield B...|           Voorhees|   NJ|      08043|    39.852159|     -74.98264|  4.5|           6|      1|{BusinessAcceptsC...|Drugstores, Conve...|{Monday -> 8:0-22...|\n",
      "|tuyCmcmm5Q-bc-9zV...|        Pho Friendly|   729 Brunswick Ave|            Trenton|   NJ|      08638|     40.23547|-74.7532115132|  4.5|          93|      0|{RestaurantsGoodF...|Thai, Vietnamese,...|{Monday -> 11:0-1...|\n",
      "|DeN5N6B78gysROm_S...|Little V.I.P's Pr...|   318 E Browning Rd|           Bellmawr|   NJ|      08031|   39.8654263|   -75.0680731|  3.5|           7|      1|                null|Education, Presch...|{Monday -> 6:30-1...|\n",
      "|6WBHCXHfLAG26n0AL...| U-Haul of Somerdale|411 White Horse Pike|          Somerdale|   NJ|      08083|   39.8490746|   -75.0228262|  1.5|          11|      1|{BusinessAcceptsC...|Automotive, Propa...|{Monday -> 7:0-19...|\n",
      "|rmHgqdVkLsGN2byes...|      Brewster's Pub|     2825 Route 73 S|        Maple Shade|   NJ|      08052|   39.9394973|   -74.9743023|  3.5|          12|      1|{RestaurantsGoodF...|American (Traditi...|{Monday -> 11:0-3...|\n",
      "|2_gRg3_oWK3GoiB-O...|     CedarBrook Deli|          24 N Rt 73|         Cedarbrook|   NJ|      08018|    39.721471|   -74.9016858|  3.5|           5|      0|{GoodForKids -> T...|Food, Convenience...|                null|\n",
      "|Wt1W6qwCvna1KzIuJ...|      Tokyo Mandarin|     370 Delsea Dr N|          Glassboro|   NJ|      08028|   39.7119376|   -75.1109667|  4.0|          88|      1|{RestaurantsDeliv...|Japanese, Restaur...|{Monday -> 11:0-2...|\n",
      "|fNssGWMjae-SUzyyG...|               Apron|      47 E Kings Hwy|        Haddonfield|   NJ|      08033|39.8971069811|-75.0342256956|  4.5|          24|      0|{BikeParking -> T...|Caterers, Event P...|{Monday -> 11:0-1...|\n",
      "|gb7JjRJtzWDsIWpJi...|          McDonald's|      417 N Broadway|         Pennsville|   NJ|      08070|39.6773020944|-75.4953995347|  2.0|          20|      1|{BusinessAcceptsC...|Food, Burgers, Re...|{Monday -> 0:0-0:...|\n",
      "|JPm93BlP-UHYPqFgK...|         Local Links|     533 Station Ave|     Haddon Heights|   NJ|      08035|   39.8826936|   -75.0583844|  4.5|          70|      1|{NoiseLevel -> u'...|Coffee & Tea, Res...|{Monday -> 10:0-1...|\n",
      "|RZpEMG2ILk4bL3lH3...|Medford Village C...|        11 N Main St|            Medford|   NJ|      08055|    39.899973|   -74.8231372|  4.5|          13|      1|{BusinessAcceptsC...|Automotive, Auto ...|{Monday -> 0:0-0:...|\n",
      "+--------------------+--------------------+--------------------+-------------------+-----+-----------+-------------+--------------+-----+------------+-------+--------------------+--------------------+--------------------+\n",
      "only showing top 20 rows\n",
      "\n"
     ]
    },
    {
     "name": "stderr",
     "output_type": "stream",
     "text": [
      "                                                                                \r"
     ]
    }
   ],
   "source": [
    "business_file.show(20)"
   ]
  },
  {
   "cell_type": "markdown",
   "metadata": {},
   "source": [
    "## checkins"
   ]
  },
  {
   "cell_type": "code",
   "execution_count": 10,
   "metadata": {},
   "outputs": [
    {
     "name": "stderr",
     "output_type": "stream",
     "text": [
      "[Stage 61:======================================>                   (2 + 1) / 3]\r"
     ]
    },
    {
     "name": "stdout",
     "output_type": "stream",
     "text": [
      "+--------------------+--------------------+\n",
      "|         business_id|                date|\n",
      "+--------------------+--------------------+\n",
      "|k9-r1j1VeWY1BLS0I...|2011-10-02 14:21:...|\n",
      "|k91vKZa8oDHGFEumL...|2012-05-05 23:00:...|\n",
      "|k920l7wHSjLZDJLvn...|2016-05-07 18:28:...|\n",
      "|k93U5RS4ohNqk9912...|2013-09-21 17:45:...|\n",
      "|k94QZmoxe9RwUgwu1...|2016-05-27 14:21:...|\n",
      "|k97mvU1TQ0Inr5vJ1...|2013-06-15 16:18:...|\n",
      "|k99d0o0T_qS8-oidI...|2013-07-15 14:07:...|\n",
      "|k9A4tAmei12tLprkr...|2011-01-21 16:04:...|\n",
      "|k9ASnJ6A-nBZhdwPN...|2011-01-19 22:19:...|\n",
      "|k9AnxGfiuHdB5DZo-...|2011-01-18 14:34:...|\n",
      "|k9CwhDTFoInTVUvmv...|2011-04-02 22:18:...|\n",
      "|k9H5CerrIu4tSiPQR...|2014-02-23 19:55:...|\n",
      "|k9HFcXSsqMPy29Lt_...|2014-07-12 23:37:...|\n",
      "|k9HrEbKuLHDc2rzxZ...|2012-12-08 21:08:...|\n",
      "|k9KqXzZByboldRrAs...|2018-03-01 19:12:...|\n",
      "|k9Ms586e_elwkuSfk...|2010-07-04 00:01:...|\n",
      "|k9QaQYOU-egM3UpS8...|2010-11-13 15:52:...|\n",
      "|k9SrdFwfKDQt-uLic...|2013-07-15 11:43:...|\n",
      "|k9TX0DT-WNz2S741t...|2011-07-01 03:33:...|\n",
      "|k9TyrHMGojZvQznyG...|2010-11-02 23:24:...|\n",
      "+--------------------+--------------------+\n",
      "only showing top 20 rows\n",
      "\n"
     ]
    },
    {
     "name": "stderr",
     "output_type": "stream",
     "text": [
      "                                                                                \r"
     ]
    }
   ],
   "source": [
    "checkin_file.show(20)"
   ]
  },
  {
   "cell_type": "markdown",
   "metadata": {},
   "source": [
    "## users"
   ]
  },
  {
   "cell_type": "code",
   "execution_count": 11,
   "metadata": {},
   "outputs": [
    {
     "name": "stderr",
     "output_type": "stream",
     "text": [
      "[Stage 70:======================================>                   (2 + 1) / 3]\r"
     ]
    },
    {
     "name": "stdout",
     "output_type": "stream",
     "text": [
      "+--------------------+---------+------------+-------------------+--------------------+------+-----+----+----+-----+-------------+--------------+---------------+------------------+---------------+---------------+---------------+----------------+---------------+----------------+-----------------+-----------------+\n",
      "|             user_id|     name|review_count|      yelping_since|             friends|useful|funny|cool|fans|elite|average_stars|compliment_hot|compliment_more|compliment_profile|compliment_cute|compliment_list|compliment_note|compliment_plain|compliment_cool|compliment_funny|compliment_writer|compliment_photos|\n",
      "+--------------------+---------+------------+-------------------+--------------------+------+-----+----+----+-----+-------------+--------------+---------------+------------------+---------------+---------------+---------------+----------------+---------------+----------------+-----------------+-----------------+\n",
      "|XACigsMQP4VYX970e...|       Al|           3|2019-06-30 19:07:49|                None|     1|    0|   0|   0|     |         2.25|             0|              0|                 0|              0|              0|              0|               0|              0|               0|                0|                0|\n",
      "|f7bENcNzAPWTCTfpq...|    Kacey|          41|2013-10-28 19:17:12|                None|    48|    8|   2|   0|     |         3.27|             0|              0|                 0|              0|              0|              0|               1|              0|               0|                0|                0|\n",
      "|mg0pSgLvuiXKqLsd_...|Magdaline|         114|2008-09-29 23:51:09|                None|    90|   21|  12|   1|     |          3.5|             0|              1|                 0|              0|              0|              0|               2|              0|               0|                0|                0|\n",
      "|K_JI1FyJK0XsDZLes...|  Raymond|           2|2015-06-23 03:17:35|                None|     1|    1|   0|   0|     |          2.5|             0|              0|                 0|              0|              0|              0|               0|              0|               0|                0|                0|\n",
      "|tY3MWGgsniWNsV91V...|    Chris|           2|2020-08-08 20:47:01|                None|     1|    0|   0|   0|     |          3.0|             0|              0|                 0|              0|              0|              0|               0|              0|               0|                0|                0|\n",
      "|J0R6DnDVQNvE3ClyU...|     Gina|           3|2018-06-09 23:54:01|                None|     0|    0|   1|   0|     |          5.0|             0|              0|                 0|              0|              0|              0|               0|              0|               0|                0|                0|\n",
      "|C_WRY1NVJcubm1Zw2...|      Tom|           1|2016-04-09 20:16:50|                None|     0|    0|   0|   0|     |          2.0|             0|              0|                 0|              0|              0|              0|               0|              0|               0|                0|                0|\n",
      "|sRJ64J6Je8lGWjYhc...|  La'Shay|           2|2019-10-26 20:58:08|                None|     5|    0|   0|   0|     |          3.0|             0|              0|                 0|              0|              0|              0|               0|              0|               0|                0|                0|\n",
      "|59lkmGn8N2h17XeTV...|  Alfonso|           1|2010-03-28 04:41:52|                None|     0|    0|   0|   0|     |          5.0|             0|              0|                 0|              0|              0|              0|               0|              0|               0|                0|                0|\n",
      "|At3j7dlAxq1burEKX...|  Brandon|           1|2021-05-24 00:37:58|                None|     0|    0|   0|   0|     |          4.0|             0|              0|                 0|              0|              0|              0|               0|              0|               0|                0|                0|\n",
      "|woKAtU0nZat0VVEs_...|   Joshua|           3|2019-08-27 18:08:27|                None|     0|    0|   0|   0|     |          5.0|             0|              0|                 0|              0|              0|              0|               0|              0|               0|                0|                0|\n",
      "|el1Gul69vhxwTMvv2...|    Lauri|           6|2018-10-12 06:25:06|                None|     1|    0|   0|   0|     |         3.13|             0|              0|                 0|              0|              0|              0|               0|              0|               0|                0|                0|\n",
      "|vYxJH8MyoJ0D7Xb1z...|  Michael|           7|2013-01-29 03:28:13|mEmvton1Nf5Xxlvkw...|    13|    5|   1|   0|     |         2.43|             0|              0|                 0|              0|              0|              0|               0|              0|               0|                0|                0|\n",
      "|PuDinDCk97WIkmVO8...|     Erin|          52|2014-08-25 05:55:59|Non3kRMY1WODJNh7d...|    18|    8|  11|   1|     |         4.24|             0|              0|                 0|              0|              0|              1|               1|              0|               0|                1|                0|\n",
      "|1hLbJExsX8vUXn4-j...|    Jason|          50|2011-04-08 00:33:27|WwulXySQN8t2hwqH_...|    50|    3|   9|   0|     |         3.98|             0|              0|                 0|              0|              0|              1|               0|              1|               1|                2|                0|\n",
      "|RGhnZWbN_ux73OwoP...|   Andrew|           9|2018-04-28 06:01:40|gVO3VZwCu54Otc7bU...|     4|    0|   1|   0|     |          4.7|             0|              0|                 0|              0|              0|              0|               0|              0|               0|                0|                0|\n",
      "|HqDuNOaNFnlV09FDE...|     Matt|          15|2018-08-07 01:24:02|PA-RRM9Eo0XUvmufv...|     2|    0|   0|   0|     |          4.4|             0|              0|                 0|              0|              0|              0|               0|              0|               0|                0|                0|\n",
      "|-dstJL5YOP7WLNjAa...|      Tim|           1|2014-11-14 14:51:40|                None|     0|    0|   0|   0|     |          2.0|             0|              0|                 0|              0|              0|              0|               0|              0|               0|                0|                0|\n",
      "|Nh6aC2umL__L21kQi...| Victoria|           7|2012-11-03 21:28:16|                None|     3|    1|   2|   0|     |         4.43|             0|              0|                 0|              0|              0|              0|               0|              0|               0|                0|                0|\n",
      "|k49xbkEr9AxCDGmqW...|     Lara|           6|2017-05-25 00:47:49|                None|     2|    0|   0|   0|     |          5.0|             0|              0|                 0|              0|              0|              0|               0|              0|               0|                0|                0|\n",
      "+--------------------+---------+------------+-------------------+--------------------+------+-----+----+----+-----+-------------+--------------+---------------+------------------+---------------+---------------+---------------+----------------+---------------+----------------+-----------------+-----------------+\n",
      "only showing top 20 rows\n",
      "\n"
     ]
    },
    {
     "name": "stderr",
     "output_type": "stream",
     "text": [
      "                                                                                \r"
     ]
    }
   ],
   "source": [
    "user_file.show(20)"
   ]
  },
  {
   "cell_type": "markdown",
   "metadata": {},
   "source": [
    "## reviews"
   ]
  },
  {
   "cell_type": "code",
   "execution_count": 13,
   "metadata": {},
   "outputs": [
    {
     "name": "stderr",
     "output_type": "stream",
     "text": [
      "                                                                                \r"
     ]
    },
    {
     "name": "stdout",
     "output_type": "stream",
     "text": [
      "+--------------------+--------------------+--------------------+-----+------+-----+----+--------------------+-------------------+----+-----+\n",
      "|           review_id|             user_id|         business_id|stars|useful|funny|cool|                text|               date|year|month|\n",
      "+--------------------+--------------------+--------------------+-----+------+-----+----+--------------------+-------------------+----+-----+\n",
      "|dlIO7e_OGH0rjZ2n6...|GB3qwSzhx2d8DmDSI...|ecI3FBTM0f99Fnml3...|  5.0|     0|    0|   0|One of my all tim...|2006-05-19 02:22:45|2006|    5|\n",
      "|p8gMItBQKZO4ka_K-...|FBRjdSizGuMyxQuSS...|fOhnSqmO4XY5vSI8w...|  3.0|     2|    0|   0|a light, airy atm...|2006-05-28 08:28:17|2006|    5|\n",
      "|wtFktH-lJsZFcD9Ye...|6OV_PFTl9RW2FmYQo...|udHVIrP8z10Y4M0oc...|  5.0|     1|    0|   0|Great place for p...|2006-05-07 02:16:44|2006|    5|\n",
      "|Pv7IhPgwadOpgKIad...|gfQqQYI5_hCAGEHlH...|Rrd1WEcFWYRH85HdH...|  3.0|     0|    1|   0|The bagels are pr...|2006-05-04 06:16:17|2006|    5|\n",
      "|p_MRUqC20YmV-_gcK...|fnBAgDX4D9mNgQZsj...|5bmMdTw_FtCKfbAwq...|  2.0|     0|    0|   0|I have to almost ...|2006-05-09 18:41:25|2006|    5|\n",
      "|9Q9-Kwm-6aVfGt99K...|sZUC9GbwvDHWrHl0D...|jIaycjmFK6ZecPx-t...|  5.0|     4|    2|   7|My 'Cheers.'  Not...|2006-05-18 04:15:34|2006|    5|\n",
      "|9VW3RXiC9B0Tjhacb...|6OV_PFTl9RW2FmYQo...|6qiBFWh4zQXTcac4K...|  3.0|     0|    0|   0|Interesting locat...|2006-05-07 00:25:00|2006|    5|\n",
      "|CR859y8PAIl2-7QvD...|W92Wd0GE_-13ogVeK...|6jr6xW05PcKutwr5l...|  5.0|     0|    0|   0|I often go to Nas...|2006-05-20 00:59:28|2006|    5|\n",
      "|SaA2H4R7mKTLeEtho...|gfQqQYI5_hCAGEHlH...|2ZSnGlqj8JOWcN2bN...|  5.0|     0|    0|   0|Excellent pastrie...|2006-05-31 18:47:33|2006|    5|\n",
      "|cmFMDaKBFOuhbOStJ...|BlLJmseYoL6iRKTft...|hKdo1RNp-fKiSVswc...|  4.0|     2|    0|   2|I've really been ...|2006-05-18 08:41:50|2006|    5|\n",
      "|nRoNl9-v6ncwkGDwk...|gfQqQYI5_hCAGEHlH...|jIaycjmFK6ZecPx-t...|  4.0|     1|    0|   0|Good Eritrean/Eth...|2006-05-19 22:07:16|2006|    5|\n",
      "|os6IPZD4HuPqCDYIb...|6OV_PFTl9RW2FmYQo...|RQX-UJUzYwuNYHepp...|  4.0|     4|    0|   0|Roberts is locate...|2006-05-10 09:25:49|2006|    5|\n",
      "|mXkoVUoFBv7ap-5uO...|gfQqQYI5_hCAGEHlH...|AR5KMwr7SsXPyhBfF...|  4.0|     1|    0|   0|Adorable store wi...|2006-05-12 06:02:10|2006|    5|\n",
      "|iDS7uYS7XDwhgi7gJ...|7rK9GO6D00V6Fzvh7...|EFql1oIf5JKaet3Sd...|  4.0|     1|    0|   1|Itemized:\\r\\n1) w...|2006-05-05 22:28:13|2006|    5|\n",
      "|LrBpGXkFUZTzCasLr...|Ct456aEICzDfn03MH...|Qw7tz-UkPrpXaVidW...|  5.0|     1|    1|   1|Incredible collec...|2006-05-28 15:11:21|2006|    5|\n",
      "|YEAWae3X2xGlxfblz...|TDXV6AC5PYOZEyN9e...|o46D9xB7lW3Zkumlj...|  4.0|     3|    0|   1|I'm actually not ...|2006-05-16 23:39:17|2006|    5|\n",
      "|IUQP5EZX-jEvgYzBI...|2l0O1EI1m0yWjFo2z...|Eqi8jrVowPBlCKAIn...|  4.0|     0|    0|   0|Absolutely the gr...|2006-05-26 00:00:05|2006|    5|\n",
      "|pWPqsYUeygqdH6u4i...|AIvveD8AcYnPqYE_V...|O3M5Hl8DJFZZ-7EW1...|  3.0|     0|    0|   0|I've had better. ...|2006-05-29 21:48:31|2006|    5|\n",
      "|ptd9-akBj3Vq1uCBZ...|3MYdpmHeNwC6FquRW...|JVdRFZ0fZmd36f-s3...|  4.0|     0|    0|   0|This is a quick o...|2006-05-27 04:44:51|2006|    5|\n",
      "|4EoKbEJvVvJ0uquwu...|_BHTC7nyCBoZcfiiD...|k40WgsXxRqe9qSHMv...|  5.0|     3|    0|   4|Considering all t...|2006-04-01 03:34:47|2006|    4|\n",
      "+--------------------+--------------------+--------------------+-----+------+-----+----+--------------------+-------------------+----+-----+\n",
      "only showing top 20 rows\n",
      "\n"
     ]
    },
    {
     "name": "stderr",
     "output_type": "stream",
     "text": [
      "                                                                                \r"
     ]
    }
   ],
   "source": [
    "review_file.show(20)"
   ]
  },
  {
   "cell_type": "markdown",
   "metadata": {},
   "source": [
    "## join reviews and user_name and business_name"
   ]
  },
  {
   "cell_type": "code",
   "execution_count": null,
   "metadata": {},
   "outputs": [],
   "source": [
    "jdbc_url = \"jdbc:postgresql://\" + creds[\"postgres_host\"] + \":5433/\" + creds[\"postgres_db\"]\n",
    "\n",
    "connection_properties = {\n",
    "    \"user\": creds[\"postgres_user\"],        # PostgreSQL username\n",
    "    \"password\": creds[\"postgres_password\"], # PostgreSQL password\n",
    "    \"driver\": \"org.postgresql.Driver\"       # JDBC driver class\n",
    "}\n",
    "\n",
    "join_query = \"\"\"\n",
    "    SELECT \n",
    "        r.*,\n",
    "        u.name as user_name,\n",
    "        b.name as business_name\n",
    "    FROM reviews r\n",
    "    LEFT JOIN users u ON r.user_id = u.user_id \n",
    "    LEFT JOIN business b ON r.business_id = b.business_id\n",
    "\"\"\"\n",
    "\n",
    "# Execute query using Spark's JDBC connection\n",
    "df_reviews_join = spark.read \\\n",
    "    .jdbc(url=jdbc_url,\n",
    "          table=f\"({join_query}) as reviews_join\",\n",
    "          properties=connection_properties)\n",
    "\n",
    "df_reviews_join.show()"
   ]
  },
  {
   "cell_type": "code",
   "execution_count": null,
   "metadata": {},
   "outputs": [
    {
     "ename": "AnalysisException",
     "evalue": "[TABLE_OR_VIEW_NOT_FOUND] The table or view `reviews` cannot be found. Verify the spelling and correctness of the schema and catalog.\nIf you did not qualify the name with a schema, verify the current_schema() output, or qualify the name with the correct schema and catalog.\nTo tolerate the error on drop use DROP VIEW IF EXISTS or DROP TABLE IF EXISTS.; line 6 pos 9;\n'Project [r.*, 'u.name AS user_name#3472, 'b.name AS business_name#3473]\n+- 'Join LeftOuter, ('r.business_id = 'b.business_id)\n   :- 'Join LeftOuter, ('r.user_id = 'u.user_id)\n   :  :- 'SubqueryAlias r\n   :  :  +- 'UnresolvedRelation [reviews], [], false\n   :  +- 'SubqueryAlias u\n   :     +- 'UnresolvedRelation [users], [], false\n   +- SubqueryAlias b\n      +- SubqueryAlias business\n         +- View (`business`, [business_id#37,name#38,address#39,city#40,state#41,postal_code#42,latitude#43,longitude#44,stars#45,review_count#46,is_open#47,attributes#48,categories#49,hours#50])\n            +- Relation [business_id#37,name#38,address#39,city#40,state#41,postal_code#42,latitude#43,longitude#44,stars#45,review_count#46,is_open#47,attributes#48,categories#49,hours#50] parquet\n",
     "output_type": "error",
     "traceback": [
      "\u001b[0;31m---------------------------------------------------------------------------\u001b[0m",
      "\u001b[0;31mAnalysisException\u001b[0m                         Traceback (most recent call last)",
      "\u001b[0;32m/tmp/ipykernel_12/1885606256.py\u001b[0m in \u001b[0;36m<module>\u001b[0;34m\u001b[0m\n\u001b[1;32m      6\u001b[0m     \u001b[0mFROM\u001b[0m \u001b[0mreviews\u001b[0m \u001b[0mr\u001b[0m\u001b[0;34m\u001b[0m\u001b[0;34m\u001b[0m\u001b[0m\n\u001b[1;32m      7\u001b[0m     \u001b[0mLEFT\u001b[0m \u001b[0mJOIN\u001b[0m \u001b[0musers\u001b[0m \u001b[0mu\u001b[0m \u001b[0mON\u001b[0m \u001b[0mr\u001b[0m\u001b[0;34m.\u001b[0m\u001b[0muser_id\u001b[0m \u001b[0;34m=\u001b[0m \u001b[0mu\u001b[0m\u001b[0;34m.\u001b[0m\u001b[0muser_id\u001b[0m\u001b[0;34m\u001b[0m\u001b[0;34m\u001b[0m\u001b[0m\n\u001b[0;32m----> 8\u001b[0;31m     LEFT JOIN business b ON r.business_id = b.business_id\"\"\")\n\u001b[0m",
      "\u001b[0;32m/usr/local/lib/python3.7/site-packages/pyspark/sql/session.py\u001b[0m in \u001b[0;36msql\u001b[0;34m(self, sqlQuery, args, **kwargs)\u001b[0m\n\u001b[1;32m   1438\u001b[0m         \u001b[0;32mtry\u001b[0m\u001b[0;34m:\u001b[0m\u001b[0;34m\u001b[0m\u001b[0;34m\u001b[0m\u001b[0m\n\u001b[1;32m   1439\u001b[0m             \u001b[0mlitArgs\u001b[0m \u001b[0;34m=\u001b[0m \u001b[0;34m{\u001b[0m\u001b[0mk\u001b[0m\u001b[0;34m:\u001b[0m \u001b[0m_to_java_column\u001b[0m\u001b[0;34m(\u001b[0m\u001b[0mlit\u001b[0m\u001b[0;34m(\u001b[0m\u001b[0mv\u001b[0m\u001b[0;34m)\u001b[0m\u001b[0;34m)\u001b[0m \u001b[0;32mfor\u001b[0m \u001b[0mk\u001b[0m\u001b[0;34m,\u001b[0m \u001b[0mv\u001b[0m \u001b[0;32min\u001b[0m \u001b[0;34m(\u001b[0m\u001b[0margs\u001b[0m \u001b[0;32mor\u001b[0m \u001b[0;34m{\u001b[0m\u001b[0;34m}\u001b[0m\u001b[0;34m)\u001b[0m\u001b[0;34m.\u001b[0m\u001b[0mitems\u001b[0m\u001b[0;34m(\u001b[0m\u001b[0;34m)\u001b[0m\u001b[0;34m}\u001b[0m\u001b[0;34m\u001b[0m\u001b[0;34m\u001b[0m\u001b[0m\n\u001b[0;32m-> 1440\u001b[0;31m             \u001b[0;32mreturn\u001b[0m \u001b[0mDataFrame\u001b[0m\u001b[0;34m(\u001b[0m\u001b[0mself\u001b[0m\u001b[0;34m.\u001b[0m\u001b[0m_jsparkSession\u001b[0m\u001b[0;34m.\u001b[0m\u001b[0msql\u001b[0m\u001b[0;34m(\u001b[0m\u001b[0msqlQuery\u001b[0m\u001b[0;34m,\u001b[0m \u001b[0mlitArgs\u001b[0m\u001b[0;34m)\u001b[0m\u001b[0;34m,\u001b[0m \u001b[0mself\u001b[0m\u001b[0;34m)\u001b[0m\u001b[0;34m\u001b[0m\u001b[0;34m\u001b[0m\u001b[0m\n\u001b[0m\u001b[1;32m   1441\u001b[0m         \u001b[0;32mfinally\u001b[0m\u001b[0;34m:\u001b[0m\u001b[0;34m\u001b[0m\u001b[0;34m\u001b[0m\u001b[0m\n\u001b[1;32m   1442\u001b[0m             \u001b[0;32mif\u001b[0m \u001b[0mlen\u001b[0m\u001b[0;34m(\u001b[0m\u001b[0mkwargs\u001b[0m\u001b[0;34m)\u001b[0m \u001b[0;34m>\u001b[0m \u001b[0;36m0\u001b[0m\u001b[0;34m:\u001b[0m\u001b[0;34m\u001b[0m\u001b[0;34m\u001b[0m\u001b[0m\n",
      "\u001b[0;32m/usr/local/lib/python3.7/site-packages/py4j/java_gateway.py\u001b[0m in \u001b[0;36m__call__\u001b[0;34m(self, *args)\u001b[0m\n\u001b[1;32m   1321\u001b[0m         \u001b[0manswer\u001b[0m \u001b[0;34m=\u001b[0m \u001b[0mself\u001b[0m\u001b[0;34m.\u001b[0m\u001b[0mgateway_client\u001b[0m\u001b[0;34m.\u001b[0m\u001b[0msend_command\u001b[0m\u001b[0;34m(\u001b[0m\u001b[0mcommand\u001b[0m\u001b[0;34m)\u001b[0m\u001b[0;34m\u001b[0m\u001b[0;34m\u001b[0m\u001b[0m\n\u001b[1;32m   1322\u001b[0m         return_value = get_return_value(\n\u001b[0;32m-> 1323\u001b[0;31m             answer, self.gateway_client, self.target_id, self.name)\n\u001b[0m\u001b[1;32m   1324\u001b[0m \u001b[0;34m\u001b[0m\u001b[0m\n\u001b[1;32m   1325\u001b[0m         \u001b[0;32mfor\u001b[0m \u001b[0mtemp_arg\u001b[0m \u001b[0;32min\u001b[0m \u001b[0mtemp_args\u001b[0m\u001b[0;34m:\u001b[0m\u001b[0;34m\u001b[0m\u001b[0;34m\u001b[0m\u001b[0m\n",
      "\u001b[0;32m/usr/local/lib/python3.7/site-packages/pyspark/errors/exceptions/captured.py\u001b[0m in \u001b[0;36mdeco\u001b[0;34m(*a, **kw)\u001b[0m\n\u001b[1;32m    173\u001b[0m                 \u001b[0;31m# Hide where the exception came from that shows a non-Pythonic\u001b[0m\u001b[0;34m\u001b[0m\u001b[0;34m\u001b[0m\u001b[0;34m\u001b[0m\u001b[0m\n\u001b[1;32m    174\u001b[0m                 \u001b[0;31m# JVM exception message.\u001b[0m\u001b[0;34m\u001b[0m\u001b[0;34m\u001b[0m\u001b[0;34m\u001b[0m\u001b[0m\n\u001b[0;32m--> 175\u001b[0;31m                 \u001b[0;32mraise\u001b[0m \u001b[0mconverted\u001b[0m \u001b[0;32mfrom\u001b[0m \u001b[0;32mNone\u001b[0m\u001b[0;34m\u001b[0m\u001b[0;34m\u001b[0m\u001b[0m\n\u001b[0m\u001b[1;32m    176\u001b[0m             \u001b[0;32melse\u001b[0m\u001b[0;34m:\u001b[0m\u001b[0;34m\u001b[0m\u001b[0;34m\u001b[0m\u001b[0m\n\u001b[1;32m    177\u001b[0m                 \u001b[0;32mraise\u001b[0m\u001b[0;34m\u001b[0m\u001b[0;34m\u001b[0m\u001b[0m\n",
      "\u001b[0;31mAnalysisException\u001b[0m: [TABLE_OR_VIEW_NOT_FOUND] The table or view `reviews` cannot be found. Verify the spelling and correctness of the schema and catalog.\nIf you did not qualify the name with a schema, verify the current_schema() output, or qualify the name with the correct schema and catalog.\nTo tolerate the error on drop use DROP VIEW IF EXISTS or DROP TABLE IF EXISTS.; line 6 pos 9;\n'Project [r.*, 'u.name AS user_name#3472, 'b.name AS business_name#3473]\n+- 'Join LeftOuter, ('r.business_id = 'b.business_id)\n   :- 'Join LeftOuter, ('r.user_id = 'u.user_id)\n   :  :- 'SubqueryAlias r\n   :  :  +- 'UnresolvedRelation [reviews], [], false\n   :  +- 'SubqueryAlias u\n   :     +- 'UnresolvedRelation [users], [], false\n   +- SubqueryAlias b\n      +- SubqueryAlias business\n         +- View (`business`, [business_id#37,name#38,address#39,city#40,state#41,postal_code#42,latitude#43,longitude#44,stars#45,review_count#46,is_open#47,attributes#48,categories#49,hours#50])\n            +- Relation [business_id#37,name#38,address#39,city#40,state#41,postal_code#42,latitude#43,longitude#44,stars#45,review_count#46,is_open#47,attributes#48,categories#49,hours#50] parquet\n"
     ]
    }
   ],
   "source": [
    "joined_df = spark.sql(\"\"\"\n",
    "    SELECT \n",
    "        r.*,\n",
    "        u.name as user_name,\n",
    "        b.name as business_name\n",
    "    FROM reviews r\n",
    "    LEFT JOIN users u ON r.user_id = u.user_id \n",
    "    LEFT JOIN business b ON r.business_id = b.business_id\n",
    "\"\"\")"
   ]
  },
  {
   "cell_type": "markdown",
   "metadata": {},
   "source": [
    "## tips"
   ]
  },
  {
   "cell_type": "code",
   "execution_count": 12,
   "metadata": {},
   "outputs": [
    {
     "name": "stdout",
     "output_type": "stream",
     "text": [
      "+--------------------+--------------------+--------------------+-------------------+----------------+----+\n",
      "|             user_id|         business_id|                text|               date|compliment_count|year|\n",
      "+--------------------+--------------------+--------------------+-------------------+----------------+----+\n",
      "|veuUOGS0bbOeQzu71...|aurSXIlX86Ob94kYv...|             Awesome|2021-01-01 23:19:41|               0|2021|\n",
      "|JfAqGalRYKo3Byw73...|mP9dVul2VKgVIs_kZ...|SO quick and easy...|2021-01-21 03:03:02|               0|2021|\n",
      "|ojvZZ_ZWRlfJDJN_k...|J7-mw216H21rjz-E7...|Love Kenny's flow...|2021-01-25 03:52:12|               0|2021|\n",
      "|77xznhdIIfltTaY5j...|m3NH0HumRCp4ARx8R...|Must try the chee...|2021-02-15 18:51:36|               0|2021|\n",
      "|lvthTfCQGD0qaEk6j...|ruXD0lB3rq4FMvnQL...|They have a touch...|2021-02-15 20:18:45|               0|2021|\n",
      "|rsopw45VdcXxw0zEY...|djeYYE2MIT36obh5m...|The one on McCarr...|2021-01-01 05:19:55|               0|2021|\n",
      "|3wVSwirz80_gXRcIB...|TsZEKqs0wzP3WHnPk...|Not the hotel's f...|2021-01-02 10:52:53|               0|2021|\n",
      "|SEZNAbkt7Gfk0WE7z...|EM0jUQn-SEnttG8hf...|Good but very lou...|2021-03-21 04:40:07|               0|2021|\n",
      "|Cwhly6PJGXu_5mvwV...|E3iF4Kw8H269jCWbd...|Park across the s...|2021-04-06 00:21:54|               0|2021|\n",
      "|A8AKb4nu91FxRhJLc...|TcNZXteosegb1RO4O...|You'll get there ...|2021-04-23 22:37:12|               0|2021|\n",
      "|D0faGVJFyGg9BiQmj...|saVXla5i8TjE51S5u...|$100 pp minimum. ...|2021-05-28 14:04:55|               0|2021|\n",
      "|-8pC7vDG58OHwowM6...|u4WC_qHGn03jwNdVm...|     Great cocktails|2021-06-09 07:55:23|               0|2021|\n",
      "|Dp90DEsgU2bgh_2qV...|L8mpwVQ_rCPDrXyKR...|Didn't get my car...|2021-05-28 22:37:40|               0|2021|\n",
      "|Pdmumg_rBSTHHaZN-...|BRewtSoPssadaodaI...|Yelp says open on...|2021-06-22 05:00:26|               0|2021|\n",
      "|HtIUwf7K-MaARjysF...|mU-Hac9udz0s7pAIQ...|Excellent lamb chops|2021-06-26 04:43:50|               0|2021|\n",
      "|3LxCEPYn42EqUebgk...|RUW5ahcbLe5kKYnEZ...|Yummy cold brew c...|2021-07-11 18:05:37|               0|2021|\n",
      "|TBnW13yhN1UJSquLJ...|cbr2Db20L6P50Csxs...|Delicious food, g...|2021-09-03 18:29:34|               0|2021|\n",
      "|6dZ5t5W471YoKzn1k...|bjQrmBSu1A7f5vprE...|Favorite spot in ...|2021-09-12 21:26:36|               0|2021|\n",
      "|qQ2HGqHV8L4aB1705...|AsMmX7njOzFkWsJQ1...|Go for the bacon,...|2021-09-17 20:25:40|               0|2021|\n",
      "|oV-jl_aaJegfaETKk...|vMS6aalBPqkf-4vAY...|Great food. Good ...|2021-09-28 21:23:39|               0|2021|\n",
      "+--------------------+--------------------+--------------------+-------------------+----------------+----+\n",
      "only showing top 20 rows\n",
      "\n"
     ]
    }
   ],
   "source": [
    "tip_file.show(20)"
   ]
  },
  {
   "cell_type": "code",
   "execution_count": 10,
   "metadata": {},
   "outputs": [
    {
     "name": "stderr",
     "output_type": "stream",
     "text": [
      "[Stage 103:==========================================>              (3 + 1) / 4]\r"
     ]
    },
    {
     "name": "stdout",
     "output_type": "stream",
     "text": [
      "+----+------+\n",
      "|year| count|\n",
      "+----+------+\n",
      "|2009|   665|\n",
      "|2010| 26712|\n",
      "|2011| 83395|\n",
      "|2012|110459|\n",
      "|2013|107563|\n",
      "|2014|109160|\n",
      "|2015| 89686|\n",
      "|2016| 94333|\n",
      "|2017| 93909|\n",
      "|2018| 67033|\n",
      "|2019| 57646|\n",
      "|2020| 32436|\n",
      "|2021| 34993|\n",
      "|2022|   925|\n",
      "+----+------+\n",
      "\n"
     ]
    },
    {
     "name": "stderr",
     "output_type": "stream",
     "text": [
      "                                                                                \r"
     ]
    }
   ],
   "source": [
    "tip_file.groupBy(\"year\").count().orderBy(\"year\").show()"
   ]
  },
  {
   "cell_type": "markdown",
   "metadata": {},
   "source": [
    "## spark sql"
   ]
  },
  {
   "cell_type": "code",
   "execution_count": 11,
   "metadata": {},
   "outputs": [
    {
     "name": "stderr",
     "output_type": "stream",
     "text": [
      "                                                                                \r"
     ]
    },
    {
     "name": "stdout",
     "output_type": "stream",
     "text": [
      "Number of joined records: 131930\n"
     ]
    },
    {
     "name": "stderr",
     "output_type": "stream",
     "text": [
      "                                                                                \r"
     ]
    },
    {
     "name": "stdout",
     "output_type": "stream",
     "text": [
      "+---------------------------------------------------+----------------------+----------------------------------------------------------------------------------------------------------------------------------------------------------------------------------------------------------------------------------------------------------------------------------------------------------------------------------------------------------------------------------------------------------------------------------------------------------------------------------------------------------------------------------------------------------------------------------------------------------------------------------------------------------------------------------------------------------------------------------------------------------------------------------------------------------------------------------------------------------------------------------------------------------------------------------------------------------------------------------------------------------------------------------------------------------------------------------------------------------------------------------------------------------------------------------------------------------------------------------------------------------------------------------------------------------------------------------------------------------------------------------------------------------------------------------------------------------------------------------------------------------------------------------------------------------------------------------------------------------------------------------------------------------------------------------------------------------------------------------------------------------------------------------------------------------------------------------------------------------------------------------------------------------------------------------------------------------------------------------------------------------------------------------------------------------------------------------------------------------------------------------------------------------------------------------------------------------------------------------------------------------------------------------------------------------------------------------------------------------------------------------------------------------------------------------------------------------------------------------------------------------------------------------------------------------------------------------------------------------------------------------------------------------------------------------------------------------------------------------------------------------------------------------------------------------------------------------------------------------------------------------------------------------------------------------------------------------------------------------------------------------------------------------------------------------------------------------------------------------------------------------------------------------------------------------------------------------------------------------------------------------------------------------------------------------------------------------------------------------------------------------------------------------------------------------------------------------------------------------------------------------------------------------------------------------------------------------------------------------------------------------------------------------------------------------------------------------------------------------------------------------------------------------------------------------------------------------------------------------------------------------------------------------------------------------------------------------------------------------------------------------------------------------------------------------------------------------------------------------------------------------------------------------------------------------------------------------------------------------------------------------------------------------------------------------------------------------------------------------------------------------------------------------------------------------------------------------------------------------------------------------------------------------------------------------------------------------------------------------------------------------------------------------------------------------------------------------------------------------------------------------------------------------------------------------------------------------------------------------------------------------------------------------------------------------------------------------------------------------------------------------------------------------------------------------------------------------------------------------------------------------------------------------------------------------------------------------------------------------------------------------------------------------------------------------------------------------------------------------------------------------------------------------------------------------------------------------------------------------------------------------------------------------------------------------------------------------------------------------------------------------------------------------------------------------------------------------------------------------------------------------------------------------------------------------------------------------------------------------------------------------------------------------------------------------------------------------------------------------------------------------------------------------------------------------------------------------------------------------------------------------------------------------------------------------------------------------------------------------------------------------------------------------------------------------------------------------------------------------------------------------------------------------------------------------------------------------------------------------------------------------------------------------------------------------------------------------------------------------------------------------------------------------------------------------------------------------------------------------------------------------------------------------------------------------------------------------------------------------------------------------------------------------------------------------------------------------------------------------------------------------------------------------------------------------------------------------------------------------------------------------------------------------------------------------------------------------------------------------------------------------------------------------------------------------------------------------------------------------------------------------------------------------------------------------------------------------------------------------------------------------------------------------------------------------------------------------------------------------------------------------------------------------------------------------------------------------------------------------------------------------------------------------------------------------------------------------------------------------------------------------------------------------------------------------------------------------------------------------------------------------------------------------------------+\n",
      "|business_name                                      |business_id           |checkin_date                                                                                                                                                                                                                                                                                                                                                                                                                                                                                                                                                                                                                                                                                                                                                                                                                                                                                                                                                                                                                                                                                                                                                                                                                                                                                                                                                                                                                                                                                                                                                                                                                                                                                                                                                                                                                                                                                                                                                                                                                                                                                                                                                                                                                                                                                                                                                                                                                                                                                                                                                                                                                                                                                                                                                                                                                                                                                                                                                                                                                                                                                                                                                                                                                                                                                                                                                                                                                                                                                                                                                                                                                                                                                                                                                                                                                                                                                                                                                                                                                                                                                                                                                                                                                                                                                                                                                                                                                                                                                                                                                                                                                                                                                                                                                                                                                                                                                                                                                                                                                                                                                                                                                                                                                                                                                                                                                                                                                                                                                                                                                                                                                                                                                                                                                                                                                                                                                                                                                                                                                                                                                                                                                                                                                                                                                                                                                                                                                                                                                                                                                                                                                                                                                                                                                                                                                                                                                                                                                                                                                                                                                                                                                                                                                                                                                                                                                                                                                                                                                                                                                                                                                                                                                                                                                                                                                                                                                                                                                                                                                                  |\n",
      "+---------------------------------------------------+----------------------+----------------------------------------------------------------------------------------------------------------------------------------------------------------------------------------------------------------------------------------------------------------------------------------------------------------------------------------------------------------------------------------------------------------------------------------------------------------------------------------------------------------------------------------------------------------------------------------------------------------------------------------------------------------------------------------------------------------------------------------------------------------------------------------------------------------------------------------------------------------------------------------------------------------------------------------------------------------------------------------------------------------------------------------------------------------------------------------------------------------------------------------------------------------------------------------------------------------------------------------------------------------------------------------------------------------------------------------------------------------------------------------------------------------------------------------------------------------------------------------------------------------------------------------------------------------------------------------------------------------------------------------------------------------------------------------------------------------------------------------------------------------------------------------------------------------------------------------------------------------------------------------------------------------------------------------------------------------------------------------------------------------------------------------------------------------------------------------------------------------------------------------------------------------------------------------------------------------------------------------------------------------------------------------------------------------------------------------------------------------------------------------------------------------------------------------------------------------------------------------------------------------------------------------------------------------------------------------------------------------------------------------------------------------------------------------------------------------------------------------------------------------------------------------------------------------------------------------------------------------------------------------------------------------------------------------------------------------------------------------------------------------------------------------------------------------------------------------------------------------------------------------------------------------------------------------------------------------------------------------------------------------------------------------------------------------------------------------------------------------------------------------------------------------------------------------------------------------------------------------------------------------------------------------------------------------------------------------------------------------------------------------------------------------------------------------------------------------------------------------------------------------------------------------------------------------------------------------------------------------------------------------------------------------------------------------------------------------------------------------------------------------------------------------------------------------------------------------------------------------------------------------------------------------------------------------------------------------------------------------------------------------------------------------------------------------------------------------------------------------------------------------------------------------------------------------------------------------------------------------------------------------------------------------------------------------------------------------------------------------------------------------------------------------------------------------------------------------------------------------------------------------------------------------------------------------------------------------------------------------------------------------------------------------------------------------------------------------------------------------------------------------------------------------------------------------------------------------------------------------------------------------------------------------------------------------------------------------------------------------------------------------------------------------------------------------------------------------------------------------------------------------------------------------------------------------------------------------------------------------------------------------------------------------------------------------------------------------------------------------------------------------------------------------------------------------------------------------------------------------------------------------------------------------------------------------------------------------------------------------------------------------------------------------------------------------------------------------------------------------------------------------------------------------------------------------------------------------------------------------------------------------------------------------------------------------------------------------------------------------------------------------------------------------------------------------------------------------------------------------------------------------------------------------------------------------------------------------------------------------------------------------------------------------------------------------------------------------------------------------------------------------------------------------------------------------------------------------------------------------------------------------------------------------------------------------------------------------------------------------------------------------------------------------------------------------------------------------------------------------------------------------------------------------------------------------------------------------------------------------------------------------------------------------------------------------------------------------------------------------------------------------------------------------------------------------------------------------------------------------------------------------------------------------------------------------------------------------------------------------------------------------------------------------------------------------------------------------------------------------------------------------------------------------------------------------------------------------------------------------------------------------------------------------------------------------------------------------------------------------------------------------------------------------------------------------------------------------------------------------------------------------------------------------------+\n",
      "| Grow Academy                                      |nL5Lu2HbjAYClsassArjXA|2012-10-04 22:34:18, 2014-03-27 12:27:59                                                                                                                                                                                                                                                                                                                                                                                                                                                                                                                                                                                                                                                                                                                                                                                                                                                                                                                                                                                                                                                                                                                                                                                                                                                                                                                                                                                                                                                                                                                                                                                                                                                                                                                                                                                                                                                                                                                                                                                                                                                                                                                                                                                                                                                                                                                                                                                                                                                                                                                                                                                                                                                                                                                                                                                                                                                                                                                                                                                                                                                                                                                                                                                                                                                                                                                                                                                                                                                                                                                                                                                                                                                                                                                                                                                                                                                                                                                                                                                                                                                                                                                                                                                                                                                                                                                                                                                                                                                                                                                                                                                                                                                                                                                                                                                                                                                                                                                                                                                                                                                                                                                                                                                                                                                                                                                                                                                                                                                                                                                                                                                                                                                                                                                                                                                                                                                                                                                                                                                                                                                                                                                                                                                                                                                                                                                                                                                                                                                                                                                                                                                                                                                                                                                                                                                                                                                                                                                                                                                                                                                                                                                                                                                                                                                                                                                                                                                                                                                                                                                                                                                                                                                                                                                                                                                                                                                                                                                                                                                                      |\n",
      "| Joe's Throwback Barber Shop                       |t7vVRlyF9_lxuL1auqVchg|2015-08-05 20:16:12, 2016-05-25 20:49:56, 2018-12-02 20:51:16, 2019-02-17 19:40:20                                                                                                                                                                                                                                                                                                                                                                                                                                                                                                                                                                                                                                                                                                                                                                                                                                                                                                                                                                                                                                                                                                                                                                                                                                                                                                                                                                                                                                                                                                                                                                                                                                                                                                                                                                                                                                                                                                                                                                                                                                                                                                                                                                                                                                                                                                                                                                                                                                                                                                                                                                                                                                                                                                                                                                                                                                                                                                                                                                                                                                                                                                                                                                                                                                                                                                                                                                                                                                                                                                                                                                                                                                                                                                                                                                                                                                                                                                                                                                                                                                                                                                                                                                                                                                                                                                                                                                                                                                                                                                                                                                                                                                                                                                                                                                                                                                                                                                                                                                                                                                                                                                                                                                                                                                                                                                                                                                                                                                                                                                                                                                                                                                                                                                                                                                                                                                                                                                                                                                                                                                                                                                                                                                                                                                                                                                                                                                                                                                                                                                                                                                                                                                                                                                                                                                                                                                                                                                                                                                                                                                                                                                                                                                                                                                                                                                                                                                                                                                                                                                                                                                                                                                                                                                                                                                                                                                                                                                                                                            |\n",
      "| Xtreme Laser Tag Avon                             |f9pqgFRKMoN75uqzxd7KHw|2013-04-13 19:07:45, 2016-01-24 04:07:20, 2017-10-28 16:54:35, 2018-02-24 14:55:56, 2019-01-05 23:32:13, 2019-06-01 16:20:22, 2019-10-19 23:44:21, 2019-10-24 23:23:35, 2019-10-24 23:27:24, 2019-11-24 20:53:49                                                                                                                                                                                                                                                                                                                                                                                                                                                                                                                                                                                                                                                                                                                                                                                                                                                                                                                                                                                                                                                                                                                                                                                                                                                                                                                                                                                                                                                                                                                                                                                                                                                                                                                                                                                                                                                                                                                                                                                                                                                                                                                                                                                                                                                                                                                                                                                                                                                                                                                                                                                                                                                                                                                                                                                                                                                                                                                                                                                                                                                                                                                                                                                                                                                                                                                                                                                                                                                                                                                                                                                                                                                                                                                                                                                                                                                                                                                                                                                                                                                                                                                                                                                                                                                                                                                                                                                                                                                                                                                                                                                                                                                                                                                                                                                                                                                                                                                                                                                                                                                                                                                                                                                                                                                                                                                                                                                                                                                                                                                                                                                                                                                                                                                                                                                                                                                                                                                                                                                                                                                                                                                                                                                                                                                                                                                                                                                                                                                                                                                                                                                                                                                                                                                                                                                                                                                                                                                                                                                                                                                                                                                                                                                                                                                                                                                                                                                                                                                                                                                                                                                                                                                                                                                                                                                                                              |\n",
      "|\"Genuino\" Italian Cafe'                            |ihYl-uK0PYNPeFskcNAr-g|2018-09-08 14:46:26, 2018-10-19 17:51:39, 2018-10-22 17:51:46, 2018-10-27 18:15:04, 2018-12-26 18:50:35, 2018-12-27 17:13:16, 2018-12-31 00:56:14, 2018-12-31 01:32:00, 2019-02-10 16:17:22, 2019-02-10 22:59:16, 2019-02-13 01:37:51, 2019-02-15 19:57:42, 2019-02-21 19:59:33, 2019-03-02 19:28:04, 2019-04-06 21:00:17, 2019-04-13 19:48:03, 2019-04-26 17:04:23, 2019-04-28 18:31:23, 2019-04-29 14:44:55, 2019-05-14 16:29:01, 2019-05-18 20:15:05, 2019-06-26 23:46:55, 2019-07-13 16:19:17, 2019-07-19 14:12:03, 2019-09-12 13:27:59, 2019-09-17 19:17:30, 2019-09-21 13:50:29, 2019-09-24 13:52:04, 2019-09-29 15:03:06, 2019-10-18 20:29:17, 2019-10-20 00:41:03, 2019-12-13 20:52:33, 2020-01-23 18:22:28, 2020-07-12 22:22:19                                                                                                                                                                                                                                                                                                                                                                                                                                                                                                                                                                                                                                                                                                                                                                                                                                                                                                                                                                                                                                                                                                                                                                                                                                                                                                                                                                                                                                                                                                                                                                                                                                                                                                                                                                                                                                                                                                                                                                                                                                                                                                                                                                                                                                                                                                                                                                                                                                                                                                                                                                                                                                                                                                                                                                                                                                                                                                                                                                                                                                                                                                                                                                                                                                                                                                                                                                                                                                                                                                                                                                                                                                                                                                                                                                                                                                                                                                                                                                                                                                                                                                                                                                                                                                                                                                                                                                                                                                                                                                                                                                                                                                                                                                                                                                                                                                                                                                                                                                                                                                                                                                                                                                                                                                                                                                                                                                                                                                                                                                                                                                                                                                                                                                                                                                                                                                                                                                                                                                                                                                                                                                                                                                                                                                                                                                                                                                                                                                                                                                                                                                                                                                                                                                                                                                                                                                                                                                                                                                                                                                                                                                                                                                                                                                                                                                      |\n",
      "|\"No Macarena\" DJ & Custom Music Service            |BWo8s2skxQGZUgVooK2HZQ|2012-08-12 22:45:36, 2012-11-06 12:04:15, 2013-01-20 05:12:36, 2016-09-06 09:54:37, 2016-09-07 08:16:18                                                                                                                                                                                                                                                                                                                                                                                                                                                                                                                                                                                                                                                                                                                                                                                                                                                                                                                                                                                                                                                                                                                                                                                                                                                                                                                                                                                                                                                                                                                                                                                                                                                                                                                                                                                                                                                                                                                                                                                                                                                                                                                                                                                                                                                                                                                                                                                                                                                                                                                                                                                                                                                                                                                                                                                                                                                                                                                                                                                                                                                                                                                                                                                                                                                                                                                                                                                                                                                                                                                                                                                                                                                                                                                                                                                                                                                                                                                                                                                                                                                                                                                                                                                                                                                                                                                                                                                                                                                                                                                                                                                                                                                                                                                                                                                                                                                                                                                                                                                                                                                                                                                                                                                                                                                                                                                                                                                                                                                                                                                                                                                                                                                                                                                                                                                                                                                                                                                                                                                                                                                                                                                                                                                                                                                                                                                                                                                                                                                                                                                                                                                                                                                                                                                                                                                                                                                                                                                                                                                                                                                                                                                                                                                                                                                                                                                                                                                                                                                                                                                                                                                                                                                                                                                                                                                                                                                                                                                                       |\n",
      "|# 1 Nail Salon                                     |tHSjsiuFhWKlp-B0sMo1jA|2011-05-22 01:47:42, 2015-02-26 20:10:57, 2015-04-01 20:01:44, 2015-05-08 17:48:01, 2016-12-10 23:18:16, 2016-12-18 19:07:39, 2017-11-07 03:04:19, 2018-09-16 21:11:48                                                                                                                                                                                                                                                                                                                                                                                                                                                                                                                                                                                                                                                                                                                                                                                                                                                                                                                                                                                                                                                                                                                                                                                                                                                                                                                                                                                                                                                                                                                                                                                                                                                                                                                                                                                                                                                                                                                                                                                                                                                                                                                                                                                                                                                                                                                                                                                                                                                                                                                                                                                                                                                                                                                                                                                                                                                                                                                                                                                                                                                                                                                                                                                                                                                                                                                                                                                                                                                                                                                                                                                                                                                                                                                                                                                                                                                                                                                                                                                                                                                                                                                                                                                                                                                                                                                                                                                                                                                                                                                                                                                                                                                                                                                                                                                                                                                                                                                                                                                                                                                                                                                                                                                                                                                                                                                                                                                                                                                                                                                                                                                                                                                                                                                                                                                                                                                                                                                                                                                                                                                                                                                                                                                                                                                                                                                                                                                                                                                                                                                                                                                                                                                                                                                                                                                                                                                                                                                                                                                                                                                                                                                                                                                                                                                                                                                                                                                                                                                                                                                                                                                                                                                                                                                                                                                                                                                                        |\n",
      "|#1 Auto Spa                                        |osq8dtEqd98hRDzCQRqnyw|2011-10-09 15:32:23, 2016-05-27 16:04:35, 2018-06-02 17:56:36, 2020-01-11 21:11:12                                                                                                                                                                                                                                                                                                                                                                                                                                                                                                                                                                                                                                                                                                                                                                                                                                                                                                                                                                                                                                                                                                                                                                                                                                                                                                                                                                                                                                                                                                                                                                                                                                                                                                                                                                                                                                                                                                                                                                                                                                                                                                                                                                                                                                                                                                                                                                                                                                                                                                                                                                                                                                                                                                                                                                                                                                                                                                                                                                                                                                                                                                                                                                                                                                                                                                                                                                                                                                                                                                                                                                                                                                                                                                                                                                                                                                                                                                                                                                                                                                                                                                                                                                                                                                                                                                                                                                                                                                                                                                                                                                                                                                                                                                                                                                                                                                                                                                                                                                                                                                                                                                                                                                                                                                                                                                                                                                                                                                                                                                                                                                                                                                                                                                                                                                                                                                                                                                                                                                                                                                                                                                                                                                                                                                                                                                                                                                                                                                                                                                                                                                                                                                                                                                                                                                                                                                                                                                                                                                                                                                                                                                                                                                                                                                                                                                                                                                                                                                                                                                                                                                                                                                                                                                                                                                                                                                                                                                                                                            |\n",
      "|#1 Mongolian BBQ - Best Stir Fried Noodles In Boise|oCVcvXmtVJKAH8vpFCoVyg|2010-08-21 23:35:15, 2010-10-03 00:22:47, 2010-12-18 19:42:48, 2010-12-24 00:18:56, 2011-03-23 17:42:18, 2012-12-12 04:20:20, 2013-06-28 00:54:33, 2013-07-14 00:13:11, 2013-09-18 22:36:07, 2013-11-02 00:48:07, 2014-04-10 17:46:18, 2014-07-25 00:17:36, 2014-09-01 22:13:03, 2014-10-01 19:05:57, 2014-11-05 01:55:28, 2015-02-22 00:48:09, 2015-04-04 19:33:23, 2015-04-27 19:39:39, 2015-07-12 02:03:15, 2015-08-12 19:02:10, 2015-09-30 02:27:08, 2016-02-27 05:45:28, 2016-04-30 19:04:52, 2016-05-05 00:58:32, 2016-06-10 21:20:13, 2016-06-18 02:36:03, 2016-07-13 22:51:52, 2016-07-17 02:45:43, 2016-08-06 22:33:42, 2016-08-11 01:02:20, 2016-08-11 01:12:42, 2016-08-17 23:39:35, 2017-02-19 21:58:07, 2017-03-17 18:44:00, 2017-07-22 00:52:26, 2017-10-22 20:34:22, 2017-10-23 00:39:09, 2018-02-23 02:11:57, 2018-06-16 23:33:46, 2018-06-28 22:34:48, 2018-07-08 23:49:24, 2018-08-31 00:26:54, 2018-09-30 23:28:55, 2018-11-15 21:34:35, 2018-12-15 21:20:47, 2018-12-23 23:49:07, 2019-07-28 03:22:52, 2020-01-04 01:28:52, 2020-01-06 22:34:11, 2020-11-10 18:43:08                                                                                                                                                                                                                                                                                                                                                                                                                                                                                                                                                                                                                                                                                                                                                                                                                                                                                                                                                                                                                                                                                                                                                                                                                                                                                                                                                                                                                                                                                                                                                                                                                                                                                                                                                                                                                                                                                                                                                                                                                                                                                                                                                                                                                                                                                                                                                                                                                                                                                                                                                                                                                                                                                                                                                                                                                                                                                                                                                                                                                                                                                                                                                                                                                                                                                                                                                                                                                                                                                                                                                                                                                                                                                                                                                                                                                                                                                                                                                                                                                                                                                                                                                                                                                                                                                                                                                                                                                                                                                                                                                                                                                                                                                                                                                                                                                                                                                                                                                                                                                                                                                                                                                                                                                                                                                                                                                                                                                                                                                                                                                                                                                                                                                                                                                                                                                                                                                                                                                                                                                                                                                                                                                                                                                                                                                                                                                                                                                                                                                                                                                                                                                                                                                                                                                                                                                                                                                                                                                      |\n",
      "|#1 Nails & Spa                                     |ImV-eU1l08FMgZ1gtrI4mA|2015-03-23 21:19:47, 2015-04-10 16:24:12, 2015-04-27 21:08:17, 2015-05-08 20:24:32, 2015-06-05 16:52:03, 2015-06-22 15:46:34, 2015-07-11 14:48:16, 2015-08-07 16:52:09, 2015-10-07 21:53:21, 2016-01-04 19:01:54, 2016-01-09 16:15:21, 2016-03-21 14:04:45, 2017-04-01 15:08:31, 2017-04-21 21:41:23, 2017-07-07 16:59:17, 2018-03-31 23:08:16, 2018-07-13 16:49:15, 2018-08-24 16:52:56, 2019-03-23 16:55:42, 2019-07-16 01:28:37, 2019-08-03 17:50:59, 2019-08-24 16:53:28, 2019-09-14 16:43:23, 2019-09-28 20:26:05, 2019-12-14 18:15:45, 2020-01-04 18:35:02, 2020-02-01 19:11:01, 2020-07-15 21:52:23, 2020-08-17 20:12:03, 2020-09-09 21:24:58, 2020-09-30 22:25:00, 2020-10-16 19:04:17, 2020-11-07 16:22:48, 2021-03-27 17:29:01, 2021-04-23 20:57:20, 2021-05-14 16:03:20, 2021-06-04 17:42:55, 2021-06-23 13:56:46, 2021-08-02 19:02:34, 2021-10-27 16:41:51, 2021-10-30 19:50:42                                                                                                                                                                                                                                                                                                                                                                                                                                                                                                                                                                                                                                                                                                                                                                                                                                                                                                                                                                                                                                                                                                                                                                                                                                                                                                                                                                                                                                                                                                                                                                                                                                                                                                                                                                                                                                                                                                                                                                                                                                                                                                                                                                                                                                                                                                                                                                                                                                                                                                                                                                                                                                                                                                                                                                                                                                                                                                                                                                                                                                                                                                                                                                                                                                                                                                                                                                                                                                                                                                                                                                                                                                                                                                                                                                                                                                                                                                                                                                                                                                                                                                                                                                                                                                                                                                                                                                                                                                                                                                                                                                                                                                                                                                                                                                                                                                                                                                                                                                                                                                                                                                                                                                                                                                                                                                                                                                                                                                                                                                                                                                                                                                                                                                                                                                                                                                                                                                                                                                                                                                                                                                                                                                                                                                                                                                                                                                                                                                                                                                                                                                                                                                                                                                                                                                                                                                                                                                                                                                                                                                                                                                                                                   |\n",
      "|$1.99 Cleaners                                     |87Zi_Fq664GnXp8LMydB1g|2012-07-27 15:11:04, 2014-01-27 13:39:04, 2016-05-28 18:22:56, 2016-08-15 18:35:58                                                                                                                                                                                                                                                                                                                                                                                                                                                                                                                                                                                                                                                                                                                                                                                                                                                                                                                                                                                                                                                                                                                                                                                                                                                                                                                                                                                                                                                                                                                                                                                                                                                                                                                                                                                                                                                                                                                                                                                                                                                                                                                                                                                                                                                                                                                                                                                                                                                                                                                                                                                                                                                                                                                                                                                                                                                                                                                                                                                                                                                                                                                                                                                                                                                                                                                                                                                                                                                                                                                                                                                                                                                                                                                                                                                                                                                                                                                                                                                                                                                                                                                                                                                                                                                                                                                                                                                                                                                                                                                                                                                                                                                                                                                                                                                                                                                                                                                                                                                                                                                                                                                                                                                                                                                                                                                                                                                                                                                                                                                                                                                                                                                                                                                                                                                                                                                                                                                                                                                                                                                                                                                                                                                                                                                                                                                                                                                                                                                                                                                                                                                                                                                                                                                                                                                                                                                                                                                                                                                                                                                                                                                                                                                                                                                                                                                                                                                                                                                                                                                                                                                                                                                                                                                                                                                                                                                                                                                                                            |\n",
      "|$1.99 Cleaners                                     |ZkC4JHxXwMT1pT-itEar8Q|2018-01-11 00:41:49, 2021-04-05 12:05:54                                                                                                                                                                                                                                                                                                                                                                                                                                                                                                                                                                                                                                                                                                                                                                                                                                                                                                                                                                                                                                                                                                                                                                                                                                                                                                                                                                                                                                                                                                                                                                                                                                                                                                                                                                                                                                                                                                                                                                                                                                                                                                                                                                                                                                                                                                                                                                                                                                                                                                                                                                                                                                                                                                                                                                                                                                                                                                                                                                                                                                                                                                                                                                                                                                                                                                                                                                                                                                                                                                                                                                                                                                                                                                                                                                                                                                                                                                                                                                                                                                                                                                                                                                                                                                                                                                                                                                                                                                                                                                                                                                                                                                                                                                                                                                                                                                                                                                                                                                                                                                                                                                                                                                                                                                                                                                                                                                                                                                                                                                                                                                                                                                                                                                                                                                                                                                                                                                                                                                                                                                                                                                                                                                                                                                                                                                                                                                                                                                                                                                                                                                                                                                                                                                                                                                                                                                                                                                                                                                                                                                                                                                                                                                                                                                                                                                                                                                                                                                                                                                                                                                                                                                                                                                                                                                                                                                                                                                                                                                                                      |\n",
      "|$155 Flat Rate Hauling Trash Removal               |VG9Uz8YL8_-DdAY6nB_m6A|2021-12-30 17:14:09                                                                                                                                                                                                                                                                                                                                                                                                                                                                                                                                                                                                                                                                                                                                                                                                                                                                                                                                                                                                                                                                                                                                                                                                                                                                                                                                                                                                                                                                                                                                                                                                                                                                                                                                                                                                                                                                                                                                                                                                                                                                                                                                                                                                                                                                                                                                                                                                                                                                                                                                                                                                                                                                                                                                                                                                                                                                                                                                                                                                                                                                                                                                                                                                                                                                                                                                                                                                                                                                                                                                                                                                                                                                                                                                                                                                                                                                                                                                                                                                                                                                                                                                                                                                                                                                                                                                                                                                                                                                                                                                                                                                                                                                                                                                                                                                                                                                                                                                                                                                                                                                                                                                                                                                                                                                                                                                                                                                                                                                                                                                                                                                                                                                                                                                                                                                                                                                                                                                                                                                                                                                                                                                                                                                                                                                                                                                                                                                                                                                                                                                                                                                                                                                                                                                                                                                                                                                                                                                                                                                                                                                                                                                                                                                                                                                                                                                                                                                                                                                                                                                                                                                                                                                                                                                                                                                                                                                                                                                                                                                                           |\n",
      "|$225 Cleaners                                      |WEzjLulgOZTRtZWBPCNPKQ|2010-10-27 19:18:34, 2011-05-07 14:06:21, 2011-05-14 16:59:22, 2011-11-08 20:47:27, 2011-11-16 21:35:59, 2011-12-04 04:35:34, 2011-12-17 03:47:09, 2012-04-05 08:23:11, 2012-04-23 22:26:25, 2012-07-20 10:49:18, 2012-07-29 03:55:48, 2013-08-05 23:35:57, 2013-10-15 21:46:10, 2013-11-21 16:17:29, 2014-03-18 18:44:18, 2017-11-01 18:41:26                                                                                                                                                                                                                                                                                                                                                                                                                                                                                                                                                                                                                                                                                                                                                                                                                                                                                                                                                                                                                                                                                                                                                                                                                                                                                                                                                                                                                                                                                                                                                                                                                                                                                                                                                                                                                                                                                                                                                                                                                                                                                                                                                                                                                                                                                                                                                                                                                                                                                                                                                                                                                                                                                                                                                                                                                                                                                                                                                                                                                                                                                                                                                                                                                                                                                                                                                                                                                                                                                                                                                                                                                                                                                                                                                                                                                                                                                                                                                                                                                                                                                                                                                                                                                                                                                                                                                                                                                                                                                                                                                                                                                                                                                                                                                                                                                                                                                                                                                                                                                                                                                                                                                                                                                                                                                                                                                                                                                                                                                                                                                                                                                                                                                                                                                                                                                                                                                                                                                                                                                                                                                                                                                                                                                                                                                                                                                                                                                                                                                                                                                                                                                                                                                                                                                                                                                                                                                                                                                                                                                                                                                                                                                                                                                                                                                                                                                                                                                                                                                                                                                                                                                                                                                                |\n",
      "|$5.00 Car Wash                                     |zEa5L-ctmIJzc1aN582EOQ|2013-12-28 17:47:49, 2014-01-18 18:44:40, 2014-01-27 22:44:48, 2014-01-29 22:18:20, 2014-03-21 21:18:58, 2014-06-04 19:08:43, 2014-09-19 20:24:31, 2014-09-23 18:21:11, 2016-01-08 15:32:17, 2016-04-17 17:02:23, 2017-08-05 21:37:57, 2018-02-18 22:04:18, 2018-08-20 15:24:30, 2019-03-24 14:51:46, 2019-05-24 18:11:23, 2019-10-12 20:29:05                                                                                                                                                                                                                                                                                                                                                                                                                                                                                                                                                                                                                                                                                                                                                                                                                                                                                                                                                                                                                                                                                                                                                                                                                                                                                                                                                                                                                                                                                                                                                                                                                                                                                                                                                                                                                                                                                                                                                                                                                                                                                                                                                                                                                                                                                                                                                                                                                                                                                                                                                                                                                                                                                                                                                                                                                                                                                                                                                                                                                                                                                                                                                                                                                                                                                                                                                                                                                                                                                                                                                                                                                                                                                                                                                                                                                                                                                                                                                                                                                                                                                                                                                                                                                                                                                                                                                                                                                                                                                                                                                                                                                                                                                                                                                                                                                                                                                                                                                                                                                                                                                                                                                                                                                                                                                                                                                                                                                                                                                                                                                                                                                                                                                                                                                                                                                                                                                                                                                                                                                                                                                                                                                                                                                                                                                                                                                                                                                                                                                                                                                                                                                                                                                                                                                                                                                                                                                                                                                                                                                                                                                                                                                                                                                                                                                                                                                                                                                                                                                                                                                                                                                                                                                                |\n",
      "|&pizza - UPenn                                     |k_43W3zbbEuvYuLZviSJKA|2018-08-13 22:17:31, 2018-08-13 22:18:31, 2018-08-13 23:25:04, 2018-08-16 17:54:00, 2018-08-19 21:27:17, 2018-08-25 17:50:45, 2018-08-26 18:10:16, 2018-08-30 01:57:07, 2018-09-04 22:11:24, 2018-09-11 00:43:15, 2018-09-11 20:11:21, 2018-09-12 21:33:43, 2018-10-20 19:40:27, 2018-10-25 01:26:52, 2018-10-31 23:46:58, 2018-10-31 23:56:44, 2018-11-01 00:21:06, 2018-11-01 00:47:58, 2018-11-01 02:11:11, 2018-11-01 03:37:36, 2018-11-10 04:40:11, 2018-11-10 23:40:24, 2018-11-17 20:20:10, 2018-11-21 20:14:10, 2018-11-21 22:20:26, 2018-12-06 03:44:59, 2018-12-10 02:20:24, 2019-01-23 22:38:46, 2019-01-26 02:07:02, 2019-01-31 02:08:14, 2019-02-02 06:40:03, 2019-02-08 17:46:05, 2019-02-22 23:52:59, 2019-02-28 17:18:56, 2019-03-23 06:32:31, 2019-04-14 00:07:28, 2019-04-14 20:19:42, 2019-05-18 19:35:07, 2019-05-18 22:38:18, 2019-06-21 17:12:36, 2019-07-23 19:24:00, 2019-09-16 20:59:36, 2019-10-07 00:10:02, 2019-11-12 01:51:43, 2019-11-15 19:07:18, 2019-12-31 17:27:21, 2020-02-10 00:02:33, 2020-02-14 01:34:57, 2020-04-04 20:09:26, 2020-04-11 23:24:12, 2020-08-05 19:01:03, 2020-10-03 18:46:47, 2021-02-05 00:42:15, 2021-03-18 23:35:44, 2021-04-02 22:03:06, 2021-05-16 18:18:55, 2021-06-16 20:17:08, 2021-06-20 23:10:37, 2021-07-02 22:26:32, 2021-07-28 16:37:06, 2021-08-18 02:01:30, 2021-08-18 23:34:15, 2021-08-21 18:54:10, 2021-10-26 17:17:20, 2021-10-27 00:24:18, 2021-12-13 03:04:32, 2022-01-12 00:24:04                                                                                                                                                                                                                                                                                                                                                                                                                                                                                                                                                                                                                                                                                                                                                                                                                                                                                                                                                                                                                                                                                                                                                                                                                                                                                                                                                                                                                                                                                                                                                                                                                                                                                                                                                                                                                                                                                                                                                                                                                                                                                                                                                                                                                                                                                                                                                                                                                                                                                                                                                                                                                                                                                                                                                                                                                                                                                                                                                                                                                                                                                                                                                                                                                                                                                                                                                                                                                                                                                                                                                                                                                                                                                                                                                                                                                                                                                                                                                                                                                                                                                                                                                                                                                                                                                                                                                                                                                                                                                                                                                                                                                                                                                                                                                                                                                                                                                                                                                                                                                                                                                                                                                                                                                                                                                                                                                                                                                                                                                                                                                                                                                                                                                                                                                                                                                                                                                                                                                                                                                                                                                                                                                                                                                                                                                                                                                                                                                                                                                                                                                                                 |\n",
      "|&pizza - Walnut                                    |wuH4TPUo8oJo4E59xZKsNg|2016-10-13 16:14:48, 2016-10-16 18:30:34, 2016-10-18 19:21:34, 2016-10-21 20:04:34, 2016-10-27 21:14:06, 2016-11-06 18:47:16, 2016-11-10 17:33:25, 2016-11-10 18:02:40, 2016-11-13 02:04:33, 2016-11-15 00:34:27, 2016-11-16 17:49:59, 2016-11-17 17:14:51, 2016-11-17 17:16:12, 2016-11-19 04:09:21, 2016-12-01 21:54:30, 2016-12-06 16:44:52, 2016-12-08 17:43:22, 2016-12-15 19:10:33, 2016-12-17 04:17:06, 2016-12-18 04:43:22, 2016-12-21 17:53:09, 2016-12-23 17:14:52, 2016-12-23 18:57:49, 2016-12-24 19:07:31, 2017-01-03 23:37:40, 2017-01-04 03:59:08, 2017-01-05 01:32:15, 2017-01-05 18:31:17, 2017-01-05 21:43:27, 2017-01-05 21:54:15, 2017-01-11 00:41:33, 2017-01-13 00:58:51, 2017-01-13 03:34:15, 2017-01-13 17:31:21, 2017-01-18 00:15:43, 2017-01-19 00:11:12, 2017-01-19 00:35:32, 2017-01-21 17:08:53, 2017-01-21 21:09:49, 2017-01-24 21:33:57, 2017-01-29 03:54:05, 2017-01-29 07:07:08, 2017-01-29 07:37:45, 2017-01-30 00:24:58, 2017-01-31 00:16:44, 2017-01-31 01:07:25, 2017-01-31 01:14:18, 2017-02-07 17:23:31, 2017-02-08 23:22:49, 2017-02-09 20:31:58, 2017-02-12 01:15:12, 2017-02-12 07:10:26, 2017-02-13 02:39:54, 2017-02-16 22:59:37, 2017-02-17 23:03:40, 2017-02-19 20:56:05, 2017-02-19 21:08:58, 2017-02-19 21:35:18, 2017-02-19 21:52:32, 2017-02-20 17:00:40, 2017-02-20 17:00:50, 2017-02-22 00:29:24, 2017-02-23 21:44:12, 2017-02-23 21:48:29, 2017-02-23 22:45:47, 2017-02-24 23:10:11, 2017-02-25 03:49:44, 2017-02-25 04:15:14, 2017-02-25 23:34:57, 2017-02-28 18:25:55, 2017-03-01 21:49:26, 2017-03-03 01:29:43, 2017-03-04 22:57:56, 2017-03-07 01:59:51, 2017-03-08 00:02:22, 2017-03-09 19:52:13, 2017-03-10 03:56:49, 2017-03-10 03:57:40, 2017-03-21 23:01:48, 2017-03-21 23:09:20, 2017-03-21 23:12:33, 2017-03-21 23:46:31, 2017-03-22 00:04:15, 2017-03-22 01:39:35, 2017-03-25 16:24:28, 2017-03-25 16:24:48, 2017-03-26 06:07:07, 2017-03-26 17:47:57, 2017-03-26 17:48:36, 2017-03-26 17:49:02, 2017-03-26 17:49:29, 2017-03-26 19:00:58, 2017-03-30 00:44:16, 2017-03-30 01:06:48, 2017-03-30 01:12:30, 2017-03-30 01:22:36, 2017-03-30 01:29:09, 2017-03-30 01:30:40, 2017-03-30 01:30:40, 2017-03-30 01:35:18, 2017-03-30 01:59:04, 2017-03-30 02:13:31, 2017-03-30 02:25:44, 2017-03-31 01:26:26, 2017-04-03 00:07:26, 2017-04-03 22:33:01, 2017-04-05 20:05:59, 2017-04-07 21:55:11, 2017-04-11 22:11:38, 2017-04-14 00:21:10, 2017-04-18 23:14:13, 2017-04-19 01:20:48, 2017-04-22 15:03:38, 2017-04-29 17:11:47, 2017-04-30 18:23:26, 2017-05-06 00:55:35, 2017-05-06 20:18:52, 2017-05-07 17:39:22, 2017-05-09 17:05:30, 2017-05-14 21:52:50, 2017-05-21 07:03:56, 2017-05-25 16:17:15, 2017-05-27 00:21:41, 2017-05-27 01:15:52, 2017-05-29 16:54:09, 2017-06-01 23:28:15, 2017-06-02 00:26:39, 2017-06-03 01:39:52, 2017-06-04 01:42:25, 2017-06-04 06:22:36, 2017-06-06 22:05:37, 2017-06-10 19:56:55, 2017-06-10 22:52:56, 2017-06-11 03:11:52, 2017-06-15 00:24:44, 2017-06-15 17:38:25, 2017-06-16 00:23:27, 2017-06-16 00:24:42, 2017-06-23 16:25:44, 2017-06-24 04:20:58, 2017-06-30 15:45:09, 2017-07-01 21:05:12, 2017-07-01 22:27:23, 2017-07-02 05:34:56, 2017-07-02 21:12:54, 2017-07-05 22:46:22, 2017-07-08 00:20:06, 2017-07-10 23:48:05, 2017-07-11 17:27:24, 2017-07-15 15:46:18, 2017-07-16 02:01:31, 2017-07-19 23:46:02, 2017-08-09 01:06:31, 2017-08-13 00:54:12, 2017-08-20 04:54:04, 2017-08-21 01:14:54, 2017-08-22 01:19:56, 2017-08-26 02:22:40, 2017-08-26 22:39:09, 2017-08-26 23:52:59, 2017-09-08 16:17:27, 2017-09-08 20:27:24, 2017-09-16 06:15:37, 2017-09-16 17:01:40, 2017-09-20 19:36:33, 2017-09-20 19:37:31, 2017-09-29 21:52:00, 2017-09-30 04:29:25, 2017-10-08 19:52:10, 2017-11-03 15:11:05, 2017-11-05 18:07:49, 2017-11-09 23:37:01, 2017-11-10 19:36:08, 2017-11-11 03:45:40, 2017-11-13 23:37:09, 2017-11-14 03:58:46, 2017-11-14 19:01:01, 2017-11-17 23:37:56, 2017-11-20 21:10:18, 2017-11-22 23:16:47, 2017-11-27 01:30:15, 2017-11-29 01:10:49, 2017-12-02 05:42:21, 2017-12-07 22:18:05, 2017-12-10 02:18:50, 2017-12-10 05:04:17, 2017-12-15 17:53:54, 2017-12-27 23:49:07, 2018-01-02 04:17:05, 2018-01-06 00:14:45, 2018-01-06 23:28:33, 2018-01-07 19:42:13, 2018-01-11 00:12:03, 2018-01-13 01:20:52, 2018-01-13 02:16:28, 2018-01-21 19:41:22, 2018-01-21 19:41:57, 2018-01-25 00:49:34, 2018-01-28 21:35:45, 2018-02-06 17:57:23, 2018-02-16 00:42:02, 2018-02-19 17:33:58, 2018-02-21 21:30:28, 2018-02-24 03:10:54, 2018-02-28 00:58:05, 2018-03-04 07:07:25, 2018-03-10 03:06:31, 2018-03-18 01:56:55, 2018-03-20 22:28:10, 2018-03-23 22:39:08, 2018-03-25 18:54:19, 2018-03-31 22:41:41, 2018-04-01 14:55:00, 2018-04-06 22:00:38, 2018-04-06 22:08:40, 2018-04-07 15:27:46, 2018-04-09 18:06:28, 2018-04-09 20:45:20, 2018-04-11 16:27:45, 2018-04-12 00:08:01, 2018-04-12 00:17:08, 2018-04-20 21:13:33, 2018-04-21 17:19:25, 2018-04-28 05:24:30, 2018-05-04 18:04:47, 2018-05-05 05:01:36, 2018-05-05 21:04:19, 2018-05-08 01:58:07, 2018-05-11 21:26:15, 2018-05-12 03:23:59, 2018-05-18 21:34:40, 2018-05-21 18:32:29, 2018-05-24 15:24:01, 2018-06-02 03:52:24, 2018-06-10 00:20:46, 2018-06-10 18:27:49, 2018-06-16 02:37:37, 2018-06-17 19:22:28, 2018-06-19 22:13:57, 2018-06-20 23:07:39, 2018-07-02 23:02:30, 2018-07-04 16:54:35, 2018-07-12 23:28:58, 2018-07-14 06:32:07, 2018-07-15 03:46:22, 2018-07-15 17:08:53, 2018-07-21 06:08:36, 2018-07-25 00:39:17, 2018-07-27 16:05:46, 2018-07-27 22:18:28, 2018-07-27 22:38:29, 2018-07-28 17:53:08, 2018-07-29 05:32:18, 2018-07-31 19:15:13, 2018-08-07 18:39:28, 2018-08-09 16:09:55, 2018-08-13 00:23:23, 2018-08-25 06:08:47, 2018-08-29 01:33:20, 2018-08-30 21:44:54, 2018-09-01 19:45:13, 2018-09-06 21:05:12, 2018-09-15 01:49:40, 2018-09-15 17:18:13, 2018-09-21 16:35:17, 2018-09-22 01:04:40, 2018-09-23 06:29:33, 2018-09-28 21:28:54, 2018-10-10 22:19:26, 2018-10-15 16:02:05, 2018-10-19 21:30:25, 2018-10-21 22:01:55, 2018-10-25 01:09:27, 2018-10-27 06:56:53, 2018-11-05 21:09:54, 2018-11-07 23:29:17, 2018-11-08 18:34:23, 2018-11-09 22:20:37, 2018-11-17 17:25:06, 2018-11-17 23:37:14, 2018-11-28 02:39:55, 2018-12-14 16:48:51, 2018-12-15 05:00:45, 2018-12-23 22:09:15, 2019-01-05 00:22:22, 2019-01-16 00:10:25, 2019-01-20 00:12:13, 2019-01-26 07:16:02, 2019-01-26 07:16:03, 2019-01-30 17:46:46, 2019-02-14 20:28:05, 2019-02-24 01:16:49, 2019-03-05 18:00:24, 2019-03-07 22:12:02, 2019-03-14 18:56:19, 2019-03-16 02:07:36, 2019-03-16 02:08:14, 2019-03-22 22:25:14, 2019-03-28 18:02:42, 2019-03-29 22:17:21, 2019-03-31 04:11:28, 2019-04-04 21:31:14, 2019-04-09 23:34:10, 2019-04-14 03:20:26, 2019-04-28 07:32:28, 2019-05-08 19:14:04, 2019-05-09 00:16:50, 2019-05-11 00:08:40, 2019-05-19 15:54:15, 2019-05-23 21:33:26, 2019-06-16 22:26:24, 2019-06-29 20:10:52, 2019-06-30 04:57:26, 2019-07-01 00:46:04, 2019-07-04 01:00:55, 2019-07-11 16:40:00, 2019-07-14 04:43:07, 2019-07-16 23:13:21, 2019-07-17 23:02:58, 2019-07-18 18:26:43, 2019-07-28 05:01:43, 2019-07-28 19:13:47, 2019-07-28 21:05:43, 2019-07-29 15:47:57, 2019-08-10 01:47:14, 2019-08-22 17:24:42, 2019-09-01 13:21:44, 2019-09-01 21:39:48, 2019-09-03 23:37:40, 2019-09-14 05:16:31, 2019-09-14 20:43:02, 2019-09-15 23:13:37, 2019-09-17 17:16:42, 2019-09-27 21:13:14, 2019-09-29 01:27:56, 2019-10-12 22:37:30, 2019-10-12 22:42:52, 2019-10-19 22:42:07, 2019-11-02 18:52:22, 2019-11-16 06:55:59, 2019-12-05 16:57:08, 2020-01-18 23:24:25, 2020-01-27 18:26:24, 2020-02-01 05:19:24, 2020-02-02 18:40:23, 2020-02-16 07:33:33, 2020-02-17 01:40:30, 2020-03-01 06:09:39, 2020-03-01 07:18:49, 2020-03-18 20:40:31, 2020-08-10 00:27:36, 2020-08-17 02:26:46, 2020-08-17 03:21:05, 2020-08-22 17:28:40, 2020-09-18 04:08:17, 2020-11-18 20:52:48, 2020-12-05 20:07:23, 2021-01-15 19:30:54, 2021-03-21 23:55:22, 2021-04-17 21:22:03, 2021-06-03 17:50:35, 2021-06-10 17:49:37, 2021-07-22 02:32:26, 2021-10-13 01:25:08, 2021-11-01 23:32:17, 2021-11-06 04:24:39, 2021-12-30 03:51:45, 2022-01-04 18:11:08|\n",
      "|&pizza - Willow Grove                              |zdv6HmtViGmQn4PVk9bAWQ|2020-11-10 23:45:04, 2020-11-11 18:05:17, 2020-11-11 19:37:13, 2020-11-12 18:55:10, 2020-11-12 23:53:18, 2020-11-13 17:26:36, 2020-11-13 22:05:47, 2020-11-13 22:24:55, 2020-11-14 17:41:49, 2020-11-14 17:56:25, 2020-11-15 19:41:05, 2020-11-15 20:51:58, 2020-11-15 20:52:34, 2020-11-16 16:29:24, 2020-11-19 00:10:25, 2021-01-03 18:07:38, 2021-01-03 18:08:51, 2021-01-30 20:43:05, 2021-03-11 18:01:36, 2021-03-23 22:34:05, 2021-11-19 18:58:13                                                                                                                                                                                                                                                                                                                                                                                                                                                                                                                                                                                                                                                                                                                                                                                                                                                                                                                                                                                                                                                                                                                                                                                                                                                                                                                                                                                                                                                                                                                                                                                                                                                                                                                                                                                                                                                                                                                                                                                                                                                                                                                                                                                                                                                                                                                                                                                                                                                                                                                                                                                                                                                                                                                                                                                                                                                                                                                                                                                                                                                                                                                                                                                                                                                                                                                                                                                                                                                                                                                                                                                                                                                                                                                                                                                                                                                                                                                                                                                                                                                                                                                                                                                                                                                                                                                                                                                                                                                                                                                                                                                                                                                                                                                                                                                                                                                                                                                                                                                                                                                                                                                                                                                                                                                                                                                                                                                                                                                                                                                                                                                                                                                                                                                                                                                                                                                                                                                                                                                                                                                                                                                                                                                                                                                                                                                                                                                                                                                                                                                                                                                                                                                                                                                                                                                                                                                                                                                                                                                                                                                                                                                                                                                                                                                                                                                                                                                                                                                                                                                                                                                       |\n",
      "|'81 Barbers                                        |t3qEUu4EaCKN3WQU7Pq3oA|2020-03-12 17:37:32                                                                                                                                                                                                                                                                                                                                                                                                                                                                                                                                                                                                                                                                                                                                                                                                                                                                                                                                                                                                                                                                                                                                                                                                                                                                                                                                                                                                                                                                                                                                                                                                                                                                                                                                                                                                                                                                                                                                                                                                                                                                                                                                                                                                                                                                                                                                                                                                                                                                                                                                                                                                                                                                                                                                                                                                                                                                                                                                                                                                                                                                                                                                                                                                                                                                                                                                                                                                                                                                                                                                                                                                                                                                                                                                                                                                                                                                                                                                                                                                                                                                                                                                                                                                                                                                                                                                                                                                                                                                                                                                                                                                                                                                                                                                                                                                                                                                                                                                                                                                                                                                                                                                                                                                                                                                                                                                                                                                                                                                                                                                                                                                                                                                                                                                                                                                                                                                                                                                                                                                                                                                                                                                                                                                                                                                                                                                                                                                                                                                                                                                                                                                                                                                                                                                                                                                                                                                                                                                                                                                                                                                                                                                                                                                                                                                                                                                                                                                                                                                                                                                                                                                                                                                                                                                                                                                                                                                                                                                                                                                                           |\n",
      "|'Merica Food Truck                                 |TK_CXlCU1bWEZNBpR1fNDw|2013-09-17 17:59:16                                                                                                                                                                                                                                                                                                                                                                                                                                                                                                                                                                                                                                                                                                                                                                                                                                                                                                                                                                                                                                                                                                                                                                                                                                                                                                                                                                                                                                                                                                                                                                                                                                                                                                                                                                                                                                                                                                                                                                                                                                                                                                                                                                                                                                                                                                                                                                                                                                                                                                                                                                                                                                                                                                                                                                                                                                                                                                                                                                                                                                                                                                                                                                                                                                                                                                                                                                                                                                                                                                                                                                                                                                                                                                                                                                                                                                                                                                                                                                                                                                                                                                                                                                                                                                                                                                                                                                                                                                                                                                                                                                                                                                                                                                                                                                                                                                                                                                                                                                                                                                                                                                                                                                                                                                                                                                                                                                                                                                                                                                                                                                                                                                                                                                                                                                                                                                                                                                                                                                                                                                                                                                                                                                                                                                                                                                                                                                                                                                                                                                                                                                                                                                                                                                                                                                                                                                                                                                                                                                                                                                                                                                                                                                                                                                                                                                                                                                                                                                                                                                                                                                                                                                                                                                                                                                                                                                                                                                                                                                                                                           |\n",
      "|'O' Bar + Kitchen                                  |tZnPqmwGcLjYeBdwyvhazg|2015-09-12 15:55:13, 2015-09-20 01:58:17, 2015-10-04 00:40:38, 2015-11-13 00:09:52, 2015-11-25 15:25:08, 2015-12-25 03:13:40, 2015-12-31 23:13:02, 2016-01-21 01:50:37, 2016-01-30 05:25:26, 2016-01-30 05:44:13, 2016-06-02 07:13:00, 2016-07-24 05:01:04, 2016-07-24 19:00:31, 2016-08-27 05:47:15, 2016-10-10 23:14:41, 2016-10-12 03:21:17, 2016-10-24 05:06:17, 2016-11-19 02:58:41, 2016-12-17 02:13:41, 2017-03-29 22:31:34, 2017-05-27 23:19:27, 2017-06-10 01:35:49, 2017-06-14 03:18:20, 2017-11-12 06:10:03, 2017-12-18 06:22:34, 2018-03-30 06:07:26, 2018-04-09 21:32:03, 2018-05-15 03:29:37, 2018-07-18 14:55:39, 2018-08-26 04:50:32, 2019-02-15 00:02:30, 2019-03-02 22:08:45, 2019-06-06 17:27:30, 2019-07-11 03:39:17, 2019-07-11 03:40:35, 2019-07-17 02:00:51, 2019-07-21 03:50:57, 2019-07-25 06:20:12, 2019-07-28 04:23:16, 2019-08-16 23:41:29, 2019-11-30 00:52:27, 2020-01-12 05:06:13, 2020-01-26 02:41:31, 2020-02-01 00:04:37, 2020-02-06 04:19:54, 2020-08-15 00:43:48, 2020-08-16 04:22:37, 2020-09-10 13:44:21, 2020-09-29 04:31:37, 2020-09-30 04:21:17, 2021-01-01 05:45:08, 2021-01-09 15:18:58, 2021-01-18 17:41:09, 2021-02-13 04:43:49, 2021-04-18 06:54:23, 2021-04-27 03:30:39, 2021-06-24 01:51:37, 2021-07-01 04:42:07, 2021-08-18 02:44:08, 2021-08-20 01:47:50, 2021-12-21 04:59:34, 2021-12-27 05:08:27                                                                                                                                                                                                                                                                                                                                                                                                                                                                                                                                                                                                                                                                                                                                                                                                                                                                                                                                                                                                                                                                                                                                                                                                                                                                                                                                                                                                                                                                                                                                                                                                                                                                                                                                                                                                                                                                                                                                                                                                                                                                                                                                                                                                                                                                                                                                                                                                                                                                                                                                                                                                                                                                                                                                                                                                                                                                                                                                                                                                                                                                                                                                                                                                                                                                                                                                                                                                                                                                                                                                                                                                                                                                                                                                                                                                                                                                                                                                                                                                                                                                                                                                                                                                                                                                                                                                                                                                                                                                                                                                                                                                                                                                                                                                                                                                                                                                                                                                                                                                                                                                                                                                                                                                                                                                                                                                                                                                                                                                                                                                                                                                                                                                                                                                                                                                                                                                                                                                                                                                                                                                                                                                                                                                                                                                                                                                                                                                                                                                                                                                                                                                                                                                                          |\n",
      "+---------------------------------------------------+----------------------+----------------------------------------------------------------------------------------------------------------------------------------------------------------------------------------------------------------------------------------------------------------------------------------------------------------------------------------------------------------------------------------------------------------------------------------------------------------------------------------------------------------------------------------------------------------------------------------------------------------------------------------------------------------------------------------------------------------------------------------------------------------------------------------------------------------------------------------------------------------------------------------------------------------------------------------------------------------------------------------------------------------------------------------------------------------------------------------------------------------------------------------------------------------------------------------------------------------------------------------------------------------------------------------------------------------------------------------------------------------------------------------------------------------------------------------------------------------------------------------------------------------------------------------------------------------------------------------------------------------------------------------------------------------------------------------------------------------------------------------------------------------------------------------------------------------------------------------------------------------------------------------------------------------------------------------------------------------------------------------------------------------------------------------------------------------------------------------------------------------------------------------------------------------------------------------------------------------------------------------------------------------------------------------------------------------------------------------------------------------------------------------------------------------------------------------------------------------------------------------------------------------------------------------------------------------------------------------------------------------------------------------------------------------------------------------------------------------------------------------------------------------------------------------------------------------------------------------------------------------------------------------------------------------------------------------------------------------------------------------------------------------------------------------------------------------------------------------------------------------------------------------------------------------------------------------------------------------------------------------------------------------------------------------------------------------------------------------------------------------------------------------------------------------------------------------------------------------------------------------------------------------------------------------------------------------------------------------------------------------------------------------------------------------------------------------------------------------------------------------------------------------------------------------------------------------------------------------------------------------------------------------------------------------------------------------------------------------------------------------------------------------------------------------------------------------------------------------------------------------------------------------------------------------------------------------------------------------------------------------------------------------------------------------------------------------------------------------------------------------------------------------------------------------------------------------------------------------------------------------------------------------------------------------------------------------------------------------------------------------------------------------------------------------------------------------------------------------------------------------------------------------------------------------------------------------------------------------------------------------------------------------------------------------------------------------------------------------------------------------------------------------------------------------------------------------------------------------------------------------------------------------------------------------------------------------------------------------------------------------------------------------------------------------------------------------------------------------------------------------------------------------------------------------------------------------------------------------------------------------------------------------------------------------------------------------------------------------------------------------------------------------------------------------------------------------------------------------------------------------------------------------------------------------------------------------------------------------------------------------------------------------------------------------------------------------------------------------------------------------------------------------------------------------------------------------------------------------------------------------------------------------------------------------------------------------------------------------------------------------------------------------------------------------------------------------------------------------------------------------------------------------------------------------------------------------------------------------------------------------------------------------------------------------------------------------------------------------------------------------------------------------------------------------------------------------------------------------------------------------------------------------------------------------------------------------------------------------------------------------------------------------------------------------------------------------------------------------------------------------------------------------------------------------------------------------------------------------------------------------------------------------------------------------------------------------------------------------------------------------------------------------------------------------------------------------------------------------------------------------------------------------------------------------------------------------------------------------------------------------------------------------------------------------------------------------------------------------------------------------------------------------------------------------------------------------------------------------------------------------------------------------------------------------------------------------------------------------------------------------------------------------------------------------------------------------------------------------------------------------------------------------------------------------------+\n",
      "only showing top 20 rows\n",
      "\n"
     ]
    }
   ],
   "source": [
    "# Create temporary views for the DataFrames\n",
    "business_file.createOrReplaceTempView(\"business\")\n",
    "checkin_file.createOrReplaceTempView(\"checkins\")\n",
    "\n",
    "# Perform the join using Spark SQL\n",
    "joined_df = spark.sql(\"\"\"\n",
    "    SELECT \n",
    "        b.name as business_name,\n",
    "        b.business_id,\n",
    "        c.date as checkin_date\n",
    "    FROM business b\n",
    "    INNER JOIN checkins c \n",
    "        ON b.business_id = c.business_id\n",
    "    ORDER BY b.name, c.date\n",
    "\"\"\")\n",
    "\n",
    "# Show results\n",
    "print(\"Number of joined records:\", joined_df.count())\n",
    "joined_df.show(20, truncate=False)"
   ]
  },
  {
   "cell_type": "markdown",
   "metadata": {},
   "source": [
    "## reviews"
   ]
  },
  {
   "cell_type": "code",
   "execution_count": 8,
   "metadata": {},
   "outputs": [
    {
     "name": "stderr",
     "output_type": "stream",
     "text": [
      "                                                                                \r"
     ]
    },
    {
     "name": "stdout",
     "output_type": "stream",
     "text": [
      "+--------------------+--------------------+--------------------+-----+------+-----+----+--------------------+-------------------+----+-----+\n",
      "|           review_id|             user_id|         business_id|stars|useful|funny|cool|                text|               date|year|month|\n",
      "+--------------------+--------------------+--------------------+-----+------+-----+----+--------------------+-------------------+----+-----+\n",
      "|dlIO7e_OGH0rjZ2n6...|GB3qwSzhx2d8DmDSI...|ecI3FBTM0f99Fnml3...|  5.0|     0|    0|   0|One of my all tim...|2006-05-19 02:22:45|2006|    5|\n",
      "|p8gMItBQKZO4ka_K-...|FBRjdSizGuMyxQuSS...|fOhnSqmO4XY5vSI8w...|  3.0|     2|    0|   0|a light, airy atm...|2006-05-28 08:28:17|2006|    5|\n",
      "|wtFktH-lJsZFcD9Ye...|6OV_PFTl9RW2FmYQo...|udHVIrP8z10Y4M0oc...|  5.0|     1|    0|   0|Great place for p...|2006-05-07 02:16:44|2006|    5|\n",
      "|Pv7IhPgwadOpgKIad...|gfQqQYI5_hCAGEHlH...|Rrd1WEcFWYRH85HdH...|  3.0|     0|    1|   0|The bagels are pr...|2006-05-04 06:16:17|2006|    5|\n",
      "|p_MRUqC20YmV-_gcK...|fnBAgDX4D9mNgQZsj...|5bmMdTw_FtCKfbAwq...|  2.0|     0|    0|   0|I have to almost ...|2006-05-09 18:41:25|2006|    5|\n",
      "|9Q9-Kwm-6aVfGt99K...|sZUC9GbwvDHWrHl0D...|jIaycjmFK6ZecPx-t...|  5.0|     4|    2|   7|My 'Cheers.'  Not...|2006-05-18 04:15:34|2006|    5|\n",
      "|9VW3RXiC9B0Tjhacb...|6OV_PFTl9RW2FmYQo...|6qiBFWh4zQXTcac4K...|  3.0|     0|    0|   0|Interesting locat...|2006-05-07 00:25:00|2006|    5|\n",
      "|CR859y8PAIl2-7QvD...|W92Wd0GE_-13ogVeK...|6jr6xW05PcKutwr5l...|  5.0|     0|    0|   0|I often go to Nas...|2006-05-20 00:59:28|2006|    5|\n",
      "|SaA2H4R7mKTLeEtho...|gfQqQYI5_hCAGEHlH...|2ZSnGlqj8JOWcN2bN...|  5.0|     0|    0|   0|Excellent pastrie...|2006-05-31 18:47:33|2006|    5|\n",
      "|cmFMDaKBFOuhbOStJ...|BlLJmseYoL6iRKTft...|hKdo1RNp-fKiSVswc...|  4.0|     2|    0|   2|I've really been ...|2006-05-18 08:41:50|2006|    5|\n",
      "|nRoNl9-v6ncwkGDwk...|gfQqQYI5_hCAGEHlH...|jIaycjmFK6ZecPx-t...|  4.0|     1|    0|   0|Good Eritrean/Eth...|2006-05-19 22:07:16|2006|    5|\n",
      "|os6IPZD4HuPqCDYIb...|6OV_PFTl9RW2FmYQo...|RQX-UJUzYwuNYHepp...|  4.0|     4|    0|   0|Roberts is locate...|2006-05-10 09:25:49|2006|    5|\n",
      "|mXkoVUoFBv7ap-5uO...|gfQqQYI5_hCAGEHlH...|AR5KMwr7SsXPyhBfF...|  4.0|     1|    0|   0|Adorable store wi...|2006-05-12 06:02:10|2006|    5|\n",
      "|iDS7uYS7XDwhgi7gJ...|7rK9GO6D00V6Fzvh7...|EFql1oIf5JKaet3Sd...|  4.0|     1|    0|   1|Itemized:\\r\\n1) w...|2006-05-05 22:28:13|2006|    5|\n",
      "|LrBpGXkFUZTzCasLr...|Ct456aEICzDfn03MH...|Qw7tz-UkPrpXaVidW...|  5.0|     1|    1|   1|Incredible collec...|2006-05-28 15:11:21|2006|    5|\n",
      "|YEAWae3X2xGlxfblz...|TDXV6AC5PYOZEyN9e...|o46D9xB7lW3Zkumlj...|  4.0|     3|    0|   1|I'm actually not ...|2006-05-16 23:39:17|2006|    5|\n",
      "|IUQP5EZX-jEvgYzBI...|2l0O1EI1m0yWjFo2z...|Eqi8jrVowPBlCKAIn...|  4.0|     0|    0|   0|Absolutely the gr...|2006-05-26 00:00:05|2006|    5|\n",
      "|pWPqsYUeygqdH6u4i...|AIvveD8AcYnPqYE_V...|O3M5Hl8DJFZZ-7EW1...|  3.0|     0|    0|   0|I've had better. ...|2006-05-29 21:48:31|2006|    5|\n",
      "|ptd9-akBj3Vq1uCBZ...|3MYdpmHeNwC6FquRW...|JVdRFZ0fZmd36f-s3...|  4.0|     0|    0|   0|This is a quick o...|2006-05-27 04:44:51|2006|    5|\n",
      "|4EoKbEJvVvJ0uquwu...|_BHTC7nyCBoZcfiiD...|k40WgsXxRqe9qSHMv...|  5.0|     3|    0|   4|Considering all t...|2006-04-01 03:34:47|2006|    4|\n",
      "+--------------------+--------------------+--------------------+-----+------+-----+----+--------------------+-------------------+----+-----+\n",
      "only showing top 20 rows\n",
      "\n"
     ]
    }
   ],
   "source": [
    "review_file.show(20)"
   ]
  },
  {
   "cell_type": "markdown",
   "metadata": {},
   "source": [
    "## write to postgres"
   ]
  },
  {
   "cell_type": "code",
   "execution_count": 7,
   "metadata": {},
   "outputs": [],
   "source": [
    "# ! pip install psycopg2"
   ]
  },
  {
   "cell_type": "code",
   "execution_count": 6,
   "metadata": {},
   "outputs": [
    {
     "name": "stdout",
     "output_type": "stream",
     "text": [
      "Dropped table: tips\n",
      "Dropped table: reviews\n",
      "Dropped table: checkins\n",
      "Dropped table: users\n",
      "Dropped table: business\n",
      "Successfully dropped all tables\n"
     ]
    }
   ],
   "source": [
    "from pyspark.sql import DataFrame\n",
    "import psycopg2\n",
    "\n",
    "def drop_postgres_tables():\n",
    "    \"\"\"Drop PostgreSQL tables in correct order using psycopg2\"\"\"\n",
    "    try:\n",
    "        # Create direct PostgreSQL connection\n",
    "        conn = psycopg2.connect(\n",
    "            host=creds[\"postgres_host\"],\n",
    "            port=5433,\n",
    "            database=creds[\"postgres_db\"],\n",
    "            user=creds[\"postgres_user\"],\n",
    "            password=creds[\"postgres_password\"]\n",
    "        )\n",
    "        \n",
    "        # Create cursor\n",
    "        cur = conn.cursor()\n",
    "        \n",
    "        # Tables in reverse dependency order\n",
    "        tables = [\"tips\", \"reviews\", \"checkins\", \"users\", \"business\"]\n",
    "        \n",
    "        for table in tables:\n",
    "            cur.execute(f\"DROP TABLE IF EXISTS {table} CASCADE;\")\n",
    "            print(f\"Dropped table: {table}\")\n",
    "            \n",
    "        # Commit changes and close connections\n",
    "        conn.commit()\n",
    "        cur.close()\n",
    "        conn.close()\n",
    "        print(\"Successfully dropped all tables\")\n",
    "            \n",
    "    except Exception as e:\n",
    "        print(f\"Error dropping tables: {str(e)}\")\n",
    "\n",
    "# Drop existing tables first\n",
    "drop_postgres_tables()"
   ]
  },
  {
   "cell_type": "code",
   "execution_count": 8,
   "metadata": {},
   "outputs": [
    {
     "name": "stdout",
     "output_type": "stream",
     "text": [
      "Writing business to PostgreSQL...\n"
     ]
    },
    {
     "name": "stderr",
     "output_type": "stream",
     "text": [
      "                                                                                \r"
     ]
    },
    {
     "name": "stdout",
     "output_type": "stream",
     "text": [
      "Successfully wrote 150346 rows to business\n",
      "Writing yelp_users to PostgreSQL...\n"
     ]
    },
    {
     "name": "stderr",
     "output_type": "stream",
     "text": [
      "                                                                                \r"
     ]
    },
    {
     "name": "stdout",
     "output_type": "stream",
     "text": [
      "Successfully wrote 1987897 rows to yelp_users\n",
      "Writing checkins to PostgreSQL...\n"
     ]
    },
    {
     "name": "stderr",
     "output_type": "stream",
     "text": [
      "                                                                                \r"
     ]
    },
    {
     "name": "stdout",
     "output_type": "stream",
     "text": [
      "Successfully wrote 131930 rows to checkins\n",
      "Writing reviews to PostgreSQL...\n"
     ]
    },
    {
     "name": "stderr",
     "output_type": "stream",
     "text": [
      "                                                                                \r"
     ]
    },
    {
     "name": "stdout",
     "output_type": "stream",
     "text": [
      "Successfully wrote 6990280 rows to reviews\n",
      "Writing tips to PostgreSQL...\n"
     ]
    },
    {
     "name": "stderr",
     "output_type": "stream",
     "text": [
      "[Stage 96:=====================================================>  (48 + 2) / 50]\r"
     ]
    },
    {
     "name": "stdout",
     "output_type": "stream",
     "text": [
      "Successfully wrote 908915 rows to tips\n"
     ]
    },
    {
     "name": "stderr",
     "output_type": "stream",
     "text": [
      "                                                                                \r"
     ]
    }
   ],
   "source": [
    "def write_to_postgres(df, table_name):\n",
    "    \"\"\"Write DataFrame to PostgreSQL table\"\"\"\n",
    "    \n",
    "    # Get database credentials from docker-compose environment\n",
    "    jdbc_url = \"jdbc:postgresql://\" + creds[\"postgres_host\"] + \":5433/\" + creds[\"postgres_db\"]\n",
    "    connection_properties = {\n",
    "        \"user\": creds[\"postgres_user\"],\n",
    "        \"password\": creds[\"postgres_password\"],\n",
    "        \"driver\": \"org.postgresql.Driver\"\n",
    "    }\n",
    "    \n",
    "    try:\n",
    "        print(f\"Writing {table_name} to PostgreSQL...\")\n",
    "        \n",
    "        # Convert complex types for PostgreSQL compatibility\n",
    "        if table_name == \"business\":\n",
    "            df = df.withColumn(\"attributes\", to_json(\"attributes\")) \\\n",
    "                  .withColumn(\"hours\", to_json(\"hours\"))\n",
    "        elif table_name == \"yelp_users\":\n",
    "            # Check if columns are arrays before converting\n",
    "            if \"elite\" in df.columns and df.schema[\"elite\"].dataType.typeName() == \"array\":\n",
    "                df = df.withColumn(\"elite\", array_join(\"elite\", \",\"))\n",
    "            if \"friends\" in df.columns and df.schema[\"friends\"].dataType.typeName() == \"array\":\n",
    "                df = df.withColumn(\"friends\", array_join(\"friends\", \",\"))\n",
    "        \n",
    "        # Write to PostgreSQL\n",
    "        df.write \\\n",
    "            .jdbc(url=jdbc_url,\n",
    "                  table=table_name,\n",
    "                  mode=\"overwrite\",\n",
    "                  properties=connection_properties)\n",
    "        \n",
    "        print(f\"Successfully wrote {df.count()} rows to {table_name}\")\n",
    "        \n",
    "    except Exception as e:\n",
    "        print(f\"Error writing to {table_name}: {str(e)}\")\n",
    "        # Print schema for debugging\n",
    "        print(\"\\nSchema of the DataFrame:\")\n",
    "        df.printSchema()\n",
    "\n",
    "# Write all tables in correct order\n",
    "tables_to_write = {\n",
    "    \"business\": business_file,\n",
    "    \"yelp_users\": user_file,\n",
    "    \"checkins\": checkin_file,\n",
    "    \"reviews\": review_file,\n",
    "    \"tips\": tip_file\n",
    "}\n",
    "\n",
    "for table_name in [\"business\", \"yelp_users\", \"checkins\", \"reviews\", \"tips\"]:\n",
    "    if table_name in tables_to_write:\n",
    "        write_to_postgres(tables_to_write[table_name], table_name)"
   ]
  },
  {
   "cell_type": "markdown",
   "metadata": {},
   "source": [
    "## counts"
   ]
  },
  {
   "cell_type": "code",
   "execution_count": 9,
   "metadata": {},
   "outputs": [
    {
     "name": "stderr",
     "output_type": "stream",
     "text": [
      "[Stage 100:>                                                        (0 + 1) / 1]\r"
     ]
    },
    {
     "name": "stdout",
     "output_type": "stream",
     "text": [
      "+----------+-------+\n",
      "|table_name|  count|\n",
      "+----------+-------+\n",
      "|  business| 150346|\n",
      "|  checkins| 131930|\n",
      "|   reviews|6990280|\n",
      "|      tips| 908915|\n",
      "|yelp_users|1987897|\n",
      "+----------+-------+\n",
      "\n"
     ]
    },
    {
     "name": "stderr",
     "output_type": "stream",
     "text": [
      "                                                                                \r"
     ]
    }
   ],
   "source": [
    "jdbc_url = \"jdbc:postgresql://\" + creds[\"postgres_host\"] + \":5433/\" + creds[\"postgres_db\"]\n",
    "\n",
    "connection_properties = {\n",
    "    \"user\": creds[\"postgres_user\"],        # PostgreSQL username\n",
    "    \"password\": creds[\"postgres_password\"], # PostgreSQL password\n",
    "    \"driver\": \"org.postgresql.Driver\"       # JDBC driver class\n",
    "}\n",
    "\n",
    "count_query = \"\"\"\n",
    "SELECT \n",
    "    table_name,\n",
    "    count\n",
    "FROM (\n",
    "    SELECT 'business' as table_name, COUNT(*) as count FROM business\n",
    "    UNION ALL\n",
    "    SELECT 'yelp_users' as table_name, COUNT(*) as count FROM yelp_users\n",
    "    UNION ALL\n",
    "    SELECT 'checkins' as table_name, COUNT(*) as count FROM checkins\n",
    "    UNION ALL\n",
    "    SELECT 'reviews' as table_name, COUNT(*) as count FROM reviews\n",
    "    UNION ALL\n",
    "    SELECT 'tips' as table_name, COUNT(*) as count FROM tips\n",
    ") counts\n",
    "ORDER BY table_name\n",
    "\"\"\"\n",
    "\n",
    "# Execute query using Spark's JDBC connection\n",
    "df_counts = spark.read \\\n",
    "    .jdbc(url=jdbc_url,\n",
    "          table=f\"({count_query}) as counts\",\n",
    "          properties=connection_properties)\n",
    "\n",
    "df_counts.show()"
   ]
  },
  {
   "attachments": {},
   "cell_type": "markdown",
   "metadata": {},
   "source": [
    "### review"
   ]
  },
  {
   "cell_type": "code",
   "execution_count": 5,
   "metadata": {},
   "outputs": [
    {
     "name": "stdout",
     "output_type": "stream",
     "text": [
      "{  'address': '1616 Chapala St, Ste 2',\n",
      "   'attributes': {'ByAppointmentOnly': 'True'},\n",
      "   'business_id': 'Pns2l4eNsfO8kk83dixA6A',\n",
      "   'categories': 'Doctors, Traditional Chinese Medicine, '\n",
      "                 'Naturopathic/Holistic, Acupuncture, Health & Medical, '\n",
      "                 'Nutritionists',\n",
      "   'city': 'Santa Barbara',\n",
      "   'hours': None,\n",
      "   'is_open': 0,\n",
      "   'latitude': 34.4266787,\n",
      "   'longitude': -119.7111968,\n",
      "   'name': 'Abby Rappoport, LAC, CMQ',\n",
      "   'postal_code': '93101',\n",
      "   'review_count': 7,\n",
      "   'stars': 5.0,\n",
      "   'state': 'CA'}\n"
     ]
    }
   ],
   "source": [
    "pp.pprint(review_file[0])"
   ]
  },
  {
   "cell_type": "markdown",
   "metadata": {},
   "source": [
    "## write to delta w/ manifest"
   ]
  },
  {
   "cell_type": "code",
   "execution_count": null,
   "metadata": {},
   "outputs": [],
   "source": [
    "def read_and_write_delta_with_manifest(input_path: str, output_path: str, table_name: str) -> None:\n",
    "    \"\"\"\n",
    "    Read a Delta table and write it with symlink manifest for Athena compatibility\n",
    "    \n",
    "    Args:\n",
    "        input_path (str): S3 path to source delta table\n",
    "        output_path (str): S3 path for output delta table\n",
    "        table_name (str): Name of the table for logging\n",
    "    \"\"\"\n",
    "    try:\n",
    "        # Read Delta table\n",
    "        print(f\"Reading {table_name} table from {input_path}\")\n",
    "        df = spark.read.format(\"delta\").load(input_path)\n",
    "        \n",
    "        # Write with Delta format\n",
    "        print(f\"Writing {table_name} table to {output_path}\")\n",
    "        df.write \\\n",
    "            .format(\"delta\") \\\n",
    "            .mode(\"overwrite\") \\\n",
    "            .save(output_path)\n",
    "        \n",
    "        # Generate manifest file\n",
    "        print(f\"Generating manifest for {table_name}\")\n",
    "        deltaTable = DeltaTable.forPath(spark, output_path)\n",
    "        deltaTable.generate(\"symlink_format_manifest\")\n",
    "        \n",
    "        print(f\"Successfully processed {table_name} table\")\n",
    "        print(f\"Row count: {df.count()}\")\n",
    "        \n",
    "    except Exception as e:\n",
    "        print(f\"Error processing {table_name} table\")\n",
    "        print(f\"Error: {str(e)}\")\n",
    "\n",
    "# Define bucket and paths\n",
    "bucket = \"yelp-stevenhurwitt-2\"\n",
    "tables = {\n",
    "    \"business\": {\"input\": f\"s3a://{bucket}/business\", \"output\": f\"s3a://{bucket}/business_athena\"},\n",
    "    \"checkins\": {\"input\": f\"s3a://{bucket}/checkins\", \"output\": f\"s3a://{bucket}/checkins_athena\"},\n",
    "    \"reviews\": {\"input\": f\"s3a://{bucket}/reviews\", \"output\": f\"s3a://{bucket}/reviews_athena\"},\n",
    "    \"tips\": {\"input\": f\"s3a://{bucket}/tips\", \"output\": f\"s3a://{bucket}/tips_athena\"},\n",
    "    \"users\": {\"input\": f\"s3a://{bucket}/users\", \"output\": f\"s3a://{bucket}/users_athena\"}\n",
    "}\n",
    "\n",
    "# Process all tables\n",
    "for table_name, paths in tables.items():\n",
    "    print(f\"\\nProcessing {table_name} table...\")\n",
    "    read_and_write_delta_with_manifest(\n",
    "        input_path=paths[\"input\"],\n",
    "        output_path=paths[\"output\"],\n",
    "        table_name=table_name\n",
    "    )"
   ]
  },
  {
   "cell_type": "markdown",
   "metadata": {},
   "source": [
    "## write to postgres"
   ]
  },
  {
   "cell_type": "code",
   "execution_count": null,
   "metadata": {},
   "outputs": [],
   "source": [
    "def write_to_postgres(df, table_name, mode=\"overwrite\"):\n",
    "    \"\"\"\n",
    "    Write DataFrame to PostgreSQL\n",
    "    \"\"\"\n",
    "    try:\n",
    "        print(f\"Writing {table_name} to PostgreSQL...\")\n",
    "        \n",
    "        df.write \\\n",
    "            .format(\"jdbc\") \\\n",
    "            .option(\"url\", f\"jdbc:postgresql://{creds['postgres_host']}:5433/{creds['postgres_db']}\") \\\n",
    "            .option(\"driver\", \"org.postgresql.Driver\") \\\n",
    "            .option(\"dbtable\", table_name) \\\n",
    "            .option(\"user\", creds[\"postgres_user\"]) \\\n",
    "            .option(\"password\", creds[\"postgres_pass\"]) \\\n",
    "            .mode(mode) \\\n",
    "            .save()\n",
    "            \n",
    "        print(f\"Successfully wrote {table_name} to PostgreSQL\")\n",
    "        \n",
    "    except Exception as e:\n",
    "        print(f\"Error writing {table_name} to PostgreSQL: {str(e)}\")\n",
    "\n",
    "# Process each table\n",
    "tables = {\n",
    "    \"business\": business_file,\n",
    "    \"checkins\": checkin_file,\n",
    "    \"reviews\": review_file,\n",
    "    \"tips\": tip_file,\n",
    "    \"users\": user_file\n",
    "}\n",
    "\n",
    "# Write each table to PostgreSQL\n",
    "for table_name, df in tables.items():\n",
    "    if df is not None:\n",
    "        # Convert map types to json strings for PostgreSQL compatibility\n",
    "        if table_name == \"business\":\n",
    "            df = df.withColumn(\"attributes\", to_json(\"attributes\")) \\\n",
    "                  .withColumn(\"hours\", to_json(\"hours\"))\n",
    "        elif table_name == \"users\":\n",
    "            df = df.withColumn(\"elite\", array_join(\"elite\", \",\")) \\\n",
    "                  .withColumn(\"friends\", array_join(\"friends\", \",\"))\n",
    "                  \n",
    "        write_to_postgres(df, table_name)\n",
    "\n",
    "# Verify row counts\n",
    "for table_name in tables.keys():\n",
    "    count_df = spark.read \\\n",
    "        .format(\"jdbc\") \\\n",
    "        .option(\"url\", f\"jdbc:postgresql://{creds['postgres_host']}:5433/{creds['postgres_db']}\") \\\n",
    "        .option(\"driver\", \"org.postgresql.Driver\") \\\n",
    "        .option(\"dbtable\", f\"(SELECT COUNT(*) as count FROM {table_name}) tmp\") \\\n",
    "        .option(\"user\", creds[\"postgres_user\"]) \\\n",
    "        .option(\"password\", creds[\"postgres_pass\"]) \\\n",
    "        .load()\n",
    "    \n",
    "    print(f\"{table_name} row count: {count_df.collect()[0]['count']}\")"
   ]
  },
  {
   "attachments": {},
   "cell_type": "markdown",
   "metadata": {},
   "source": [
    "### tip"
   ]
  },
  {
   "cell_type": "code",
   "execution_count": 6,
   "metadata": {},
   "outputs": [
    {
     "name": "stdout",
     "output_type": "stream",
     "text": [
      "{  'address': '1616 Chapala St, Ste 2',\n",
      "   'attributes': {'ByAppointmentOnly': 'True'},\n",
      "   'business_id': 'Pns2l4eNsfO8kk83dixA6A',\n",
      "   'categories': 'Doctors, Traditional Chinese Medicine, '\n",
      "                 'Naturopathic/Holistic, Acupuncture, Health & Medical, '\n",
      "                 'Nutritionists',\n",
      "   'city': 'Santa Barbara',\n",
      "   'hours': None,\n",
      "   'is_open': 0,\n",
      "   'latitude': 34.4266787,\n",
      "   'longitude': -119.7111968,\n",
      "   'name': 'Abby Rappoport, LAC, CMQ',\n",
      "   'postal_code': '93101',\n",
      "   'review_count': 7,\n",
      "   'stars': 5.0,\n",
      "   'state': 'CA'}\n"
     ]
    }
   ],
   "source": [
    "pp.pprint(tip_file[0])"
   ]
  },
  {
   "attachments": {},
   "cell_type": "markdown",
   "metadata": {},
   "source": [
    "### user"
   ]
  },
  {
   "cell_type": "code",
   "execution_count": 7,
   "metadata": {},
   "outputs": [
    {
     "name": "stdout",
     "output_type": "stream",
     "text": [
      "{  'address': '1616 Chapala St, Ste 2',\n",
      "   'attributes': {'ByAppointmentOnly': 'True'},\n",
      "   'business_id': 'Pns2l4eNsfO8kk83dixA6A',\n",
      "   'categories': 'Doctors, Traditional Chinese Medicine, '\n",
      "                 'Naturopathic/Holistic, Acupuncture, Health & Medical, '\n",
      "                 'Nutritionists',\n",
      "   'city': 'Santa Barbara',\n",
      "   'hours': None,\n",
      "   'is_open': 0,\n",
      "   'latitude': 34.4266787,\n",
      "   'longitude': -119.7111968,\n",
      "   'name': 'Abby Rappoport, LAC, CMQ',\n",
      "   'postal_code': '93101',\n",
      "   'review_count': 7,\n",
      "   'stars': 5.0,\n",
      "   'state': 'CA'}\n"
     ]
    }
   ],
   "source": [
    "pp.pprint(user_file[0])"
   ]
  },
  {
   "attachments": {},
   "cell_type": "markdown",
   "metadata": {},
   "source": [
    "### checkin"
   ]
  },
  {
   "cell_type": "code",
   "execution_count": 8,
   "metadata": {},
   "outputs": [
    {
     "name": "stdout",
     "output_type": "stream",
     "text": [
      "{  'address': '1616 Chapala St, Ste 2',\n",
      "   'attributes': {'ByAppointmentOnly': 'True'},\n",
      "   'business_id': 'Pns2l4eNsfO8kk83dixA6A',\n",
      "   'categories': 'Doctors, Traditional Chinese Medicine, '\n",
      "                 'Naturopathic/Holistic, Acupuncture, Health & Medical, '\n",
      "                 'Nutritionists',\n",
      "   'city': 'Santa Barbara',\n",
      "   'hours': None,\n",
      "   'is_open': 0,\n",
      "   'latitude': 34.4266787,\n",
      "   'longitude': -119.7111968,\n",
      "   'name': 'Abby Rappoport, LAC, CMQ',\n",
      "   'postal_code': '93101',\n",
      "   'review_count': 7,\n",
      "   'stars': 5.0,\n",
      "   'state': 'CA'}\n"
     ]
    }
   ],
   "source": [
    "pp.pprint(checkin_file[0])"
   ]
  },
  {
   "attachments": {},
   "cell_type": "markdown",
   "metadata": {},
   "source": [
    "### business"
   ]
  },
  {
   "cell_type": "code",
   "execution_count": 9,
   "metadata": {},
   "outputs": [
    {
     "name": "stdout",
     "output_type": "stream",
     "text": [
      "{  'address': '1616 Chapala St, Ste 2',\n",
      "   'attributes': {'ByAppointmentOnly': 'True'},\n",
      "   'business_id': 'Pns2l4eNsfO8kk83dixA6A',\n",
      "   'categories': 'Doctors, Traditional Chinese Medicine, '\n",
      "                 'Naturopathic/Holistic, Acupuncture, Health & Medical, '\n",
      "                 'Nutritionists',\n",
      "   'city': 'Santa Barbara',\n",
      "   'hours': None,\n",
      "   'is_open': 0,\n",
      "   'latitude': 34.4266787,\n",
      "   'longitude': -119.7111968,\n",
      "   'name': 'Abby Rappoport, LAC, CMQ',\n",
      "   'postal_code': '93101',\n",
      "   'review_count': 7,\n",
      "   'stars': 5.0,\n",
      "   'state': 'CA'}\n"
     ]
    }
   ],
   "source": [
    "pp.pprint(business_file[0])"
   ]
  },
  {
   "cell_type": "code",
   "execution_count": 10,
   "metadata": {},
   "outputs": [
    {
     "name": "stdout",
     "output_type": "stream",
     "text": [
      "created dynamo resource.\n"
     ]
    }
   ],
   "source": [
    "dynamodb = boto3.resource('dynamodb', endpoint_url=\"https://us-east-2.console.aws.amazon.com?arn=arn:aws:dynamodb:us-east-2134132211607:8000\")\n",
    "print('created dynamo resource.')\n",
    "\n",
    "# try:\n",
    "#     yelp_business = dynamodb.create_table(\n",
    "#             TableName='yelp.business',\n",
    "#             KeySchema=[\n",
    "#                 {\n",
    "#                     'AttributeName': 'business_id',\n",
    "#                     'KeyType': 'HASH'  # Partition key\n",
    "#                 }\n",
    "#             ],\n",
    "#             AttributeDefinitions=[\n",
    "#                 {\n",
    "#                     'AttributeName': 'name',\n",
    "#                     'AttributeType': 'S'\n",
    "#                 }\n",
    "#             ],\n",
    "#             ProvisionedThroughput={\n",
    "#                 'ReadCapacityUnits': 25,\n",
    "#                 'WriteCapacityUnits': 20\n",
    "#             }\n",
    "#         )\n",
    "#     print('created dynamo table.')\n",
    "\n",
    "# except Exception as e:\n",
    "#     print(f\"exception: {e}\")\n",
    "#     print(\"failed to create dynamo table.\")"
   ]
  },
  {
   "cell_type": "code",
   "execution_count": 11,
   "metadata": {},
   "outputs": [
    {
     "name": "stdout",
     "output_type": "stream",
     "text": [
      "yelp-dataset-stevenhurwitt\n"
     ]
    }
   ],
   "source": [
    "print(bucket) "
   ]
  },
  {
   "cell_type": "code",
   "execution_count": 12,
   "metadata": {},
   "outputs": [
    {
     "name": "stdout",
     "output_type": "stream",
     "text": [
      "raw/yelp_academic_dataset_business.json\n"
     ]
    }
   ],
   "source": [
    "print(file)"
   ]
  },
  {
   "cell_type": "code",
   "execution_count": 13,
   "metadata": {},
   "outputs": [
    {
     "name": "stdout",
     "output_type": "stream",
     "text": [
      "150346\n",
      "150346\n"
     ]
    }
   ],
   "source": [
    "print(len(business_file))\n",
    "print(len(checkin_file))\n",
    "# review_file = read_json(\"raw/yelp_academic_dataset_review.json\")\n",
    "# tip_file = read_json(\"raw/yelp_academic_dataset_tip.json\")\n",
    "# user_file = read_json(\"raw/yelp_academic_dataset_user.json\")\n"
   ]
  },
  {
   "cell_type": "code",
   "execution_count": 14,
   "metadata": {},
   "outputs": [
    {
     "name": "stdout",
     "output_type": "stream",
     "text": [
      "business json file has 150346 records with size of 1.28316 mb.\n",
      "tip json file has 150346 records with size of 1.28316 mb.\n",
      "user json file has 150346 records with size of 1.28316 mb.\n",
      "review json file has 150346 records with size of 1.28316 mb.\n",
      "checkin json file has 150346 records with size of 1.28316 mb.\n"
     ]
    }
   ],
   "source": [
    "print('business json file has {} records with size of {} mb.'.format(len(business_file), sys.getsizeof(business_file)/1000000))\n",
    "print('tip json file has {} records with size of {} mb.'.format(len(tip_file), sys.getsizeof(tip_file)/1000000))\n",
    "print('user json file has {} records with size of {} mb.'.format(len(user_file), sys.getsizeof(user_file)/1000000))\n",
    "print('review json file has {} records with size of {} mb.'.format(len(review_file), sys.getsizeof(review_file)/1000000))\n",
    "print('checkin json file has {} records with size of {} mb.'.format(len(checkin_file), sys.getsizeof(checkin_file)/1000000))\n"
   ]
  },
  {
   "cell_type": "code",
   "execution_count": 15,
   "metadata": {},
   "outputs": [],
   "source": [
    "# df_pandas = business.toPandas()"
   ]
  },
  {
   "cell_type": "code",
   "execution_count": 16,
   "metadata": {},
   "outputs": [],
   "source": [
    "# html_df = df_pandas.to_html()"
   ]
  },
  {
   "cell_type": "code",
   "execution_count": 17,
   "metadata": {},
   "outputs": [],
   "source": [
    "# display(html_df)"
   ]
  },
  {
   "cell_type": "code",
   "execution_count": 18,
   "metadata": {},
   "outputs": [],
   "source": [
    "# ! gcloud auth login --no-launch-browser"
   ]
  },
  {
   "cell_type": "code",
   "execution_count": null,
   "metadata": {},
   "outputs": [],
   "source": []
  },
  {
   "cell_type": "code",
   "execution_count": null,
   "metadata": {},
   "outputs": [],
   "source": []
  }
 ],
 "metadata": {
  "kernelspec": {
   "display_name": "Python 3 (ipykernel)",
   "language": "python",
   "name": "python3"
  },
  "language_info": {
   "codemirror_mode": {
    "name": "ipython",
    "version": 3
   },
   "file_extension": ".py",
   "mimetype": "text/x-python",
   "name": "python",
   "nbconvert_exporter": "python",
   "pygments_lexer": "ipython3",
   "version": "3.7.3"
  },
  "orig_nbformat": 4
 },
 "nbformat": 4,
 "nbformat_minor": 2
}
